{
 "cells": [
  {
   "cell_type": "code",
   "execution_count": 14,
   "id": "88610ed7",
   "metadata": {},
   "outputs": [],
   "source": [
    "# import libraries \n",
    "\n",
    "from bs4 import BeautifulSoup\n",
    "import requests, re\n",
    "import time\n",
    "import datetime\n",
    "\n",
    "import smtplib    # for sending emails to your self"
   ]
  },
  {
   "cell_type": "code",
   "execution_count": 15,
   "id": "eefc05b4",
   "metadata": {},
   "outputs": [],
   "source": [
    "# Connect to Website and pull in data\n",
    "\n",
    "URL = 'https://www.amazon.in/Apple-iPhone-Pro-Max-256GB/dp/B09G93NZVW/ref=sr_1_2?crid=1F32X63TLLDC&keywords=iphone+13+pro+max+gold+256+gb&qid=1659409631&sprefix=iphone+13+pro+max+gold+256+gb%2Caps%2C870&sr=8-2'\n",
    "\n",
    "headers = {\"User-Agent\":  \"Mozilla/5.0 (Windows NT 10.0; Win64; x64) AppleWebKit/537.36 (KHTML, like Gecko) Chrome/103.0.0.0 Safari/537.36\", \"Accept-Encoding\":\"gzip, deflate\", \"Accept\":\"text/html,application/xhtml+xml,application/xml;q=0.9,*/*;q=0.8\", \"DNT\":\"1\",\"Connection\":\"close\", \"Upgrade-Insecure-Requests\":\"1\"}\n",
    "\n",
    "page = requests.get(URL, headers=headers)\n",
    "\n",
    "soup1 = BeautifulSoup(page.content, \"html.parser\")\n",
    "\n",
    "# print(soup1)  -- using print(soup1), we are pulling in all of the HTML\n",
    "\n",
    "\n",
    "soup2 = BeautifulSoup(soup1.prettify(), \"html.parser\")   \n",
    "# print(soup2)\n",
    "# its basically a kind of upgrade to soup1 and will present the HTML extracts in better formatting\n",
    "\n",
    "\n",
    "\n",
    "\n",
    "\n"
   ]
  },
  {
   "cell_type": "code",
   "execution_count": 16,
   "id": "11152efe",
   "metadata": {},
   "outputs": [
    {
     "name": "stdout",
     "output_type": "stream",
     "text": [
      "\n",
      "           Apple iPhone 13 Pro Max (256GB) - Gold\n",
      "          \n",
      "\n",
      "\n",
      "              ₹1,39,900.00\n",
      "             \n",
      "\n",
      "              ₹1,39,900.00\n",
      "             \n",
      "\n",
      "\n",
      "           -8%\n",
      "          \n",
      "\n",
      "                             ₹1,28,900.00\n",
      "                            \n"
     ]
    }
   ],
   "source": [
    "title = soup2.find(id='productTitle').get_text()\n",
    "\n",
    "org_price=soup2.find(\"span\", class_=\"a-price a-text-price\").get_text()\n",
    "\n",
    "discount_percent=soup2.find(\"span\", class_=\"a-size-large a-color-price savingPriceOverride aok-align-center reinventPriceSavingsPercentageMargin savingsPercentage\").get_text()\n",
    "\n",
    "listed_price=soup2.find(\"span\", class_=\"a-offscreen\").get_text()\n",
    "\n",
    "\n",
    "print(title)\n",
    "print(org_price)\n",
    "print(discount_percent)\n",
    "print(listed_price)\n",
    "\n"
   ]
  },
  {
   "cell_type": "code",
   "execution_count": 17,
   "id": "e37dbf4c",
   "metadata": {},
   "outputs": [
    {
     "name": "stdout",
     "output_type": "stream",
     "text": [
      "128900.0\n",
      "Apple iPhone 13 Pro Max (256GB) - Gold\n",
      "₹1,39,900.00\n",
      "             \n",
      "\n",
      "              ₹1,39,900.00\n",
      "₹1,28,900.00\n",
      "-8%\n"
     ]
    }
   ],
   "source": [
    "# Clean up the data a little bit   to remove the excess space \n",
    "title = title.strip()\n",
    "org_price=org_price.strip()\n",
    "listed_price =listed_price.strip()\n",
    "discount_percent= discount_percent.strip()\n",
    "\n",
    "\n",
    "\n",
    "price = float(listed_price.replace('₹','').replace(',',''))\n",
    "print(price)\n",
    "\n",
    "print(title)\n",
    "print(org_price)\n",
    "print(listed_price)\n",
    "print(discount_percent)"
   ]
  },
  {
   "cell_type": "code",
   "execution_count": 18,
   "id": "9327d064",
   "metadata": {},
   "outputs": [
    {
     "name": "stdout",
     "output_type": "stream",
     "text": [
      "128900.0\n",
      "Apple iPhone 13 Pro Max (256GB) - Gold\n",
      "1,39,900.00\n",
      "1,28,900.00\n",
      "8%\n"
     ]
    }
   ],
   "source": [
    "# to remove the repeating values\n",
    "org_price=org_price.strip()[43:]\n",
    "listed_price=listed_price.strip()[1:]\n",
    "discount_percent=discount_percent.strip()[1:]\n",
    "\n",
    "# price = float(listed_price.replace('₹','').replace(',',''))\n",
    "\n",
    "print(price)\n",
    "print(title)\n",
    "print(org_price)\n",
    "print(listed_price)\n",
    "print(discount_percent)\n",
    "\n",
    "\n"
   ]
  },
  {
   "cell_type": "code",
   "execution_count": 19,
   "id": "1c67bfc0",
   "metadata": {},
   "outputs": [
    {
     "name": "stdout",
     "output_type": "stream",
     "text": [
      "2022-08-17\n"
     ]
    }
   ],
   "source": [
    "# Create a Timestamp for your output to track when data was collected\n",
    "\n",
    "import datetime\n",
    "\n",
    "today = datetime.date.today()\n",
    "\n",
    "print(today)"
   ]
  },
  {
   "cell_type": "code",
   "execution_count": 23,
   "id": "90cddcf8",
   "metadata": {},
   "outputs": [],
   "source": [
    "# Create CSV and write headers and data into the csv file and then later append more datas into the csv\n",
    "\n",
    "import csv \n",
    "\n",
    "header = ['Product_Title', 'Product_Price','Product_MRP','Discount_%','Date_Collected']\n",
    "data = [title, listed_price, org_price, discount_percent, today]\n",
    "\n",
    "# Creating an csv\n",
    "\n",
    "with open('AmazonWebScraperDataset.csv', 'w', newline='', encoding='UTF8') as f:\n",
    "    writer = csv.writer(f)\n",
    "    writer.writerow(header)\n",
    "    writer.writerow(data)\n",
    "    \n",
    "        \n",
    "        \n",
    "# 'w' means to write,  newline='' to avoid the space between the datas while insertion,   \n",
    "\n"
   ]
  },
  {
   "cell_type": "code",
   "execution_count": 24,
   "id": "423aa571",
   "metadata": {},
   "outputs": [
    {
     "name": "stdout",
     "output_type": "stream",
     "text": [
      "                            Product_Title Product_Price  Product_MRP  \\\n",
      "0  Apple iPhone 13 Pro Max (256GB) - Gold   1,28,900.00  1,39,900.00   \n",
      "\n",
      "  Discount_% Date_Collected  \n",
      "0         8%     2022-08-17  \n"
     ]
    }
   ],
   "source": [
    "import pandas as pd\n",
    "\n",
    "df = pd.read_csv(r'C:\\Users\\Kislay Karan\\Downloads\\New folder\\New folder\\Dedicated_CSV_Files\\10_AmazonWebScraperDataset.csv')\n",
    "\n",
    "print(df)"
   ]
  },
  {
   "cell_type": "code",
   "execution_count": 26,
   "id": "87ab186f",
   "metadata": {},
   "outputs": [],
   "source": [
    "#Now we are appending data to the csv\n",
    "\n",
    "#Instead of 'w' we gonna write 'a+' which makes us append the data\n",
    "with open('AmazonWebScraperDataset.csv', 'a+', newline='', encoding='UTF8') as f:\n",
    "    writer = csv.writer(f)\n",
    "    writer.writerow(data)"
   ]
  },
  {
   "cell_type": "code",
   "execution_count": 27,
   "id": "1383484b",
   "metadata": {},
   "outputs": [
    {
     "name": "stdout",
     "output_type": "stream",
     "text": [
      "                            Product_Title Product_Price  Product_MRP  \\\n",
      "0  Apple iPhone 13 Pro Max (256GB) - Gold   1,28,900.00  1,39,900.00   \n",
      "\n",
      "  Discount_% Date_Collected  \n",
      "0         8%     2022-08-17  \n"
     ]
    }
   ],
   "source": [
    "import pandas as pd\n",
    "\n",
    "df = pd.read_csv(r'C:\\Users\\Kislay Karan\\Downloads\\New folder\\New folder\\Dedicated_CSV_Files\\10_AmazonWebScraperDataset.csv')\n",
    "\n",
    "print(df)"
   ]
  },
  {
   "cell_type": "code",
   "execution_count": 28,
   "id": "fc3e528a",
   "metadata": {},
   "outputs": [
    {
     "data": {
      "text/plain": [
       "Product_Title     object\n",
       "Product_Price     object\n",
       "Product_MRP       object\n",
       "Discount_%        object\n",
       "Date_Collected    object\n",
       "dtype: object"
      ]
     },
     "execution_count": 28,
     "metadata": {},
     "output_type": "execute_result"
    }
   ],
   "source": [
    "df.dtypes"
   ]
  },
  {
   "cell_type": "code",
   "execution_count": 29,
   "id": "003dd136",
   "metadata": {},
   "outputs": [],
   "source": [
    "# Combining all of the above code into one function\n",
    "\n",
    "\n",
    "def check_price():\n",
    "    \n",
    "    URL = 'https://www.amazon.in/Apple-iPhone-Pro-Max-256GB/dp/B09G93NZVW/ref=sr_1_2?crid=1F32X63TLLDC&keywords=iphone+13+pro+max+gold+256+gb&qid=1659409631&sprefix=iphone+13+pro+max+gold+256+gb%2Caps%2C870&sr=8-2'\n",
    "\n",
    "    headers = {\"User-Agent\":  \"Mozilla/5.0 (Windows NT 10.0; Win64; x64) AppleWebKit/537.36 (KHTML, like Gecko) Chrome/103.0.0.0 Safari/537.36\", \"Accept-Encoding\":\"gzip, deflate\", \"Accept\":\"text/html,application/xhtml+xml,application/xml;q=0.9,*/*;q=0.8\", \"DNT\":\"1\",\"Connection\":\"close\", \"Upgrade-Insecure-Requests\":\"1\"}\n",
    "\n",
    "    page = requests.get(URL, headers=headers)\n",
    "\n",
    "    soup1 = BeautifulSoup(page.content, \"html.parser\")\n",
    "\n",
    "    soup2 = BeautifulSoup(soup1.prettify(), \"html.parser\")   \n",
    "    \n",
    "    title = soup2.find(id='productTitle').get_text()\n",
    "\n",
    "    org_price=soup2.find(\"span\", class_=\"a-price a-text-price\").get_text()\n",
    "\n",
    "    discount_percent=soup2.find(\"span\", class_=\"a-size-large a-color-price savingPriceOverride aok-align-center reinventPriceSavingsPercentageMargin savingsPercentage\").get_text()\n",
    "\n",
    "    listed_price=soup2.find(\"span\", class_=\"a-offscreen\").get_text()\n",
    "\n",
    "    # Clean up the data a little bit   to remove the excess space and repeating values\n",
    "\n",
    "    title = title.strip()\n",
    "    org_price=org_price.strip()\n",
    "    listed_price =listed_price.strip().strip()\n",
    "    discount_percent= discount_percent.strip()\n",
    "    price = float(listed_price.replace('₹','').replace(',',''))\n",
    "    \n",
    "    org_price=org_price.strip()[43:]\n",
    "    listed_price=listed_price.strip()[1:]\n",
    "    discount_percent=discount_percent.strip()[1:]\n",
    "    \n",
    "    \n",
    "    \n",
    "    # Create a Timestamp for your output to track when data was collected\n",
    "\n",
    "    import datetime\n",
    "\n",
    "    today = datetime.date.today()\n",
    "    \n",
    "    \n",
    "    import csv \n",
    "\n",
    "    header = ['Product_Title', 'Product_Price','Product_MRP','Discount_%' 'Date_Collected']\n",
    "    data = [title, listed_price, org_price, discount_percent, today]\n",
    "\n",
    "    \n",
    "    with open('AmazonWebScraperDataset.csv', 'a+', newline='', encoding='UTF8') as f:\n",
    "        writer = csv.writer(f)\n",
    "        writer.writerow(data)\n",
    "        \n",
    "\n",
    "        \n",
    "    if(price< 120000.00):\n",
    "        send_mail()"
   ]
  },
  {
   "cell_type": "code",
   "execution_count": null,
   "id": "011c211e",
   "metadata": {},
   "outputs": [],
   "source": [
    "# Runs check_price after a set time and inputs data into your CSV\n",
    "\n",
    "while(True):\n",
    "    check_price()\n",
    "    time.sleep(86400)"
   ]
  },
  {
   "cell_type": "code",
   "execution_count": null,
   "id": "1ed5dc22",
   "metadata": {},
   "outputs": [],
   "source": [
    "# If uou want to try sending yourself an email (just for fun) when a price hits below a certain level you can try it\n",
    "# out with this script\n",
    "\n",
    "def send_mail():\n",
    "    server = smtplib.SMTP_SSL('smtp.gmail.com',465)\n",
    "    server.ehlo()\n",
    "    #server.starttls() : StartTLS is a protocol command used to inform the email server that the email client wants to upgrade from an insecure connection to a secure one using TLS or SSL\n",
    "    server.ehlo()\n",
    "    server.login('kislaykrn@gmail.com','xxxxxxxxxxxxxx')\n",
    "    \n",
    "    subject = \"The iPhone 13 you want is below Rs 120000 Now is your chance to buy!\"\n",
    "    body = \"Karan, This is the moment we have been waiting for. Now is your chance to pick up the shirt of your dreams. Don't mess it up! Link here: https://www.amazon.in/Apple-iPhone-Pro-Max-256GB/dp/B09G93NZVW/ref=sr_1_2?crid=1F32X63TLLDC&keywords=iphone+13+pro+max+gold+256+gb&qid=1659409631&sprefix=iphone+13+pro+max+gold+256+gb%2Caps%2C870&sr=8-2\"\n",
    "   \n",
    "    msg = f\"Subject: {subject}\\n\\n{body}\"\n",
    "    \n",
    "    server.sendmail(\n",
    "        'kislaykrn@gmail.com',\n",
    "        msg\n",
    "     \n",
    "    )"
   ]
  },
  {
   "cell_type": "code",
   "execution_count": null,
   "id": "23dd58f5",
   "metadata": {},
   "outputs": [],
   "source": []
  }
 ],
 "metadata": {
  "kernelspec": {
   "display_name": "Python 3 (ipykernel)",
   "language": "python",
   "name": "python3"
  },
  "language_info": {
   "codemirror_mode": {
    "name": "ipython",
    "version": 3
   },
   "file_extension": ".py",
   "mimetype": "text/x-python",
   "name": "python",
   "nbconvert_exporter": "python",
   "pygments_lexer": "ipython3",
   "version": "3.9.7"
  }
 },
 "nbformat": 4,
 "nbformat_minor": 5
}
