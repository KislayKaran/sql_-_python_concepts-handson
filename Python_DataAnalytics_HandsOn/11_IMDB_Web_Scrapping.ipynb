{
 "cells": [
  {
   "cell_type": "markdown",
   "id": "99c15733",
   "metadata": {},
   "source": [
    "Web Scraping is the process of programmatically extracting some data from a website. \n",
    "In Python, we can easy write program to scrape website by using the Beautiful Soup and Requests module. \n",
    "\n",
    "Requests module can be used to access the desired website and Beautiful Soup module\n",
    "can be used to parse the HTML source code of the website. Beautiful soup makes it \n",
    "very easy to parse HTML content and then provides multiple methods which can be used\n",
    "to extract the data from any HTML tags."
   ]
  },
  {
   "cell_type": "code",
   "execution_count": null,
   "id": "4e1b7640",
   "metadata": {},
   "outputs": [],
   "source": [
    "pip install requests"
   ]
  },
  {
   "cell_type": "code",
   "execution_count": null,
   "id": "54fdc85e",
   "metadata": {},
   "outputs": [],
   "source": [
    "pip install bs4"
   ]
  },
  {
   "cell_type": "code",
   "execution_count": null,
   "id": "e972a82c",
   "metadata": {},
   "outputs": [],
   "source": [
    "# import libraries \n",
    "\n",
    "from bs4 import BeautifulSoup\n",
    "import requests, openpyxl                       # to access the website"
   ]
  },
  {
   "cell_type": "code",
   "execution_count": null,
   "id": "91fc2b50",
   "metadata": {},
   "outputs": [],
   "source": [
    "excel = openpyxl.Workbook()             # will create new excel file.\n",
    "print(excel.sheetnames)\n",
    "sheet = excel.active\n",
    "sheet.title='250 Top Rated Movies '\n",
    "print(excel.sheetnames)\n",
    "sheet.append(['Movie Rank', 'Movie Name', 'Release Year', 'IMDB Rating'])"
   ]
  },
  {
   "cell_type": "code",
   "execution_count": null,
   "id": "8d949c07",
   "metadata": {},
   "outputs": [],
   "source": [
    "try:\n",
    "    source= requests.get('https://www.imdb.com/chart/top/')   # request & access the website to return a response object ( will have html soure code of the web page)\n",
    "    source.raise_for_status()                                 # in case the above url has any issues....it will show an error    \n",
    "    \n",
    "    soup = BeautifulSoup(source.text,'html.parser')    # passing the source code (html text) from the response object to Beutiful Soup\n",
    "    \n",
    "    movies = soup.find('tbody',class_=\"lister-list\").find_all('tr')\n",
    "    print(len(movies))\n",
    "       \n",
    "    for movie in movies:\n",
    "        name= movie.find('td', class_=\"titleColumn\").a.text\n",
    "        rank= movie.find('td', class_=\"titleColumn\").get_text(strip=True).split('.')[0]    # wiil strip all the new line characters tabs or spaces\n",
    "        year= movie.find('td', class_=\"titleColumn\").span.text.strip('()')\n",
    "        rating = movie.find('td', class_=\"ratingColumn imdbRating\").strong.text\n",
    "        print(rank, name, year, rating)\n",
    "        sheet.append([rank, name, year, rating])\n",
    "except Exception as e:\n",
    "    print(e)\n",
    "    \n",
    "excel.save('IMDB Movie Rating.xlsx')    "
   ]
  },
  {
   "cell_type": "markdown",
   "id": "843ca06c",
   "metadata": {},
   "source": [
    "# Loading all the extracted files into the CSV File"
   ]
  },
  {
   "cell_type": "code",
   "execution_count": null,
   "id": "5259bbff",
   "metadata": {},
   "outputs": [],
   "source": []
  },
  {
   "cell_type": "code",
   "execution_count": null,
   "id": "662e19f8",
   "metadata": {},
   "outputs": [],
   "source": []
  },
  {
   "cell_type": "code",
   "execution_count": null,
   "id": "a5a48162",
   "metadata": {},
   "outputs": [],
   "source": []
  }
 ],
 "metadata": {
  "kernelspec": {
   "display_name": "Python 3 (ipykernel)",
   "language": "python",
   "name": "python3"
  },
  "language_info": {
   "codemirror_mode": {
    "name": "ipython",
    "version": 3
   },
   "file_extension": ".py",
   "mimetype": "text/x-python",
   "name": "python",
   "nbconvert_exporter": "python",
   "pygments_lexer": "ipython3",
   "version": "3.9.7"
  }
 },
 "nbformat": 4,
 "nbformat_minor": 5
}
