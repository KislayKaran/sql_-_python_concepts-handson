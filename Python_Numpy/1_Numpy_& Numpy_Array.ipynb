{
 "cells": [
  {
   "cell_type": "code",
   "execution_count": 1,
   "id": "8946ebde",
   "metadata": {},
   "outputs": [],
   "source": [
    "import numpy as np"
   ]
  },
  {
   "cell_type": "code",
   "execution_count": 2,
   "id": "836eacf0",
   "metadata": {},
   "outputs": [],
   "source": [
    "import time\n",
    "import sys"
   ]
  },
  {
   "cell_type": "markdown",
   "id": "86e39b0c",
   "metadata": {},
   "source": [
    "To Prove that Numpy Array utilizes less memory compared to Python list"
   ]
  },
  {
   "cell_type": "code",
   "execution_count": 3,
   "id": "fb13c226",
   "metadata": {},
   "outputs": [
    {
     "name": "stdout",
     "output_type": "stream",
     "text": [
      "28000\n"
     ]
    }
   ],
   "source": [
    "b=range(1000)                   #total memory occupied = (size of a single element * total no of elements)\n",
    "print(sys.getsizeof(5)*len(b))   "
   ]
  },
  {
   "cell_type": "code",
   "execution_count": 4,
   "id": "a53ac190",
   "metadata": {},
   "outputs": [
    {
     "name": "stdout",
     "output_type": "stream",
     "text": [
      "4000\n"
     ]
    }
   ],
   "source": [
    "c=np.arange(1000)     # total memory occupied = (total no of elements of the array * size in bytes of each element of the array)\n",
    "print(c.size*c.itemsize)"
   ]
  },
  {
   "cell_type": "markdown",
   "id": "07749367",
   "metadata": {},
   "source": [
    "Numpy Array is way more faster than Python List in performing any kind of operations"
   ]
  },
  {
   "cell_type": "code",
   "execution_count": 5,
   "id": "e8d794a4",
   "metadata": {},
   "outputs": [],
   "source": [
    "size=100000\n",
    "L1=range(size)\n",
    "L2=range(size)\n",
    "A1=np.arange(size)\n",
    "A2=np.arange(size)"
   ]
  },
  {
   "cell_type": "code",
   "execution_count": 6,
   "id": "d7facfe3",
   "metadata": {},
   "outputs": [
    {
     "name": "stdout",
     "output_type": "stream",
     "text": [
      "Python List took: 15.623092651367188\n"
     ]
    }
   ],
   "source": [
    "start=time.time()\n",
    "result=[(x+y) for x,y in zip(L1,L2)]\n",
    "print(\"Python List took:\", (time.time()-start)*1000)"
   ]
  },
  {
   "cell_type": "code",
   "execution_count": 7,
   "id": "930274ac",
   "metadata": {},
   "outputs": [
    {
     "name": "stdout",
     "output_type": "stream",
     "text": [
      "Numpy array took: 1.9996166229248047\n"
     ]
    }
   ],
   "source": [
    "start=time.time()\n",
    "result=A1+A2\n",
    "print(\"Numpy array took:\", (time.time()-start)*1000)"
   ]
  },
  {
   "cell_type": "markdown",
   "id": "de307850",
   "metadata": {},
   "source": [
    "# 1-D Array"
   ]
  },
  {
   "cell_type": "code",
   "execution_count": 8,
   "id": "2c99e4c4",
   "metadata": {},
   "outputs": [
    {
     "name": "stdout",
     "output_type": "stream",
     "text": [
      "[1 2 3]\n"
     ]
    }
   ],
   "source": [
    "a=np.array([1,2,3])\n",
    "print(a)"
   ]
  },
  {
   "cell_type": "code",
   "execution_count": 9,
   "id": "56b9b410",
   "metadata": {},
   "outputs": [
    {
     "data": {
      "text/plain": [
       "1"
      ]
     },
     "execution_count": 9,
     "metadata": {},
     "output_type": "execute_result"
    }
   ],
   "source": [
    "a[0]"
   ]
  },
  {
   "cell_type": "code",
   "execution_count": 10,
   "id": "13cf35ae",
   "metadata": {},
   "outputs": [
    {
     "data": {
      "text/plain": [
       "array([0, 1, 2, 3, 4, 5, 6, 7, 8, 9])"
      ]
     },
     "execution_count": 10,
     "metadata": {},
     "output_type": "execute_result"
    }
   ],
   "source": [
    "arr=np.arange(10)   #widely used arrange function to create 1-D array\n",
    "arr\n"
   ]
  },
  {
   "cell_type": "code",
   "execution_count": 11,
   "id": "78073865",
   "metadata": {},
   "outputs": [
    {
     "data": {
      "text/plain": [
       "(10,)"
      ]
     },
     "execution_count": 11,
     "metadata": {},
     "output_type": "execute_result"
    }
   ],
   "source": [
    "arr.shape"
   ]
  },
  {
   "cell_type": "code",
   "execution_count": 12,
   "id": "ae874f3c",
   "metadata": {},
   "outputs": [
    {
     "data": {
      "text/plain": [
       "array([12, 45, 32, 99])"
      ]
     },
     "execution_count": 12,
     "metadata": {},
     "output_type": "execute_result"
    }
   ],
   "source": [
    "list1=[12,45,32,99]   #changing list into an array \n",
    "arr1=np.array(list1)\n",
    "arr1"
   ]
  },
  {
   "cell_type": "code",
   "execution_count": 13,
   "id": "04d20c6c",
   "metadata": {},
   "outputs": [
    {
     "name": "stdout",
     "output_type": "stream",
     "text": [
      "[12 45 32 99]\n"
     ]
    }
   ],
   "source": [
    "print(arr1)              #printing an array"
   ]
  },
  {
   "cell_type": "code",
   "execution_count": 14,
   "id": "d34cec99",
   "metadata": {},
   "outputs": [
    {
     "data": {
      "text/plain": [
       "32"
      ]
     },
     "execution_count": 14,
     "metadata": {},
     "output_type": "execute_result"
    }
   ],
   "source": [
    "arr1[2]  #accessimg the value of an array"
   ]
  },
  {
   "cell_type": "code",
   "execution_count": 15,
   "id": "9f8b74fb",
   "metadata": {},
   "outputs": [
    {
     "name": "stdout",
     "output_type": "stream",
     "text": [
      "[12 45 26 99]\n"
     ]
    }
   ],
   "source": [
    "arr1[2]=26   #changing the values of an existing array {arrays are mutable,can change values after creation}\n",
    "print(arr1)"
   ]
  },
  {
   "cell_type": "markdown",
   "id": "6ac7abd8",
   "metadata": {},
   "source": [
    "# 2-D Array"
   ]
  },
  {
   "cell_type": "code",
   "execution_count": 16,
   "id": "e10368c5",
   "metadata": {},
   "outputs": [],
   "source": [
    "import numpy as np"
   ]
  },
  {
   "cell_type": "code",
   "execution_count": 17,
   "id": "0b2c5d60",
   "metadata": {},
   "outputs": [
    {
     "data": {
      "text/plain": [
       "array([[ 0,  1,  2],\n",
       "       [ 3,  4,  5],\n",
       "       [ 6,  7,  8],\n",
       "       [ 9, 10, 11],\n",
       "       [12, 13, 14],\n",
       "       [15, 16, 17]])"
      ]
     },
     "execution_count": 17,
     "metadata": {},
     "output_type": "execute_result"
    }
   ],
   "source": [
    "arr=np.arange(18).reshape(6,3)   # 'reshape' function is used along with the the 'arange' function for creating a 2-D array\n",
    "arr"
   ]
  },
  {
   "cell_type": "code",
   "execution_count": 18,
   "id": "8e8cd100",
   "metadata": {},
   "outputs": [
    {
     "name": "stdout",
     "output_type": "stream",
     "text": [
      "[[ 0  1  2]\n",
      " [ 3  4  5]\n",
      " [ 6  7  8]\n",
      " [ 9 10 11]\n",
      " [12 13 14]\n",
      " [15 16 17]]\n"
     ]
    }
   ],
   "source": [
    "print(arr)"
   ]
  },
  {
   "cell_type": "code",
   "execution_count": 19,
   "id": "862daa12",
   "metadata": {},
   "outputs": [
    {
     "data": {
      "text/plain": [
       "array([[45, 23, 98],\n",
       "       [36, 21, 89]])"
      ]
     },
     "execution_count": 19,
     "metadata": {},
     "output_type": "execute_result"
    }
   ],
   "source": [
    "arr1=np.array([[45,23,98],                #another method of creating an array\n",
    "             [36,21,89]])\n",
    "arr1"
   ]
  },
  {
   "cell_type": "code",
   "execution_count": 20,
   "id": "1034592a",
   "metadata": {},
   "outputs": [
    {
     "data": {
      "text/plain": [
       "14"
      ]
     },
     "execution_count": 20,
     "metadata": {},
     "output_type": "execute_result"
    }
   ],
   "source": [
    "arr[4][2]        #accesing the array element"
   ]
  },
  {
   "cell_type": "code",
   "execution_count": 21,
   "id": "cfab04c3",
   "metadata": {},
   "outputs": [
    {
     "data": {
      "text/plain": [
       "14"
      ]
     },
     "execution_count": 21,
     "metadata": {},
     "output_type": "execute_result"
    }
   ],
   "source": [
    "arr[4,2]         #accesing the array element"
   ]
  },
  {
   "cell_type": "code",
   "execution_count": 22,
   "id": "45db14f5",
   "metadata": {},
   "outputs": [
    {
     "name": "stdout",
     "output_type": "stream",
     "text": [
      "[[45 23 98]\n",
      " [36 21 57]]\n"
     ]
    }
   ],
   "source": [
    "arr1[1][2]=57   #modifying the existing 2-D array element\n",
    "print(arr1)"
   ]
  },
  {
   "cell_type": "markdown",
   "id": "993a0ae9",
   "metadata": {},
   "source": [
    "# Attributes of Numpy Array"
   ]
  },
  {
   "cell_type": "code",
   "execution_count": 23,
   "id": "1623098c",
   "metadata": {},
   "outputs": [
    {
     "data": {
      "text/plain": [
       "2"
      ]
     },
     "execution_count": 23,
     "metadata": {},
     "output_type": "execute_result"
    }
   ],
   "source": [
    "arr1.ndim      # 1.'ndim': gives the no. of diemensions, of the array as an integer value"
   ]
  },
  {
   "cell_type": "code",
   "execution_count": 24,
   "id": "359e7599",
   "metadata": {},
   "outputs": [
    {
     "data": {
      "text/plain": [
       "1"
      ]
     },
     "execution_count": 24,
     "metadata": {},
     "output_type": "execute_result"
    }
   ],
   "source": [
    "a.ndim         # for 1-D array its 1 and for 2-D array its 2............for N-D array its N."
   ]
  },
  {
   "cell_type": "code",
   "execution_count": 25,
   "id": "9c5244ba",
   "metadata": {},
   "outputs": [
    {
     "data": {
      "text/plain": [
       "(6, 3)"
      ]
     },
     "execution_count": 25,
     "metadata": {},
     "output_type": "execute_result"
    }
   ],
   "source": [
    "arr.shape     # 2.'shape': gives the size of an array for each diemension  "
   ]
  },
  {
   "cell_type": "code",
   "execution_count": 26,
   "id": "d88ff529",
   "metadata": {},
   "outputs": [
    {
     "data": {
      "text/plain": [
       "(2, 3)"
      ]
     },
     "execution_count": 26,
     "metadata": {},
     "output_type": "execute_result"
    }
   ],
   "source": [
    "arr1.shape"
   ]
  },
  {
   "cell_type": "code",
   "execution_count": 27,
   "id": "b9e68f9b",
   "metadata": {},
   "outputs": [
    {
     "data": {
      "text/plain": [
       "(3,)"
      ]
     },
     "execution_count": 27,
     "metadata": {},
     "output_type": "execute_result"
    }
   ],
   "source": [
    "a.shape"
   ]
  },
  {
   "cell_type": "code",
   "execution_count": 28,
   "id": "987e6cfe",
   "metadata": {},
   "outputs": [
    {
     "data": {
      "text/plain": [
       "3"
      ]
     },
     "execution_count": 28,
     "metadata": {},
     "output_type": "execute_result"
    }
   ],
   "source": [
    "a.size       # 3.'size': gives the total no of elements of the array [product of elements of shape (rows x columns)]"
   ]
  },
  {
   "cell_type": "code",
   "execution_count": 29,
   "id": "1d118afd",
   "metadata": {},
   "outputs": [
    {
     "data": {
      "text/plain": [
       "18"
      ]
     },
     "execution_count": 29,
     "metadata": {},
     "output_type": "execute_result"
    }
   ],
   "source": [
    "arr.size"
   ]
  },
  {
   "cell_type": "code",
   "execution_count": 30,
   "id": "4bb06344",
   "metadata": {},
   "outputs": [
    {
     "data": {
      "text/plain": [
       "dtype('int32')"
      ]
     },
     "execution_count": 30,
     "metadata": {},
     "output_type": "execute_result"
    }
   ],
   "source": [
    "arr.dtype # 4.'dtype': gives the data type of all the elements in the array.Common datatypes are int32, int64,float32,float64,U32."
   ]
  },
  {
   "cell_type": "code",
   "execution_count": 31,
   "id": "3e4d7c9c",
   "metadata": {},
   "outputs": [
    {
     "data": {
      "text/plain": [
       "dtype('int32')"
      ]
     },
     "execution_count": 31,
     "metadata": {},
     "output_type": "execute_result"
    }
   ],
   "source": [
    "arr1.dtype"
   ]
  },
  {
   "cell_type": "code",
   "execution_count": 32,
   "id": "d844db82",
   "metadata": {},
   "outputs": [
    {
     "data": {
      "text/plain": [
       "4"
      ]
     },
     "execution_count": 32,
     "metadata": {},
     "output_type": "execute_result"
    }
   ],
   "source": [
    "arr1.itemsize    # 5.'itemsize': specifies the size in bytes of each element of the array"
   ]
  },
  {
   "cell_type": "code",
   "execution_count": 33,
   "id": "0f2dffd5",
   "metadata": {},
   "outputs": [
    {
     "data": {
      "text/plain": [
       "4"
      ]
     },
     "execution_count": 33,
     "metadata": {},
     "output_type": "execute_result"
    }
   ],
   "source": [
    "a.itemsize     # 8 bits form a byte, thus an array element of type int32 has itemsize of 32/8=4 bytes."
   ]
  },
  {
   "cell_type": "markdown",
   "id": "6e9f851f",
   "metadata": {},
   "source": [
    "# Other Ways of Creating Numpy Arrays"
   ]
  },
  {
   "cell_type": "code",
   "execution_count": 34,
   "id": "e26ff3d0",
   "metadata": {},
   "outputs": [
    {
     "name": "stdout",
     "output_type": "stream",
     "text": [
      "[[1. 2.]\n",
      " [3. 4.]]\n"
     ]
    }
   ],
   "source": [
    "import numpy as np\n",
    "arr2=np.array([[1,2],[3,4]],dtype=float)  # Specifying the data type while creating the array. 'dtype' as an argument to array\n",
    "print(arr2)"
   ]
  },
  {
   "cell_type": "code",
   "execution_count": 35,
   "id": "863b2e20",
   "metadata": {},
   "outputs": [
    {
     "name": "stdout",
     "output_type": "stream",
     "text": [
      "[[0. 0. 0. 0.]\n",
      " [0. 0. 0. 0.]\n",
      " [0. 0. 0. 0.]] [[1. 1.]\n",
      " [1. 1.]\n",
      " [1. 1.]]\n"
     ]
    }
   ],
   "source": [
    "arr3=np.zeros((3,4))    #we can create all elements of the array either all of the elements as 0s or all as 1s.\n",
    "arr4=np.ones((3,2))\n",
    "print(arr3,arr4)"
   ]
  },
  {
   "cell_type": "code",
   "execution_count": 36,
   "id": "7514b96b",
   "metadata": {},
   "outputs": [
    {
     "data": {
      "text/plain": [
       "array([0, 1, 2, 3, 4, 5])"
      ]
     },
     "execution_count": 36,
     "metadata": {},
     "output_type": "execute_result"
    }
   ],
   "source": [
    "arr5=np.arange(6)          #we can create an array with numbers in a given range and sequence using 'arange()' function\n",
    "arr5"
   ]
  },
  {
   "cell_type": "code",
   "execution_count": 37,
   "id": "809d6941",
   "metadata": {},
   "outputs": [
    {
     "data": {
      "text/plain": [
       "array([-2,  2,  6, 10, 14, 18, 22])"
      ]
     },
     "execution_count": 37,
     "metadata": {},
     "output_type": "execute_result"
    }
   ],
   "source": [
    "arr6=np.arange(-2,24,4)         #creating an array with start value -2 end value 24 and step size 4\n",
    "arr6"
   ]
  },
  {
   "cell_type": "markdown",
   "id": "36aa4fd6",
   "metadata": {},
   "source": [
    "# Reshaping & Resizing an array"
   ]
  },
  {
   "cell_type": "code",
   "execution_count": 38,
   "id": "98a57bb4",
   "metadata": {},
   "outputs": [
    {
     "name": "stdout",
     "output_type": "stream",
     "text": [
      "[[0 1 2 3]\n",
      " [4 5 6 7]]\n"
     ]
    }
   ],
   "source": [
    "b=np.arange(8).reshape(2,4)\n",
    "print(b)"
   ]
  },
  {
   "cell_type": "code",
   "execution_count": 39,
   "id": "43d6f034",
   "metadata": {},
   "outputs": [
    {
     "name": "stdout",
     "output_type": "stream",
     "text": [
      "[[[0 1]\n",
      "  [2 3]]\n",
      "\n",
      " [[4 5]\n",
      "  [6 7]]]\n"
     ]
    }
   ],
   "source": [
    "c=b.reshape(2,2,2) \n",
    "print(c)"
   ]
  },
  {
   "cell_type": "code",
   "execution_count": 40,
   "id": "bf6995a9",
   "metadata": {},
   "outputs": [
    {
     "data": {
      "text/plain": [
       "array([[[0, 2],\n",
       "        [1, 3]],\n",
       "\n",
       "       [[4, 6],\n",
       "        [5, 7]]])"
      ]
     },
     "execution_count": 40,
     "metadata": {},
     "output_type": "execute_result"
    }
   ],
   "source": [
    "np.rollaxis(c, 2, 1)"
   ]
  },
  {
   "cell_type": "code",
   "execution_count": 41,
   "id": "8e8381a3",
   "metadata": {},
   "outputs": [
    {
     "data": {
      "text/plain": [
       "array([[[0, 1],\n",
       "        [4, 5]],\n",
       "\n",
       "       [[2, 3],\n",
       "        [6, 7]]])"
      ]
     },
     "execution_count": 41,
     "metadata": {},
     "output_type": "execute_result"
    }
   ],
   "source": [
    "np.rollaxis(c, 1)"
   ]
  },
  {
   "cell_type": "code",
   "execution_count": 42,
   "id": "862e680c",
   "metadata": {},
   "outputs": [
    {
     "data": {
      "text/plain": [
       "array([[[0, 2],\n",
       "        [4, 6]],\n",
       "\n",
       "       [[1, 3],\n",
       "        [5, 7]]])"
      ]
     },
     "execution_count": 42,
     "metadata": {},
     "output_type": "execute_result"
    }
   ],
   "source": [
    "np.rollaxis(c, 2)"
   ]
  },
  {
   "cell_type": "code",
   "execution_count": 43,
   "id": "9d42f2e7",
   "metadata": {},
   "outputs": [
    {
     "data": {
      "text/plain": [
       "array([[[0, 1],\n",
       "        [2, 3]],\n",
       "\n",
       "       [[4, 5],\n",
       "        [6, 7]]])"
      ]
     },
     "execution_count": 43,
     "metadata": {},
     "output_type": "execute_result"
    }
   ],
   "source": [
    "np.rollaxis(c, 1, 2)"
   ]
  },
  {
   "cell_type": "code",
   "execution_count": 44,
   "id": "95eedeec",
   "metadata": {},
   "outputs": [
    {
     "data": {
      "text/plain": [
       "array([[[0, 2],\n",
       "        [1, 3]],\n",
       "\n",
       "       [[4, 6],\n",
       "        [5, 7]]])"
      ]
     },
     "execution_count": 44,
     "metadata": {},
     "output_type": "execute_result"
    }
   ],
   "source": [
    "np.swapaxes(c, 1, 2)"
   ]
  },
  {
   "cell_type": "code",
   "execution_count": 45,
   "id": "d76fac81",
   "metadata": {},
   "outputs": [
    {
     "data": {
      "text/plain": [
       "array([[[0, 2],\n",
       "        [1, 3]],\n",
       "\n",
       "       [[4, 6],\n",
       "        [5, 7]]])"
      ]
     },
     "execution_count": 45,
     "metadata": {},
     "output_type": "execute_result"
    }
   ],
   "source": [
    "np.swapaxes(c, 2, 1)"
   ]
  },
  {
   "cell_type": "code",
   "execution_count": 46,
   "id": "f08dd270",
   "metadata": {},
   "outputs": [
    {
     "name": "stdout",
     "output_type": "stream",
     "text": [
      "[[1 2 3]\n",
      " [4 5 6]]\n",
      "(2, 3)\n",
      "\n",
      "\n",
      "[[1 2]\n",
      " [3 4]\n",
      " [5 6]]\n",
      "(3, 2)\n",
      "\n",
      "\n",
      "[[1 2 3]\n",
      " [4 5 6]\n",
      " [1 2 3]]\n",
      "(3, 3)\n"
     ]
    }
   ],
   "source": [
    "a=np.array([[1,2,3],[4,5,6]])\n",
    "print(a)\n",
    "print(a.shape)\n",
    "print('\\n')\n",
    "b=np.resize(a,(3,2))\n",
    "print(b)\n",
    "print(b.shape)\n",
    "print('\\n')\n",
    "c=np.resize(a,(3,3)) #unlike 'reshape' it won't show any errorthe values will repeat and get adjusted to the the new array size.\n",
    "print(c)\n",
    "print(c.shape)"
   ]
  },
  {
   "cell_type": "markdown",
   "id": "8a953989",
   "metadata": {},
   "source": [
    "# Slicing"
   ]
  },
  {
   "cell_type": "code",
   "execution_count": 47,
   "id": "09d4d6c8",
   "metadata": {},
   "outputs": [],
   "source": [
    "import numpy as np"
   ]
  },
  {
   "cell_type": "code",
   "execution_count": 48,
   "id": "62b84c1d",
   "metadata": {},
   "outputs": [],
   "source": [
    "array1=np.array([0,1,2,3,4,5,6,7,8,9])"
   ]
  },
  {
   "cell_type": "code",
   "execution_count": 49,
   "id": "0ca38525",
   "metadata": {},
   "outputs": [
    {
     "data": {
      "text/plain": [
       "array([3, 4, 5, 6, 7])"
      ]
     },
     "execution_count": 49,
     "metadata": {},
     "output_type": "execute_result"
    }
   ],
   "source": [
    "array1[3:8]   #excludes the value at the eng index"
   ]
  },
  {
   "cell_type": "code",
   "execution_count": 50,
   "id": "d6bcf99e",
   "metadata": {},
   "outputs": [
    {
     "data": {
      "text/plain": [
       "array([9, 8, 7, 6, 5, 4, 3, 2, 1, 0])"
      ]
     },
     "execution_count": 50,
     "metadata": {},
     "output_type": "execute_result"
    }
   ],
   "source": [
    "array1[::-1]  #reversing the array"
   ]
  },
  {
   "cell_type": "code",
   "execution_count": 51,
   "id": "52e296f0",
   "metadata": {},
   "outputs": [
    {
     "data": {
      "text/plain": [
       "array([1, 3, 5])"
      ]
     },
     "execution_count": 51,
     "metadata": {},
     "output_type": "execute_result"
    }
   ],
   "source": [
    "array1[1:7:2]  #obtain values from index 1 to index 7 (excluding index 7) and skip of 2 interval values"
   ]
  },
  {
   "cell_type": "markdown",
   "id": "dc5a2100",
   "metadata": {},
   "source": [
    "for 2-D arrays"
   ]
  },
  {
   "cell_type": "code",
   "execution_count": 52,
   "id": "0cfe859a",
   "metadata": {},
   "outputs": [
    {
     "name": "stdout",
     "output_type": "stream",
     "text": [
      "[[-7  4]\n",
      " [-5  1]\n",
      " [-1 12]]\n"
     ]
    }
   ],
   "source": [
    "arr2=np.array([[-7,4,10,82],           # accessing elements of 1st to 3rd row from 1st and 2nd column\n",
    "              [-5,1,42,200],        \n",
    "              [-1,12,4,85]])\n",
    "print(arr2[0:3,0:2])"
   ]
  },
  {
   "cell_type": "code",
   "execution_count": 53,
   "id": "f14710e7",
   "metadata": {},
   "outputs": [
    {
     "name": "stdout",
     "output_type": "stream",
     "text": [
      "[10 42  4]\n"
     ]
    }
   ],
   "source": [
    "print(arr2[:,2])      # if row indices are not specified, all the row  are to be considered\n"
   ]
  },
  {
   "cell_type": "code",
   "execution_count": 54,
   "id": "6e084840",
   "metadata": {},
   "outputs": [
    {
     "name": "stdout",
     "output_type": "stream",
     "text": [
      "[-1 12  4 85]\n"
     ]
    }
   ],
   "source": [
    "print(arr2[2,:])     # if column indices are not specified, all the columns  are to be considered"
   ]
  },
  {
   "cell_type": "markdown",
   "id": "3addca39",
   "metadata": {},
   "source": [
    "# Arithemetic operations"
   ]
  },
  {
   "cell_type": "code",
   "execution_count": 55,
   "id": "539e815a",
   "metadata": {},
   "outputs": [
    {
     "name": "stdout",
     "output_type": "stream",
     "text": [
      "[[  -28    56  -200]\n",
      " [  -10     1 -1344]\n",
      " [  -16  -204   136]]\n"
     ]
    }
   ],
   "source": [
    "a3=np.array([[-7,4,10],           \n",
    "              [-5,1,42],        \n",
    "              [-1,12,4]])\n",
    "\n",
    "a4=np.array([[4,14,-20],           \n",
    "              [2,1,-32],        \n",
    "              [16,-17,34]])\n",
    "x=np.multiply(a3,a4)\n",
    "print(x)"
   ]
  },
  {
   "cell_type": "code",
   "execution_count": 56,
   "id": "03745171",
   "metadata": {},
   "outputs": [
    {
     "name": "stdout",
     "output_type": "stream",
     "text": [
      "[[ -3  18 -10]\n",
      " [ -3   2  10]\n",
      " [ 15  -5  38]]\n"
     ]
    }
   ],
   "source": [
    "y=np.add(a3,a4)\n",
    "print(y)"
   ]
  },
  {
   "cell_type": "code",
   "execution_count": 57,
   "id": "d8f53729",
   "metadata": {},
   "outputs": [
    {
     "name": "stdout",
     "output_type": "stream",
     "text": [
      "[[-11 -10  30]\n",
      " [ -7   0  74]\n",
      " [-17  29 -30]]\n"
     ]
    }
   ],
   "source": [
    "z=np.subtract(a3,a4)\n",
    "print(z)"
   ]
  },
  {
   "cell_type": "code",
   "execution_count": 58,
   "id": "3d9ddfe3",
   "metadata": {},
   "outputs": [
    {
     "name": "stdout",
     "output_type": "stream",
     "text": [
      "[[-1.75        0.28571429 -0.5       ]\n",
      " [-2.5         1.         -1.3125    ]\n",
      " [-0.0625     -0.70588235  0.11764706]]\n"
     ]
    }
   ],
   "source": [
    "xx=np.divide(a3,a4) #must ensure while dividing a 2-D array with another 2-D array that both the arrays must have same structure\n",
    "print(xx)           #Also both arrays should not be having any element as zero, otherwise it will raise an error."
   ]
  },
  {
   "cell_type": "markdown",
   "id": "da0bc74a",
   "metadata": {},
   "source": [
    "# String Functions"
   ]
  },
  {
   "cell_type": "code",
   "execution_count": 59,
   "id": "84c50a90",
   "metadata": {},
   "outputs": [
    {
     "name": "stdout",
     "output_type": "stream",
     "text": [
      "hello hello hello \n"
     ]
    }
   ],
   "source": [
    "print(np.char.multiply('hello ',3))"
   ]
  },
  {
   "cell_type": "code",
   "execution_count": 60,
   "id": "d8df3475",
   "metadata": {},
   "outputs": [
    {
     "name": "stdout",
     "output_type": "stream",
     "text": [
      "-------hello -------\n"
     ]
    }
   ],
   "source": [
    "print(np.char.center('hello ',20,fillchar='-'))"
   ]
  },
  {
   "cell_type": "code",
   "execution_count": 61,
   "id": "16699ee1",
   "metadata": {},
   "outputs": [
    {
     "name": "stdout",
     "output_type": "stream",
     "text": [
      "Hello world\n"
     ]
    }
   ],
   "source": [
    "print(np.char.capitalize('hello world'))  #only the first letter of the first word in the statement gets capitalize"
   ]
  },
  {
   "cell_type": "code",
   "execution_count": 62,
   "id": "dc922a90",
   "metadata": {},
   "outputs": [
    {
     "name": "stdout",
     "output_type": "stream",
     "text": [
      "Hello James How Are You?\n"
     ]
    }
   ],
   "source": [
    "print(np.char.title('hello james how are you?'))  #each word's first letter gets capitalized"
   ]
  },
  {
   "cell_type": "code",
   "execution_count": 63,
   "id": "b65d42f2",
   "metadata": {},
   "outputs": [
    {
     "name": "stdout",
     "output_type": "stream",
     "text": [
      "HELLFIRE HAS THE HEAT\n"
     ]
    }
   ],
   "source": [
    "print(np.char.upper('hellfire has the heat'))        #turns all the characters to upper case"
   ]
  },
  {
   "cell_type": "code",
   "execution_count": 64,
   "id": "0ca9af22",
   "metadata": {},
   "outputs": [
    {
     "name": "stdout",
     "output_type": "stream",
     "text": [
      "you just gonna get backup\n"
     ]
    }
   ],
   "source": [
    "print(np.char.lower('YOU JUST GONNA GET BACKUP'))   #turns all the characters to lower case"
   ]
  },
  {
   "cell_type": "code",
   "execution_count": 65,
   "id": "32559893",
   "metadata": {},
   "outputs": [
    {
     "name": "stdout",
     "output_type": "stream",
     "text": [
      "['are', 'you', 'coming', 'to', 'the', 'party']\n"
     ]
    }
   ],
   "source": [
    "print(np.char.split('are you coming to the party'))   #splits each words of the statement individually on the space basis"
   ]
  },
  {
   "cell_type": "code",
   "execution_count": 66,
   "id": "029c514b",
   "metadata": {},
   "outputs": [
    {
     "name": "stdout",
     "output_type": "stream",
     "text": [
      "['are you ', ' coming to the party']\n"
     ]
    }
   ],
   "source": [
    "print(np.char.splitlines('are you \\n coming to the party'))    #splitting on the basis of lines"
   ]
  },
  {
   "cell_type": "code",
   "execution_count": 67,
   "id": "cd28dc25",
   "metadata": {},
   "outputs": [
    {
     "name": "stdout",
     "output_type": "stream",
     "text": [
      "['man' 'dity' 'nkit']\n"
     ]
    }
   ],
   "source": [
    "print(np.char.strip(['aman','aditya','ankita'],'a'))   #removes all the leading and trailling 'a' from the words"
   ]
  },
  {
   "cell_type": "code",
   "execution_count": 68,
   "id": "0825fff5",
   "metadata": {},
   "outputs": [
    {
     "name": "stdout",
     "output_type": "stream",
     "text": [
      "['d:m:y' 'y-m-d']\n"
     ]
    }
   ],
   "source": [
    "print(np.char.join([':','-'],['dmy','ymd']))    #splits up the l;etters by ':' and '-'"
   ]
  },
  {
   "cell_type": "code",
   "execution_count": 69,
   "id": "6e42aecd",
   "metadata": {},
   "outputs": [
    {
     "name": "stdout",
     "output_type": "stream",
     "text": [
      "He was a good dancer\n"
     ]
    }
   ],
   "source": [
    "print(np.char.replace('He is a good dancer','is','was'))      #replacing the words"
   ]
  },
  {
   "cell_type": "code",
   "execution_count": 70,
   "id": "f10f8b4f",
   "metadata": {},
   "outputs": [
    {
     "name": "stdout",
     "output_type": "stream",
     "text": [
      "concatenation example\n",
      "['hello abc' 'hi xyz']\n"
     ]
    }
   ],
   "source": [
    "print('concatenation example')\n",
    "print(np.char.add(['hello ','hi'],['abc',' xyz']))"
   ]
  },
  {
   "cell_type": "markdown",
   "id": "720be111",
   "metadata": {},
   "source": [
    "# Transpose"
   ]
  },
  {
   "cell_type": "markdown",
   "id": "3217d83d",
   "metadata": {},
   "source": [
    "Transposing an array turns its rows into columns and columns into rows. "
   ]
  },
  {
   "cell_type": "code",
   "execution_count": 71,
   "id": "7c148a6b",
   "metadata": {},
   "outputs": [
    {
     "data": {
      "text/plain": [
       "array([[  4,   2,  16],\n",
       "       [ 14,   1, -17],\n",
       "       [-20, -32,  34]])"
      ]
     },
     "execution_count": 71,
     "metadata": {},
     "output_type": "execute_result"
    }
   ],
   "source": [
    "arr3=np.array([[4,14,-20],           \n",
    "              [2,1,-32],        \n",
    "              [16,-17,34]])\n",
    "arr3.transpose()"
   ]
  },
  {
   "cell_type": "code",
   "execution_count": 72,
   "id": "253dfdab",
   "metadata": {},
   "outputs": [
    {
     "data": {
      "text/plain": [
       "array([[  4,  14, -20],\n",
       "       [  2,   1, -32],\n",
       "       [ 16, -17,  34]])"
      ]
     },
     "execution_count": 72,
     "metadata": {},
     "output_type": "execute_result"
    }
   ],
   "source": [
    "arr3                   #The original array does not change"
   ]
  },
  {
   "cell_type": "markdown",
   "id": "e077e028",
   "metadata": {},
   "source": [
    "# Sorting"
   ]
  },
  {
   "cell_type": "markdown",
   "id": "dac2bd5b",
   "metadata": {},
   "source": [
    "Method to arrange the elements of an array in hiearchial order either ascending or descending.\n",
    "By default its in Ascending order."
   ]
  },
  {
   "cell_type": "code",
   "execution_count": 73,
   "id": "74e8ecd0",
   "metadata": {},
   "outputs": [
    {
     "data": {
      "text/plain": [
       "array([[-20,   4,  14],\n",
       "       [-32,   1,   2],\n",
       "       [-17,  16,  34]])"
      ]
     },
     "execution_count": 73,
     "metadata": {},
     "output_type": "execute_result"
    }
   ],
   "source": [
    "arr3.sort()         #row-wise sorting      for column-wise axis=0, row-wise axis=1-->(by default)\n",
    "arr3"
   ]
  },
  {
   "cell_type": "code",
   "execution_count": 74,
   "id": "2cc711f6",
   "metadata": {},
   "outputs": [
    {
     "data": {
      "text/plain": [
       "array([[-32,   1,   2],\n",
       "       [-20,   4,  14],\n",
       "       [-17,  16,  34]])"
      ]
     },
     "execution_count": 74,
     "metadata": {},
     "output_type": "execute_result"
    }
   ],
   "source": [
    "arr3.sort(axis=0)         #column-wise sorting\n",
    "arr3"
   ]
  },
  {
   "cell_type": "markdown",
   "id": "5e121643",
   "metadata": {},
   "source": [
    "# Concatenating Arrays"
   ]
  },
  {
   "cell_type": "code",
   "execution_count": 75,
   "id": "5c72625e",
   "metadata": {},
   "outputs": [
    {
     "name": "stdout",
     "output_type": "stream",
     "text": [
      "First Array\n",
      "[[1 2]\n",
      " [3 4]]\n",
      "\n",
      "\n",
      "Second Array\n",
      "[[5 6]\n",
      " [7 8]]\n"
     ]
    }
   ],
   "source": [
    "a=np.array([[1,2],[3,4]])\n",
    "print('First Array')\n",
    "print(a)\n",
    "print('\\n')\n",
    "b=np.array([[5,6],[7,8]])\n",
    "print('Second Array')\n",
    "print(b)"
   ]
  },
  {
   "cell_type": "markdown",
   "id": "318459d9",
   "metadata": {},
   "source": [
    "All input array diemensions except for the concatenation axis must match exactly."
   ]
  },
  {
   "cell_type": "code",
   "execution_count": 76,
   "id": "6c1fe922",
   "metadata": {},
   "outputs": [
    {
     "name": "stdout",
     "output_type": "stream",
     "text": [
      "[[1 2]\n",
      " [3 4]\n",
      " [5 6]\n",
      " [7 8]]\n",
      "\n",
      "\n",
      "[[1 2 5 6]\n",
      " [3 4 7 8]]\n"
     ]
    }
   ],
   "source": [
    "print(np.concatenate((a,b)))               #joining arrays along column elements i.e. addition of new rows\n",
    "print('\\n')\n",
    "print(np.concatenate((a,b), axis=1))       #joining arrays along row elements i.e. addition of new columns"
   ]
  },
  {
   "cell_type": "code",
   "execution_count": 77,
   "id": "9d58704a",
   "metadata": {},
   "outputs": [
    {
     "name": "stdout",
     "output_type": "stream",
     "text": [
      "concatenation example\n",
      "['hello abc' 'hi xyz']\n"
     ]
    }
   ],
   "source": [
    "import numpy as np\n",
    "print('concatenation example')\n",
    "print(np.char.add(['hello ','hi'],['abc',' xyz']))"
   ]
  },
  {
   "cell_type": "markdown",
   "id": "980878d6",
   "metadata": {},
   "source": [
    "# Iterating over Array"
   ]
  },
  {
   "cell_type": "code",
   "execution_count": 78,
   "id": "09b65274",
   "metadata": {},
   "outputs": [
    {
     "name": "stdout",
     "output_type": "stream",
     "text": [
      "[[ 0  5 10]\n",
      " [15 20 25]\n",
      " [30 35 40]]\n"
     ]
    }
   ],
   "source": [
    "p=np.arange(0,45,5)           #creating a 1-D array\n",
    "p=p.reshape(3,3)              #converting it to 2D-array-\n",
    "print(p)"
   ]
  },
  {
   "cell_type": "code",
   "execution_count": 79,
   "id": "714025f3",
   "metadata": {},
   "outputs": [
    {
     "name": "stdout",
     "output_type": "stream",
     "text": [
      "0\n",
      "5\n",
      "10\n",
      "15\n",
      "20\n",
      "25\n",
      "30\n",
      "35\n",
      "40\n"
     ]
    }
   ],
   "source": [
    "for x in np.nditer(p):\n",
    "    print(x)"
   ]
  },
  {
   "cell_type": "code",
   "execution_count": 80,
   "id": "ad8721a0",
   "metadata": {},
   "outputs": [
    {
     "name": "stdout",
     "output_type": "stream",
     "text": [
      "[ 0  5 10 15 20 25 30 35 40]\n"
     ]
    }
   ],
   "source": [
    "print(p.flatten())           #restores back the (3,3) array back into its original form "
   ]
  },
  {
   "cell_type": "markdown",
   "id": "bf8dadf2",
   "metadata": {},
   "source": [
    "# Iteration order C-style, F-style"
   ]
  },
  {
   "cell_type": "code",
   "execution_count": 81,
   "id": "df79dbb6",
   "metadata": {},
   "outputs": [
    {
     "name": "stdout",
     "output_type": "stream",
     "text": [
      "[[ 0  5 10]\n",
      " [15 20 25]\n",
      " [30 35 40]]\n",
      "\n",
      "\n",
      "0\n",
      "5\n",
      "10\n",
      "15\n",
      "20\n",
      "25\n",
      "30\n",
      "35\n",
      "40\n",
      "\n",
      "\n",
      "0\n",
      "15\n",
      "30\n",
      "5\n",
      "20\n",
      "35\n",
      "10\n",
      "25\n",
      "40\n",
      "\n",
      "\n",
      "0\n",
      "5\n",
      "10\n",
      "15\n",
      "20\n",
      "25\n",
      "30\n",
      "35\n",
      "40\n"
     ]
    }
   ],
   "source": [
    "print(p)\n",
    "print('\\n') \n",
    "for x in np.nditer(p, order=\"C\"):          # each row-wise element extracting\n",
    "    print(x)\n",
    "print('\\n')    \n",
    "for x in np.nditer(p, order=\"F\"):          # each column-wise element extracting\n",
    "    print(x)\n",
    "print('\\n')     \n",
    "for x in np.nditer(p, order=\"A\"):          # order/sequemce-wise element extracting\n",
    "    print(x)    "
   ]
  },
  {
   "cell_type": "code",
   "execution_count": 82,
   "id": "62019f70",
   "metadata": {},
   "outputs": [
    {
     "name": "stdout",
     "output_type": "stream",
     "text": [
      "[ 0  5 10 15 20 25 30 35 40]\n"
     ]
    }
   ],
   "source": [
    "print(p.flatten( order=\"C\"))   #row major (C)     By default its C ....."
   ]
  },
  {
   "cell_type": "code",
   "execution_count": 83,
   "id": "61fc05d3",
   "metadata": {},
   "outputs": [
    {
     "name": "stdout",
     "output_type": "stream",
     "text": [
      "[ 0 15 30  5 20 35 10 25 40]\n"
     ]
    }
   ],
   "source": [
    "print(p.flatten( order=\"F\"))   #column-major (Fortran)"
   ]
  },
  {
   "cell_type": "code",
   "execution_count": 84,
   "id": "0aa7e1f2",
   "metadata": {},
   "outputs": [
    {
     "name": "stdout",
     "output_type": "stream",
     "text": [
      "[ 0  5 10 15 20 25 30 35 40]\n"
     ]
    }
   ],
   "source": [
    "print(p.flatten( order=\"A\"))   #preserve the C/Fortran order ....in regular manner"
   ]
  },
  {
   "cell_type": "markdown",
   "id": "d3f72ede",
   "metadata": {},
   "source": [
    "# Splitting the array"
   ]
  },
  {
   "cell_type": "code",
   "execution_count": 85,
   "id": "5ece3f7b",
   "metadata": {},
   "outputs": [
    {
     "data": {
      "text/plain": [
       "[array([0, 1, 2]), array([3, 4, 5]), array([6, 7, 8])]"
      ]
     },
     "execution_count": 85,
     "metadata": {},
     "output_type": "execute_result"
    }
   ],
   "source": [
    "c=np.arange(9)\n",
    "np.split(c,3)         #splitting into 3 parts"
   ]
  },
  {
   "cell_type": "code",
   "execution_count": 86,
   "id": "e01d209e",
   "metadata": {},
   "outputs": [
    {
     "data": {
      "text/plain": [
       "[array([0, 1, 2]), array([3, 4, 5]), array([6, 7]), array([8])]"
      ]
     },
     "execution_count": 86,
     "metadata": {},
     "output_type": "execute_result"
    }
   ],
   "source": [
    "np.split(c,[3,6,8])   #splitting the array at intervals at indices 3,6 and 8"
   ]
  },
  {
   "cell_type": "code",
   "execution_count": 87,
   "id": "c6ef7bd1",
   "metadata": {},
   "outputs": [
    {
     "data": {
      "text/plain": [
       "[array([0, 1]), array([2, 3, 4, 5]), array([6, 7, 8])]"
      ]
     },
     "execution_count": 87,
     "metadata": {},
     "output_type": "execute_result"
    }
   ],
   "source": [
    "np.split(c,[2,6])     #splitting the array at intervals at indices 2 and 6"
   ]
  },
  {
   "cell_type": "code",
   "execution_count": 88,
   "id": "1514ca97",
   "metadata": {},
   "outputs": [
    {
     "name": "stdout",
     "output_type": "stream",
     "text": [
      "[[ 10  -7  20  20]\n",
      " [ -5   1 200  40]\n",
      " [ 30   1  -1  37]\n",
      " [ 42  21   0   4]\n",
      " [  0   1  12   2]]\n"
     ]
    }
   ],
   "source": [
    "y=np.array([[10,-7,20,20],\n",
    "      [-5,1,200,40],\n",
    "       [30,1,-1,37],\n",
    "       [42,21,0,4],\n",
    "       [0,1,12,2]])\n",
    "print(y)"
   ]
  },
  {
   "cell_type": "code",
   "execution_count": 89,
   "id": "1a810209",
   "metadata": {},
   "outputs": [
    {
     "data": {
      "text/plain": [
       "[array([[10, -7, 20, 20]]),\n",
       " array([[ -5,   1, 200,  40],\n",
       "        [ 30,   1,  -1,  37]]),\n",
       " array([[42, 21,  0,  4],\n",
       "        [ 0,  1, 12,  2]])]"
      ]
     },
     "execution_count": 89,
     "metadata": {},
     "output_type": "execute_result"
    }
   ],
   "source": [
    "np.split(y,[1,3])    #splitting is on the basis of row indices    by default  axis=0"
   ]
  },
  {
   "cell_type": "code",
   "execution_count": 90,
   "id": "8a2299a8",
   "metadata": {},
   "outputs": [
    {
     "data": {
      "text/plain": [
       "[array([[10, -7],\n",
       "        [-5,  1],\n",
       "        [30,  1],\n",
       "        [42, 21],\n",
       "        [ 0,  1]]),\n",
       " array([[ 20],\n",
       "        [200],\n",
       "        [ -1],\n",
       "        [  0],\n",
       "        [ 12]]),\n",
       " array([[20],\n",
       "        [40],\n",
       "        [37],\n",
       "        [ 4],\n",
       "        [ 2]])]"
      ]
     },
     "execution_count": 90,
     "metadata": {},
     "output_type": "execute_result"
    }
   ],
   "source": [
    "np.split(y,[2,3],axis=1)     #splitting is on the basis of column indices "
   ]
  },
  {
   "cell_type": "code",
   "execution_count": 91,
   "id": "12a7a2cb",
   "metadata": {},
   "outputs": [
    {
     "data": {
      "text/plain": [
       "[array([[10, -7],\n",
       "        [-5,  1],\n",
       "        [30,  1],\n",
       "        [42, 21],\n",
       "        [ 0,  1]]),\n",
       " array([[ 20,  20],\n",
       "        [200,  40],\n",
       "        [ -1,  37],\n",
       "        [  0,   4],\n",
       "        [ 12,   2]])]"
      ]
     },
     "execution_count": 91,
     "metadata": {},
     "output_type": "execute_result"
    }
   ],
   "source": [
    "np.split(y,2,axis=1)    #splitting into two equal no of columns"
   ]
  },
  {
   "cell_type": "code",
   "execution_count": null,
   "id": "10cc6ff9",
   "metadata": {},
   "outputs": [],
   "source": []
  }
 ],
 "metadata": {
  "kernelspec": {
   "display_name": "Python 3 (ipykernel)",
   "language": "python",
   "name": "python3"
  },
  "language_info": {
   "codemirror_mode": {
    "name": "ipython",
    "version": 3
   },
   "file_extension": ".py",
   "mimetype": "text/x-python",
   "name": "python",
   "nbconvert_exporter": "python",
   "pygments_lexer": "ipython3",
   "version": "3.9.7"
  }
 },
 "nbformat": 4,
 "nbformat_minor": 5
}
