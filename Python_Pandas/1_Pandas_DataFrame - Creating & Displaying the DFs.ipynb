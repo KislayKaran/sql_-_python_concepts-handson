{
 "cells": [
  {
   "cell_type": "markdown",
   "id": "e5cc3eef",
   "metadata": {},
   "source": [
    "     Different ways of creating the DFs:\n",
    "(i)  Creating a DataFrame Object from a 2-D Dictionary\n",
    "\n",
    "    (a) Creating a dataframe from a 2-D Dictionary having values as Lists/ndarrays\n",
    "    (b) Creating a dataframe from a 2-D Dictionary having values as Dictionary Objects\n",
    "    \n",
    "(ii) Creating a dataframe from a List of Dictionaries/Lists  \n",
    "\n",
    "(iii)Creating a DataFrame Object from a 2-D ndarray\n",
    "\n",
    "(iv) Creating a DataFrame Object from a 2-D Dictionary with Values as Series Objects\n",
    "\n",
    "(v)  Creating a DataFrame Object from another Dataframe Object"
   ]
  },
  {
   "cell_type": "markdown",
   "id": "3b6cecbd",
   "metadata": {},
   "source": [
    "# (i) Creating a DataFrame Object from a 2-D Dictionary"
   ]
  },
  {
   "cell_type": "markdown",
   "id": "d56b7a57",
   "metadata": {},
   "source": [
    " (a) Creating a dataframe from a 2-D Dictionary having values as Lists/ndarrays"
   ]
  },
  {
   "cell_type": "code",
   "execution_count": 1,
   "id": "67428587",
   "metadata": {},
   "outputs": [
    {
     "data": {
      "text/html": [
       "<div>\n",
       "<style scoped>\n",
       "    .dataframe tbody tr th:only-of-type {\n",
       "        vertical-align: middle;\n",
       "    }\n",
       "\n",
       "    .dataframe tbody tr th {\n",
       "        vertical-align: top;\n",
       "    }\n",
       "\n",
       "    .dataframe thead th {\n",
       "        text-align: right;\n",
       "    }\n",
       "</style>\n",
       "<table border=\"1\" class=\"dataframe\">\n",
       "  <thead>\n",
       "    <tr style=\"text-align: right;\">\n",
       "      <th></th>\n",
       "      <th>Students</th>\n",
       "      <th>Marks</th>\n",
       "      <th>Sports</th>\n",
       "    </tr>\n",
       "  </thead>\n",
       "  <tbody>\n",
       "    <tr>\n",
       "      <th>0</th>\n",
       "      <td>ruchika</td>\n",
       "      <td>79.50</td>\n",
       "      <td>cricket</td>\n",
       "    </tr>\n",
       "    <tr>\n",
       "      <th>1</th>\n",
       "      <td>Neha</td>\n",
       "      <td>83.75</td>\n",
       "      <td>badminton</td>\n",
       "    </tr>\n",
       "    <tr>\n",
       "      <th>2</th>\n",
       "      <td>Mark</td>\n",
       "      <td>74.00</td>\n",
       "      <td>football</td>\n",
       "    </tr>\n",
       "    <tr>\n",
       "      <th>3</th>\n",
       "      <td>Gurjyot</td>\n",
       "      <td>88.50</td>\n",
       "      <td>athletics</td>\n",
       "    </tr>\n",
       "    <tr>\n",
       "      <th>4</th>\n",
       "      <td>Jamaal</td>\n",
       "      <td>89.00</td>\n",
       "      <td>kabaddi</td>\n",
       "    </tr>\n",
       "  </tbody>\n",
       "</table>\n",
       "</div>"
      ],
      "text/plain": [
       "  Students  Marks     Sports\n",
       "0  ruchika  79.50    cricket\n",
       "1     Neha  83.75  badminton\n",
       "2     Mark  74.00   football\n",
       "3  Gurjyot  88.50  athletics\n",
       "4   Jamaal  89.00    kabaddi"
      ]
     },
     "execution_count": 1,
     "metadata": {},
     "output_type": "execute_result"
    }
   ],
   "source": [
    "import pandas as pd\n",
    "import numpy as np\n",
    "\n",
    "dict1={'Students':['ruchika','Neha','Mark','Gurjyot','Jamaal'],\n",
    "       'Marks':[79.5,83.75,74,88.5,89],\n",
    "        'Sports':['cricket','badminton','football','athletics','kabaddi']}\n",
    "\n",
    "df1=pd.DataFrame(dict1)\n",
    "df1"
   ]
  },
  {
   "cell_type": "code",
   "execution_count": 2,
   "id": "fa720ee2",
   "metadata": {},
   "outputs": [
    {
     "data": {
      "text/html": [
       "<div>\n",
       "<style scoped>\n",
       "    .dataframe tbody tr th:only-of-type {\n",
       "        vertical-align: middle;\n",
       "    }\n",
       "\n",
       "    .dataframe tbody tr th {\n",
       "        vertical-align: top;\n",
       "    }\n",
       "\n",
       "    .dataframe thead th {\n",
       "        text-align: right;\n",
       "    }\n",
       "</style>\n",
       "<table border=\"1\" class=\"dataframe\">\n",
       "  <thead>\n",
       "    <tr style=\"text-align: right;\">\n",
       "      <th></th>\n",
       "      <th>Students</th>\n",
       "      <th>Marks</th>\n",
       "      <th>Sports</th>\n",
       "    </tr>\n",
       "  </thead>\n",
       "  <tbody>\n",
       "    <tr>\n",
       "      <th>I</th>\n",
       "      <td>ruchika</td>\n",
       "      <td>79.50</td>\n",
       "      <td>cricket</td>\n",
       "    </tr>\n",
       "    <tr>\n",
       "      <th>II</th>\n",
       "      <td>Neha</td>\n",
       "      <td>83.75</td>\n",
       "      <td>badminton</td>\n",
       "    </tr>\n",
       "    <tr>\n",
       "      <th>III</th>\n",
       "      <td>Mark</td>\n",
       "      <td>74.00</td>\n",
       "      <td>football</td>\n",
       "    </tr>\n",
       "    <tr>\n",
       "      <th>IV</th>\n",
       "      <td>Gurjyot</td>\n",
       "      <td>88.50</td>\n",
       "      <td>athletics</td>\n",
       "    </tr>\n",
       "    <tr>\n",
       "      <th>V</th>\n",
       "      <td>Jamaal</td>\n",
       "      <td>89.00</td>\n",
       "      <td>kabaddi</td>\n",
       "    </tr>\n",
       "  </tbody>\n",
       "</table>\n",
       "</div>"
      ],
      "text/plain": [
       "    Students  Marks     Sports\n",
       "I    ruchika  79.50    cricket\n",
       "II      Neha  83.75  badminton\n",
       "III     Mark  74.00   football\n",
       "IV   Gurjyot  88.50  athletics\n",
       "V     Jamaal  89.00    kabaddi"
      ]
     },
     "execution_count": 2,
     "metadata": {},
     "output_type": "execute_result"
    }
   ],
   "source": [
    "df1=pd.DataFrame(dict1,index=['I','II','III','IV','V'])\n",
    "df1\n",
    "#no of indexes given in the index sequence must match the length of dictionary's values."
   ]
  },
  {
   "cell_type": "markdown",
   "id": "81562d4a",
   "metadata": {},
   "source": [
    "(b) Creating a dataframe from a 2-D Dictionary having values as Dictionary Objects"
   ]
  },
  {
   "cell_type": "code",
   "execution_count": 3,
   "id": "930e9a56",
   "metadata": {},
   "outputs": [
    {
     "data": {
      "text/html": [
       "<div>\n",
       "<style scoped>\n",
       "    .dataframe tbody tr th:only-of-type {\n",
       "        vertical-align: middle;\n",
       "    }\n",
       "\n",
       "    .dataframe tbody tr th {\n",
       "        vertical-align: top;\n",
       "    }\n",
       "\n",
       "    .dataframe thead th {\n",
       "        text-align: right;\n",
       "    }\n",
       "</style>\n",
       "<table border=\"1\" class=\"dataframe\">\n",
       "  <thead>\n",
       "    <tr style=\"text-align: right;\">\n",
       "      <th></th>\n",
       "      <th>Sales</th>\n",
       "      <th>Marketing</th>\n",
       "    </tr>\n",
       "  </thead>\n",
       "  <tbody>\n",
       "    <tr>\n",
       "      <th>name</th>\n",
       "      <td>Rohit</td>\n",
       "      <td>Neha</td>\n",
       "    </tr>\n",
       "    <tr>\n",
       "      <th>age</th>\n",
       "      <td>24</td>\n",
       "      <td>25</td>\n",
       "    </tr>\n",
       "    <tr>\n",
       "      <th>sex</th>\n",
       "      <td>Male</td>\n",
       "      <td>Female</td>\n",
       "    </tr>\n",
       "  </tbody>\n",
       "</table>\n",
       "</div>"
      ],
      "text/plain": [
       "      Sales Marketing\n",
       "name  Rohit      Neha\n",
       "age      24        25\n",
       "sex    Male    Female"
      ]
     },
     "execution_count": 3,
     "metadata": {},
     "output_type": "execute_result"
    }
   ],
   "source": [
    "people={'Sales':{'name':'Rohit','age':'24','sex':'Male'},        #outer dictionary keys as columns\n",
    "        'Marketing':{'name':'Neha','age':'25','sex':'Female'}}   #inner dictionary keys as indexes\n",
    "df2=pd.DataFrame(people)\n",
    "df2"
   ]
  },
  {
   "cell_type": "code",
   "execution_count": 4,
   "id": "00b7e804",
   "metadata": {},
   "outputs": [
    {
     "data": {
      "text/html": [
       "<div>\n",
       "<style scoped>\n",
       "    .dataframe tbody tr th:only-of-type {\n",
       "        vertical-align: middle;\n",
       "    }\n",
       "\n",
       "    .dataframe tbody tr th {\n",
       "        vertical-align: top;\n",
       "    }\n",
       "\n",
       "    .dataframe thead th {\n",
       "        text-align: right;\n",
       "    }\n",
       "</style>\n",
       "<table border=\"1\" class=\"dataframe\">\n",
       "  <thead>\n",
       "    <tr style=\"text-align: right;\">\n",
       "      <th></th>\n",
       "      <th>I</th>\n",
       "      <th>II</th>\n",
       "    </tr>\n",
       "  </thead>\n",
       "  <tbody>\n",
       "    <tr>\n",
       "      <th>Qtr1</th>\n",
       "      <td>44900.0</td>\n",
       "      <td>NaN</td>\n",
       "    </tr>\n",
       "    <tr>\n",
       "      <th>Qtr2</th>\n",
       "      <td>46100.0</td>\n",
       "      <td>NaN</td>\n",
       "    </tr>\n",
       "    <tr>\n",
       "      <th>Qtr3</th>\n",
       "      <td>57000.0</td>\n",
       "      <td>NaN</td>\n",
       "    </tr>\n",
       "    <tr>\n",
       "      <th>Qtr4</th>\n",
       "      <td>59000.0</td>\n",
       "      <td>57000.0</td>\n",
       "    </tr>\n",
       "    <tr>\n",
       "      <th>A</th>\n",
       "      <td>NaN</td>\n",
       "      <td>54500.0</td>\n",
       "    </tr>\n",
       "    <tr>\n",
       "      <th>B</th>\n",
       "      <td>NaN</td>\n",
       "      <td>51000.0</td>\n",
       "    </tr>\n",
       "  </tbody>\n",
       "</table>\n",
       "</div>"
      ],
      "text/plain": [
       "            I       II\n",
       "Qtr1  44900.0      NaN\n",
       "Qtr2  46100.0      NaN\n",
       "Qtr3  57000.0      NaN\n",
       "Qtr4  59000.0  57000.0\n",
       "A         NaN  54500.0\n",
       "B         NaN  51000.0"
      ]
     },
     "execution_count": 4,
     "metadata": {},
     "output_type": "execute_result"
    }
   ],
   "source": [
    "yr1={'Qtr1':44900,'Qtr2':46100,'Qtr3':57000,'Qtr4':59000}     #two dictionaries with disimillar keys  \n",
    "yr2={'A':54500,'B':51000,'Qtr4':57000}    #all inner keys become indexes\n",
    "diSales={'I':yr1,'II':yr2}     #Dictionaries with disimillar keys as inner dictionaries of a 2-D dictionary\n",
    "df3=pd.DataFrame(diSales)      #DataFrame created with non- matching inner key dictionaries\n",
    "df3\n",
    "\n",
    "#NaN values added for non-matching keys of inner dictionaries"
   ]
  },
  {
   "cell_type": "markdown",
   "id": "cb7afe1d",
   "metadata": {},
   "source": [
    "# (ii) Creating a dataframe from a List of Dictionaries/Lists"
   ]
  },
  {
   "cell_type": "code",
   "execution_count": 5,
   "id": "d04eca1e",
   "metadata": {},
   "outputs": [
    {
     "data": {
      "text/html": [
       "<div>\n",
       "<style scoped>\n",
       "    .dataframe tbody tr th:only-of-type {\n",
       "        vertical-align: middle;\n",
       "    }\n",
       "\n",
       "    .dataframe tbody tr th {\n",
       "        vertical-align: top;\n",
       "    }\n",
       "\n",
       "    .dataframe thead th {\n",
       "        text-align: right;\n",
       "    }\n",
       "</style>\n",
       "<table border=\"1\" class=\"dataframe\">\n",
       "  <thead>\n",
       "    <tr style=\"text-align: right;\">\n",
       "      <th></th>\n",
       "      <th>Rollno</th>\n",
       "      <th>Name</th>\n",
       "      <th>Marks</th>\n",
       "    </tr>\n",
       "  </thead>\n",
       "  <tbody>\n",
       "    <tr>\n",
       "      <th>SecA</th>\n",
       "      <td>115</td>\n",
       "      <td>Avni</td>\n",
       "      <td>97.5</td>\n",
       "    </tr>\n",
       "    <tr>\n",
       "      <th>SecB</th>\n",
       "      <td>236</td>\n",
       "      <td>Rishi</td>\n",
       "      <td>98.0</td>\n",
       "    </tr>\n",
       "    <tr>\n",
       "      <th>SecC</th>\n",
       "      <td>307</td>\n",
       "      <td>Preet</td>\n",
       "      <td>98.5</td>\n",
       "    </tr>\n",
       "    <tr>\n",
       "      <th>SecD</th>\n",
       "      <td>422</td>\n",
       "      <td>Karan</td>\n",
       "      <td>98.0</td>\n",
       "    </tr>\n",
       "  </tbody>\n",
       "</table>\n",
       "</div>"
      ],
      "text/plain": [
       "      Rollno   Name  Marks\n",
       "SecA     115   Avni   97.5\n",
       "SecB     236  Rishi   98.0\n",
       "SecC     307  Preet   98.5\n",
       "SecD     422  Karan   98.0"
      ]
     },
     "execution_count": 5,
     "metadata": {},
     "output_type": "execute_result"
    }
   ],
   "source": [
    "topperA={'Rollno':115,'Name':'Avni','Marks':97.5}          #keys of inner Dictionaries have made the columns of the DF\n",
    "topperB={'Rollno':236,'Name':'Rishi','Marks':98}            \n",
    "topperC={'Rollno':307,'Name':'Preet','Marks':98.5}         #values of the inner Dictionaries have made the rows of the DF\n",
    "topperD={'Rollno':422,'Name':'Karan','Marks':98}\n",
    "toppers=[topperA,topperB,topperC,topperD]           #---->list of dictionaries\n",
    "topdf=pd.DataFrame(toppers,index=[\"SecA\",\"SecB\",\"SecC\",\"SecD\"])\n",
    "topdf"
   ]
  },
  {
   "cell_type": "markdown",
   "id": "a17566cf",
   "metadata": {},
   "source": [
    "*Passing a 2-D list i.e. A List having Lists will also create a DataFrame where each inner list will form the row of DF"
   ]
  },
  {
   "cell_type": "code",
   "execution_count": 6,
   "id": "dd2d7078",
   "metadata": {},
   "outputs": [
    {
     "data": {
      "text/html": [
       "<div>\n",
       "<style scoped>\n",
       "    .dataframe tbody tr th:only-of-type {\n",
       "        vertical-align: middle;\n",
       "    }\n",
       "\n",
       "    .dataframe tbody tr th {\n",
       "        vertical-align: top;\n",
       "    }\n",
       "\n",
       "    .dataframe thead th {\n",
       "        text-align: right;\n",
       "    }\n",
       "</style>\n",
       "<table border=\"1\" class=\"dataframe\">\n",
       "  <thead>\n",
       "    <tr style=\"text-align: right;\">\n",
       "      <th></th>\n",
       "      <th>X</th>\n",
       "      <th>Y</th>\n",
       "      <th>Z</th>\n",
       "    </tr>\n",
       "  </thead>\n",
       "  <tbody>\n",
       "    <tr>\n",
       "      <th>A</th>\n",
       "      <td>25</td>\n",
       "      <td>45</td>\n",
       "      <td>60</td>\n",
       "    </tr>\n",
       "    <tr>\n",
       "      <th>B</th>\n",
       "      <td>34</td>\n",
       "      <td>67</td>\n",
       "      <td>89</td>\n",
       "    </tr>\n",
       "    <tr>\n",
       "      <th>C</th>\n",
       "      <td>88</td>\n",
       "      <td>90</td>\n",
       "      <td>56</td>\n",
       "    </tr>\n",
       "  </tbody>\n",
       "</table>\n",
       "</div>"
      ],
      "text/plain": [
       "    X   Y   Z\n",
       "A  25  45  60\n",
       "B  34  67  89\n",
       "C  88  90  56"
      ]
     },
     "execution_count": 6,
     "metadata": {},
     "output_type": "execute_result"
    }
   ],
   "source": [
    "import pandas as pd\n",
    "list1=[[25,45,60],[34,67,89],[88,90,56]]     #the inner list have formed a row each, in the created DF\n",
    "dfl=pd.DataFrame(list1,index=[\"A\",\"B\",\"C\"],columns=[\"X\",\"Y\",\"Z\"])\n",
    "dfl"
   ]
  },
  {
   "cell_type": "markdown",
   "id": "187e3e87",
   "metadata": {},
   "source": [
    "# (iii)Creating a DataFrame Object from a 2-D ndarray"
   ]
  },
  {
   "cell_type": "code",
   "execution_count": 7,
   "id": "61e00559",
   "metadata": {},
   "outputs": [
    {
     "data": {
      "text/html": [
       "<div>\n",
       "<style scoped>\n",
       "    .dataframe tbody tr th:only-of-type {\n",
       "        vertical-align: middle;\n",
       "    }\n",
       "\n",
       "    .dataframe tbody tr th {\n",
       "        vertical-align: top;\n",
       "    }\n",
       "\n",
       "    .dataframe thead th {\n",
       "        text-align: right;\n",
       "    }\n",
       "</style>\n",
       "<table border=\"1\" class=\"dataframe\">\n",
       "  <thead>\n",
       "    <tr style=\"text-align: right;\">\n",
       "      <th></th>\n",
       "      <th>0</th>\n",
       "    </tr>\n",
       "  </thead>\n",
       "  <tbody>\n",
       "    <tr>\n",
       "      <th>0</th>\n",
       "      <td>[101.5, 201.2]</td>\n",
       "    </tr>\n",
       "    <tr>\n",
       "      <th>1</th>\n",
       "      <td>[400, 50, 600, 700]</td>\n",
       "    </tr>\n",
       "    <tr>\n",
       "      <th>2</th>\n",
       "      <td>[212.3, 301.5, 405.2]</td>\n",
       "    </tr>\n",
       "  </tbody>\n",
       "</table>\n",
       "</div>"
      ],
      "text/plain": [
       "                       0\n",
       "0         [101.5, 201.2]\n",
       "1    [400, 50, 600, 700]\n",
       "2  [212.3, 301.5, 405.2]"
      ]
     },
     "execution_count": 7,
     "metadata": {},
     "output_type": "execute_result"
    }
   ],
   "source": [
    "import pandas as pd\n",
    "import numpy as np\n",
    "narr2=np.array([[101.5,201.2],[400,50,600,700],[212.3,301.5,405.2]],dtype=object)   #datatype of the ndarray is 'object'\n",
    "dtf2=pd.DataFrame(narr2)\n",
    "dtf2                       #if no. of elements in each row differ, then Python will create just a single column in DF Object\n",
    "                           # and type of the column will be considered as Object....using 'dtype=object'"
   ]
  },
  {
   "cell_type": "code",
   "execution_count": 8,
   "id": "587a132a",
   "metadata": {},
   "outputs": [
    {
     "data": {
      "text/html": [
       "<div>\n",
       "<style scoped>\n",
       "    .dataframe tbody tr th:only-of-type {\n",
       "        vertical-align: middle;\n",
       "    }\n",
       "\n",
       "    .dataframe tbody tr th {\n",
       "        vertical-align: top;\n",
       "    }\n",
       "\n",
       "    .dataframe thead th {\n",
       "        text-align: right;\n",
       "    }\n",
       "</style>\n",
       "<table border=\"1\" class=\"dataframe\">\n",
       "  <thead>\n",
       "    <tr style=\"text-align: right;\">\n",
       "      <th></th>\n",
       "      <th>X</th>\n",
       "      <th>Y</th>\n",
       "      <th>Z</th>\n",
       "    </tr>\n",
       "  </thead>\n",
       "  <tbody>\n",
       "    <tr>\n",
       "      <th>A</th>\n",
       "      <td>101.500000</td>\n",
       "      <td>201.199997</td>\n",
       "      <td>700.000000</td>\n",
       "    </tr>\n",
       "    <tr>\n",
       "      <th>B</th>\n",
       "      <td>400.000000</td>\n",
       "      <td>50.000000</td>\n",
       "      <td>600.000000</td>\n",
       "    </tr>\n",
       "    <tr>\n",
       "      <th>C</th>\n",
       "      <td>212.300003</td>\n",
       "      <td>301.500000</td>\n",
       "      <td>405.200012</td>\n",
       "    </tr>\n",
       "  </tbody>\n",
       "</table>\n",
       "</div>"
      ],
      "text/plain": [
       "            X           Y           Z\n",
       "A  101.500000  201.199997  700.000000\n",
       "B  400.000000   50.000000  600.000000\n",
       "C  212.300003  301.500000  405.200012"
      ]
     },
     "execution_count": 8,
     "metadata": {},
     "output_type": "execute_result"
    }
   ],
   "source": [
    "narr3=np.array([[101.5,201.2,700],[400,50,600],[212.3,301.5,405.2]],np.float32)\n",
    "dtf3=pd.DataFrame(narr3,index=[\"A\",\"B\",\"C\"],columns=[\"X\",\"Y\",\"Z\"])\n",
    "dtf3"
   ]
  },
  {
   "cell_type": "markdown",
   "id": "a476ae28",
   "metadata": {},
   "source": [
    "# (iv) Creating a DataFrame Object from a 2-D Dictionary with Values as Series Objects"
   ]
  },
  {
   "cell_type": "markdown",
   "id": "fa13eb38",
   "metadata": {},
   "source": [
    "You can create a DataFrame Object by using multiple Series Objects"
   ]
  },
  {
   "cell_type": "code",
   "execution_count": 9,
   "id": "73789aae",
   "metadata": {},
   "outputs": [
    {
     "data": {
      "text/html": [
       "<div>\n",
       "<style scoped>\n",
       "    .dataframe tbody tr th:only-of-type {\n",
       "        vertical-align: middle;\n",
       "    }\n",
       "\n",
       "    .dataframe tbody tr th {\n",
       "        vertical-align: top;\n",
       "    }\n",
       "\n",
       "    .dataframe thead th {\n",
       "        text-align: right;\n",
       "    }\n",
       "</style>\n",
       "<table border=\"1\" class=\"dataframe\">\n",
       "  <thead>\n",
       "    <tr style=\"text-align: right;\">\n",
       "      <th></th>\n",
       "      <th>People</th>\n",
       "      <th>Amount</th>\n",
       "      <th>Average</th>\n",
       "    </tr>\n",
       "  </thead>\n",
       "  <tbody>\n",
       "    <tr>\n",
       "      <th>0</th>\n",
       "      <td>20</td>\n",
       "      <td>166000</td>\n",
       "      <td>8300.000000</td>\n",
       "    </tr>\n",
       "    <tr>\n",
       "      <th>1</th>\n",
       "      <td>36</td>\n",
       "      <td>246000</td>\n",
       "      <td>6833.333333</td>\n",
       "    </tr>\n",
       "    <tr>\n",
       "      <th>2</th>\n",
       "      <td>44</td>\n",
       "      <td>563000</td>\n",
       "      <td>12795.454545</td>\n",
       "    </tr>\n",
       "  </tbody>\n",
       "</table>\n",
       "</div>"
      ],
      "text/plain": [
       "   People  Amount       Average\n",
       "0      20  166000   8300.000000\n",
       "1      36  246000   6833.333333\n",
       "2      44  563000  12795.454545"
      ]
     },
     "execution_count": 9,
     "metadata": {},
     "output_type": "execute_result"
    }
   ],
   "source": [
    "staff=pd.Series([20,36,44])                \n",
    "salaries=pd.Series([166000,246000,563000])\n",
    "avg=salaries/staff                                    # it will create 'avg' series object\n",
    "org={'People':staff,'Amount':salaries,'Average':avg}  #a dictionary that stores these Series objects as values\n",
    "df4=pd.DataFrame(org)\n",
    "df4"
   ]
  },
  {
   "cell_type": "markdown",
   "id": "a93afba9",
   "metadata": {},
   "source": [
    "# (v) Creating a DataFrame Object from another Dataframe Object"
   ]
  },
  {
   "cell_type": "markdown",
   "id": "82a4462b",
   "metadata": {},
   "source": [
    "You can pass an existing DataFrame object to DataFrame() and it will create an another DataFrame object having similar Data"
   ]
  },
  {
   "cell_type": "code",
   "execution_count": 10,
   "id": "bad1dd6b",
   "metadata": {},
   "outputs": [
    {
     "data": {
      "text/html": [
       "<div>\n",
       "<style scoped>\n",
       "    .dataframe tbody tr th:only-of-type {\n",
       "        vertical-align: middle;\n",
       "    }\n",
       "\n",
       "    .dataframe tbody tr th {\n",
       "        vertical-align: top;\n",
       "    }\n",
       "\n",
       "    .dataframe thead th {\n",
       "        text-align: right;\n",
       "    }\n",
       "</style>\n",
       "<table border=\"1\" class=\"dataframe\">\n",
       "  <thead>\n",
       "    <tr style=\"text-align: right;\">\n",
       "      <th></th>\n",
       "      <th>Students</th>\n",
       "      <th>Marks</th>\n",
       "      <th>Sports</th>\n",
       "    </tr>\n",
       "  </thead>\n",
       "  <tbody>\n",
       "    <tr>\n",
       "      <th>0</th>\n",
       "      <td>ruchika</td>\n",
       "      <td>79.50</td>\n",
       "      <td>cricket</td>\n",
       "    </tr>\n",
       "    <tr>\n",
       "      <th>1</th>\n",
       "      <td>Neha</td>\n",
       "      <td>83.75</td>\n",
       "      <td>badminton</td>\n",
       "    </tr>\n",
       "    <tr>\n",
       "      <th>2</th>\n",
       "      <td>Mark</td>\n",
       "      <td>74.00</td>\n",
       "      <td>football</td>\n",
       "    </tr>\n",
       "    <tr>\n",
       "      <th>3</th>\n",
       "      <td>Gurjyot</td>\n",
       "      <td>88.50</td>\n",
       "      <td>athletics</td>\n",
       "    </tr>\n",
       "    <tr>\n",
       "      <th>4</th>\n",
       "      <td>Jamaal</td>\n",
       "      <td>89.00</td>\n",
       "      <td>kabaddi</td>\n",
       "    </tr>\n",
       "  </tbody>\n",
       "</table>\n",
       "</div>"
      ],
      "text/plain": [
       "  Students  Marks     Sports\n",
       "0  ruchika  79.50    cricket\n",
       "1     Neha  83.75  badminton\n",
       "2     Mark  74.00   football\n",
       "3  Gurjyot  88.50  athletics\n",
       "4   Jamaal  89.00    kabaddi"
      ]
     },
     "execution_count": 10,
     "metadata": {},
     "output_type": "execute_result"
    }
   ],
   "source": [
    "dict1={'Students':['ruchika','Neha','Mark','Gurjyot','Jamaal'],\n",
    "       'Marks':[79.5,83.75,74,88.5,89],\n",
    "        'Sports':['cricket','badminton','football','athletics','kabaddi']}\n",
    "\n",
    "df1=pd.DataFrame(dict1)\n",
    "df1"
   ]
  },
  {
   "cell_type": "code",
   "execution_count": 11,
   "id": "3741ab3a",
   "metadata": {},
   "outputs": [
    {
     "data": {
      "text/html": [
       "<div>\n",
       "<style scoped>\n",
       "    .dataframe tbody tr th:only-of-type {\n",
       "        vertical-align: middle;\n",
       "    }\n",
       "\n",
       "    .dataframe tbody tr th {\n",
       "        vertical-align: top;\n",
       "    }\n",
       "\n",
       "    .dataframe thead th {\n",
       "        text-align: right;\n",
       "    }\n",
       "</style>\n",
       "<table border=\"1\" class=\"dataframe\">\n",
       "  <thead>\n",
       "    <tr style=\"text-align: right;\">\n",
       "      <th></th>\n",
       "      <th>Students</th>\n",
       "      <th>Marks</th>\n",
       "      <th>Sports</th>\n",
       "    </tr>\n",
       "  </thead>\n",
       "  <tbody>\n",
       "    <tr>\n",
       "      <th>0</th>\n",
       "      <td>ruchika</td>\n",
       "      <td>79.50</td>\n",
       "      <td>cricket</td>\n",
       "    </tr>\n",
       "    <tr>\n",
       "      <th>1</th>\n",
       "      <td>Neha</td>\n",
       "      <td>83.75</td>\n",
       "      <td>badminton</td>\n",
       "    </tr>\n",
       "    <tr>\n",
       "      <th>2</th>\n",
       "      <td>Mark</td>\n",
       "      <td>74.00</td>\n",
       "      <td>football</td>\n",
       "    </tr>\n",
       "    <tr>\n",
       "      <th>3</th>\n",
       "      <td>Gurjyot</td>\n",
       "      <td>88.50</td>\n",
       "      <td>athletics</td>\n",
       "    </tr>\n",
       "    <tr>\n",
       "      <th>4</th>\n",
       "      <td>Jamaal</td>\n",
       "      <td>89.00</td>\n",
       "      <td>kabaddi</td>\n",
       "    </tr>\n",
       "  </tbody>\n",
       "</table>\n",
       "</div>"
      ],
      "text/plain": [
       "  Students  Marks     Sports\n",
       "0  ruchika  79.50    cricket\n",
       "1     Neha  83.75  badminton\n",
       "2     Mark  74.00   football\n",
       "3  Gurjyot  88.50  athletics\n",
       "4   Jamaal  89.00    kabaddi"
      ]
     },
     "execution_count": 11,
     "metadata": {},
     "output_type": "execute_result"
    }
   ],
   "source": [
    "dfnew=pd.DataFrame(df1)\n",
    "dfnew"
   ]
  },
  {
   "cell_type": "markdown",
   "id": "6244ce6a",
   "metadata": {},
   "source": [
    "When you create a dataframe using another dataframe, you should add an aditional argument to dataframe() method as copy=True.\n",
    "It will ensure that the new dataframe created as true copy and no changes in the original dataframe are reflected in it."
   ]
  },
  {
   "cell_type": "markdown",
   "id": "695c75c8",
   "metadata": {},
   "source": [
    "# DataFrame Attributes            <Dataframe object>.<attribute name>"
   ]
  },
  {
   "cell_type": "code",
   "execution_count": 12,
   "id": "cf01b40e",
   "metadata": {},
   "outputs": [
    {
     "data": {
      "text/html": [
       "<div>\n",
       "<style scoped>\n",
       "    .dataframe tbody tr th:only-of-type {\n",
       "        vertical-align: middle;\n",
       "    }\n",
       "\n",
       "    .dataframe tbody tr th {\n",
       "        vertical-align: top;\n",
       "    }\n",
       "\n",
       "    .dataframe thead th {\n",
       "        text-align: right;\n",
       "    }\n",
       "</style>\n",
       "<table border=\"1\" class=\"dataframe\">\n",
       "  <thead>\n",
       "    <tr style=\"text-align: right;\">\n",
       "      <th></th>\n",
       "      <th>Marketing</th>\n",
       "      <th>Sales</th>\n",
       "    </tr>\n",
       "  </thead>\n",
       "  <tbody>\n",
       "    <tr>\n",
       "      <th>name</th>\n",
       "      <td>Neha</td>\n",
       "      <td>Rohit</td>\n",
       "    </tr>\n",
       "    <tr>\n",
       "      <th>age</th>\n",
       "      <td>25</td>\n",
       "      <td>24</td>\n",
       "    </tr>\n",
       "    <tr>\n",
       "      <th>sex</th>\n",
       "      <td>Female</td>\n",
       "      <td>Male</td>\n",
       "    </tr>\n",
       "  </tbody>\n",
       "</table>\n",
       "</div>"
      ],
      "text/plain": [
       "     Marketing  Sales\n",
       "name      Neha  Rohit\n",
       "age         25     24\n",
       "sex     Female   Male"
      ]
     },
     "execution_count": 12,
     "metadata": {},
     "output_type": "execute_result"
    }
   ],
   "source": [
    "import pandas as pd\n",
    "people={'Marketing':{'name':'Neha','age':'25','sex':'Female'},\n",
    "        'Sales':{'name':'Rohit','age':'24','sex':'Male'}}       \n",
    "df2=pd.DataFrame(people)\n",
    "df2"
   ]
  },
  {
   "cell_type": "markdown",
   "id": "6e36913e",
   "metadata": {},
   "source": [
    "(a) Retrieving Various Properties of a DataFrame Object"
   ]
  },
  {
   "cell_type": "code",
   "execution_count": 13,
   "id": "dd179294",
   "metadata": {},
   "outputs": [
    {
     "data": {
      "text/plain": [
       "Index(['name', 'age', 'sex'], dtype='object')"
      ]
     },
     "execution_count": 13,
     "metadata": {},
     "output_type": "execute_result"
    }
   ],
   "source": [
    "df2.index"
   ]
  },
  {
   "cell_type": "code",
   "execution_count": 14,
   "id": "efa072a2",
   "metadata": {},
   "outputs": [
    {
     "data": {
      "text/plain": [
       "Index(['Marketing', 'Sales'], dtype='object')"
      ]
     },
     "execution_count": 14,
     "metadata": {},
     "output_type": "execute_result"
    }
   ],
   "source": [
    "df2.columns"
   ]
  },
  {
   "cell_type": "code",
   "execution_count": 15,
   "id": "5fdb6e68",
   "metadata": {},
   "outputs": [
    {
     "data": {
      "text/plain": [
       "[Index(['name', 'age', 'sex'], dtype='object'),\n",
       " Index(['Marketing', 'Sales'], dtype='object')]"
      ]
     },
     "execution_count": 15,
     "metadata": {},
     "output_type": "execute_result"
    }
   ],
   "source": [
    "df2.axes"
   ]
  },
  {
   "cell_type": "code",
   "execution_count": 16,
   "id": "3c8546df",
   "metadata": {},
   "outputs": [
    {
     "data": {
      "text/plain": [
       "Marketing    object\n",
       "Sales        object\n",
       "dtype: object"
      ]
     },
     "execution_count": 16,
     "metadata": {},
     "output_type": "execute_result"
    }
   ],
   "source": [
    "df2.dtypes"
   ]
  },
  {
   "cell_type": "code",
   "execution_count": 17,
   "id": "8a103f73",
   "metadata": {},
   "outputs": [
    {
     "data": {
      "text/plain": [
       "6"
      ]
     },
     "execution_count": 17,
     "metadata": {},
     "output_type": "execute_result"
    }
   ],
   "source": [
    "df2.size"
   ]
  },
  {
   "cell_type": "code",
   "execution_count": 18,
   "id": "52ae7290",
   "metadata": {},
   "outputs": [
    {
     "data": {
      "text/plain": [
       "(3, 2)"
      ]
     },
     "execution_count": 18,
     "metadata": {},
     "output_type": "execute_result"
    }
   ],
   "source": [
    "df2.shape"
   ]
  },
  {
   "cell_type": "code",
   "execution_count": 19,
   "id": "2dba3326",
   "metadata": {},
   "outputs": [
    {
     "data": {
      "text/plain": [
       "2"
      ]
     },
     "execution_count": 19,
     "metadata": {},
     "output_type": "execute_result"
    }
   ],
   "source": [
    "df2.ndim"
   ]
  },
  {
   "cell_type": "code",
   "execution_count": 20,
   "id": "b09896be",
   "metadata": {},
   "outputs": [
    {
     "data": {
      "text/plain": [
       "False"
      ]
     },
     "execution_count": 20,
     "metadata": {},
     "output_type": "execute_result"
    }
   ],
   "source": [
    "df2.empty"
   ]
  },
  {
   "cell_type": "markdown",
   "id": "c9847f04",
   "metadata": {},
   "source": [
    "(b) Getting Number of Rows in a DataFrame"
   ]
  },
  {
   "cell_type": "code",
   "execution_count": 21,
   "id": "ac395762",
   "metadata": {},
   "outputs": [
    {
     "data": {
      "text/plain": [
       "3"
      ]
     },
     "execution_count": 21,
     "metadata": {},
     "output_type": "execute_result"
    }
   ],
   "source": [
    "len(df2)"
   ]
  },
  {
   "cell_type": "markdown",
   "id": "c522a09c",
   "metadata": {},
   "source": [
    "(c) Getting Count of non-NaN values in a DataFrame"
   ]
  },
  {
   "cell_type": "code",
   "execution_count": 22,
   "id": "fe4f6299",
   "metadata": {},
   "outputs": [
    {
     "data": {
      "text/plain": [
       "Marketing    3\n",
       "Sales        3\n",
       "dtype: int64"
      ]
     },
     "execution_count": 22,
     "metadata": {},
     "output_type": "execute_result"
    }
   ],
   "source": [
    "df2.count()"
   ]
  },
  {
   "cell_type": "code",
   "execution_count": 23,
   "id": "38d3db94",
   "metadata": {},
   "outputs": [
    {
     "data": {
      "text/plain": [
       "name    2\n",
       "age     2\n",
       "sex     2\n",
       "dtype: int64"
      ]
     },
     "execution_count": 23,
     "metadata": {},
     "output_type": "execute_result"
    }
   ],
   "source": [
    "df2.count(1)"
   ]
  },
  {
   "cell_type": "code",
   "execution_count": 24,
   "id": "1680badc",
   "metadata": {},
   "outputs": [
    {
     "data": {
      "text/plain": [
       "Marketing    3\n",
       "Sales        3\n",
       "dtype: int64"
      ]
     },
     "execution_count": 24,
     "metadata": {},
     "output_type": "execute_result"
    }
   ],
   "source": [
    "df2.count(axis='index')"
   ]
  },
  {
   "cell_type": "code",
   "execution_count": 25,
   "id": "b5b43982",
   "metadata": {},
   "outputs": [
    {
     "data": {
      "text/plain": [
       "name    2\n",
       "age     2\n",
       "sex     2\n",
       "dtype: int64"
      ]
     },
     "execution_count": 25,
     "metadata": {},
     "output_type": "execute_result"
    }
   ],
   "source": [
    "df2.count(axis='columns')"
   ]
  },
  {
   "cell_type": "markdown",
   "id": "ce29828c",
   "metadata": {},
   "source": [
    "(d) Transposing DataFrame"
   ]
  },
  {
   "cell_type": "code",
   "execution_count": 26,
   "id": "ac5e44c8",
   "metadata": {},
   "outputs": [
    {
     "data": {
      "text/html": [
       "<div>\n",
       "<style scoped>\n",
       "    .dataframe tbody tr th:only-of-type {\n",
       "        vertical-align: middle;\n",
       "    }\n",
       "\n",
       "    .dataframe tbody tr th {\n",
       "        vertical-align: top;\n",
       "    }\n",
       "\n",
       "    .dataframe thead th {\n",
       "        text-align: right;\n",
       "    }\n",
       "</style>\n",
       "<table border=\"1\" class=\"dataframe\">\n",
       "  <thead>\n",
       "    <tr style=\"text-align: right;\">\n",
       "      <th></th>\n",
       "      <th>name</th>\n",
       "      <th>age</th>\n",
       "      <th>sex</th>\n",
       "    </tr>\n",
       "  </thead>\n",
       "  <tbody>\n",
       "    <tr>\n",
       "      <th>Marketing</th>\n",
       "      <td>Neha</td>\n",
       "      <td>25</td>\n",
       "      <td>Female</td>\n",
       "    </tr>\n",
       "    <tr>\n",
       "      <th>Sales</th>\n",
       "      <td>Rohit</td>\n",
       "      <td>24</td>\n",
       "      <td>Male</td>\n",
       "    </tr>\n",
       "  </tbody>\n",
       "</table>\n",
       "</div>"
      ],
      "text/plain": [
       "            name age     sex\n",
       "Marketing   Neha  25  Female\n",
       "Sales      Rohit  24    Male"
      ]
     },
     "execution_count": 26,
     "metadata": {},
     "output_type": "execute_result"
    }
   ],
   "source": [
    "df2.T"
   ]
  },
  {
   "cell_type": "markdown",
   "id": "f2c4ba08",
   "metadata": {},
   "source": [
    "(e) Numpy Representation of a DataFrame"
   ]
  },
  {
   "cell_type": "code",
   "execution_count": 27,
   "id": "d0ba2a20",
   "metadata": {},
   "outputs": [
    {
     "data": {
      "text/plain": [
       "array([['Neha', 'Rohit'],\n",
       "       ['25', '24'],\n",
       "       ['Female', 'Male']], dtype=object)"
      ]
     },
     "execution_count": 27,
     "metadata": {},
     "output_type": "execute_result"
    }
   ],
   "source": [
    "df2.values"
   ]
  },
  {
   "cell_type": "code",
   "execution_count": null,
   "id": "b2914204",
   "metadata": {},
   "outputs": [],
   "source": []
  }
 ],
 "metadata": {
  "kernelspec": {
   "display_name": "Python 3 (ipykernel)",
   "language": "python",
   "name": "python3"
  },
  "language_info": {
   "codemirror_mode": {
    "name": "ipython",
    "version": 3
   },
   "file_extension": ".py",
   "mimetype": "text/x-python",
   "name": "python",
   "nbconvert_exporter": "python",
   "pygments_lexer": "ipython3",
   "version": "3.9.7"
  }
 },
 "nbformat": 4,
 "nbformat_minor": 5
}
