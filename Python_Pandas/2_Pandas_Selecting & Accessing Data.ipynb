{
 "cells": [
  {
   "cell_type": "markdown",
   "id": "a451655e",
   "metadata": {},
   "source": [
    "# SELECTING or ACCESSING Data"
   ]
  },
  {
   "cell_type": "code",
   "execution_count": 1,
   "id": "e37f801c",
   "metadata": {},
   "outputs": [
    {
     "data": {
      "text/html": [
       "<div>\n",
       "<style scoped>\n",
       "    .dataframe tbody tr th:only-of-type {\n",
       "        vertical-align: middle;\n",
       "    }\n",
       "\n",
       "    .dataframe tbody tr th {\n",
       "        vertical-align: top;\n",
       "    }\n",
       "\n",
       "    .dataframe thead th {\n",
       "        text-align: right;\n",
       "    }\n",
       "</style>\n",
       "<table border=\"1\" class=\"dataframe\">\n",
       "  <thead>\n",
       "    <tr style=\"text-align: right;\">\n",
       "      <th></th>\n",
       "      <th>Population</th>\n",
       "      <th>Hospitals</th>\n",
       "      <th>Schools</th>\n",
       "    </tr>\n",
       "  </thead>\n",
       "  <tbody>\n",
       "    <tr>\n",
       "      <th>Delhi</th>\n",
       "      <td>10927986</td>\n",
       "      <td>189</td>\n",
       "      <td>7916</td>\n",
       "    </tr>\n",
       "    <tr>\n",
       "      <th>Mumbai</th>\n",
       "      <td>12691836</td>\n",
       "      <td>208</td>\n",
       "      <td>8508</td>\n",
       "    </tr>\n",
       "    <tr>\n",
       "      <th>Kolkata</th>\n",
       "      <td>4631392</td>\n",
       "      <td>149</td>\n",
       "      <td>7226</td>\n",
       "    </tr>\n",
       "    <tr>\n",
       "      <th>Chennai</th>\n",
       "      <td>4328063</td>\n",
       "      <td>157</td>\n",
       "      <td>7617</td>\n",
       "    </tr>\n",
       "  </tbody>\n",
       "</table>\n",
       "</div>"
      ],
      "text/plain": [
       "         Population  Hospitals  Schools\n",
       "Delhi      10927986        189     7916\n",
       "Mumbai     12691836        208     8508\n",
       "Kolkata     4631392        149     7226\n",
       "Chennai     4328063        157     7617"
      ]
     },
     "execution_count": 1,
     "metadata": {},
     "output_type": "execute_result"
    }
   ],
   "source": [
    "import pandas as pd\n",
    "cityD={'Population':10927986,'Hospitals':189,'Schools':7916}\n",
    "cityM={'Population':12691836,'Hospitals':208,'Schools':8508}\n",
    "cityK={'Population':4631392,'Hospitals':149,'Schools':7226}\n",
    "cityC={'Population':4328063,'Hospitals':157,'Schools':7617}\n",
    "cities=[cityD,cityM,cityK,cityC]\n",
    "df5=pd.DataFrame(cities,index=[\"Delhi\",\"Mumbai\",\"Kolkata\",\"Chennai\"])\n",
    "df5"
   ]
  },
  {
   "cell_type": "markdown",
   "id": "90bcc0ac",
   "metadata": {},
   "source": [
    "# (a) Selecting/Accessing a Column"
   ]
  },
  {
   "cell_type": "code",
   "execution_count": 2,
   "id": "0b24ad2e",
   "metadata": {},
   "outputs": [
    {
     "data": {
      "text/plain": [
       "Delhi      10927986\n",
       "Mumbai     12691836\n",
       "Kolkata     4631392\n",
       "Chennai     4328063\n",
       "Name: Population, dtype: int64"
      ]
     },
     "execution_count": 2,
     "metadata": {},
     "output_type": "execute_result"
    }
   ],
   "source": [
    "df5.Population        # using dot notations"
   ]
  },
  {
   "cell_type": "code",
   "execution_count": 3,
   "id": "46177c30",
   "metadata": {},
   "outputs": [
    {
     "data": {
      "text/plain": [
       "Delhi      7916\n",
       "Mumbai     8508\n",
       "Kolkata    7226\n",
       "Chennai    7617\n",
       "Name: Schools, dtype: int64"
      ]
     },
     "execution_count": 3,
     "metadata": {},
     "output_type": "execute_result"
    }
   ],
   "source": [
    "df5['Schools']        # using square brackets"
   ]
  },
  {
   "cell_type": "markdown",
   "id": "3aff0e0a",
   "metadata": {},
   "source": [
    "# (b) Selecting/Accessing Multiple Columns"
   ]
  },
  {
   "cell_type": "code",
   "execution_count": 4,
   "id": "0c7fc304",
   "metadata": {},
   "outputs": [
    {
     "data": {
      "text/html": [
       "<div>\n",
       "<style scoped>\n",
       "    .dataframe tbody tr th:only-of-type {\n",
       "        vertical-align: middle;\n",
       "    }\n",
       "\n",
       "    .dataframe tbody tr th {\n",
       "        vertical-align: top;\n",
       "    }\n",
       "\n",
       "    .dataframe thead th {\n",
       "        text-align: right;\n",
       "    }\n",
       "</style>\n",
       "<table border=\"1\" class=\"dataframe\">\n",
       "  <thead>\n",
       "    <tr style=\"text-align: right;\">\n",
       "      <th></th>\n",
       "      <th>Schools</th>\n",
       "      <th>Hospitals</th>\n",
       "    </tr>\n",
       "  </thead>\n",
       "  <tbody>\n",
       "    <tr>\n",
       "      <th>Delhi</th>\n",
       "      <td>7916</td>\n",
       "      <td>189</td>\n",
       "    </tr>\n",
       "    <tr>\n",
       "      <th>Mumbai</th>\n",
       "      <td>8508</td>\n",
       "      <td>208</td>\n",
       "    </tr>\n",
       "    <tr>\n",
       "      <th>Kolkata</th>\n",
       "      <td>7226</td>\n",
       "      <td>149</td>\n",
       "    </tr>\n",
       "    <tr>\n",
       "      <th>Chennai</th>\n",
       "      <td>7617</td>\n",
       "      <td>157</td>\n",
       "    </tr>\n",
       "  </tbody>\n",
       "</table>\n",
       "</div>"
      ],
      "text/plain": [
       "         Schools  Hospitals\n",
       "Delhi       7916        189\n",
       "Mumbai      8508        208\n",
       "Kolkata     7226        149\n",
       "Chennai     7617        157"
      ]
     },
     "execution_count": 4,
     "metadata": {},
     "output_type": "execute_result"
    }
   ],
   "source": [
    "df5[['Schools','Hospitals']]   #ensure double square brackets, List have multiple column names given inside the square brackets"
   ]
  },
  {
   "cell_type": "markdown",
   "id": "f3109103",
   "metadata": {},
   "source": [
    "# (c) Selecting/Accessing a Subset from a DataFrame using Row/Column Names"
   ]
  },
  {
   "cell_type": "markdown",
   "id": "0686db0a",
   "metadata": {},
   "source": [
    "(i) to access a Row"
   ]
  },
  {
   "cell_type": "code",
   "execution_count": 5,
   "id": "10209691",
   "metadata": {},
   "outputs": [
    {
     "data": {
      "text/plain": [
       "Population    10927986\n",
       "Hospitals          189\n",
       "Schools           7916\n",
       "Name: Delhi, dtype: int64"
      ]
     },
     "execution_count": 5,
     "metadata": {},
     "output_type": "execute_result"
    }
   ],
   "source": [
    "df5.loc['Delhi',:]              #to access one row   <df>.loc[<row label>,:]"
   ]
  },
  {
   "cell_type": "markdown",
   "id": "847f7110",
   "metadata": {},
   "source": [
    "(ii) to access Multiple Rows"
   ]
  },
  {
   "cell_type": "code",
   "execution_count": 6,
   "id": "aba124d4",
   "metadata": {},
   "outputs": [
    {
     "data": {
      "text/html": [
       "<div>\n",
       "<style scoped>\n",
       "    .dataframe tbody tr th:only-of-type {\n",
       "        vertical-align: middle;\n",
       "    }\n",
       "\n",
       "    .dataframe tbody tr th {\n",
       "        vertical-align: top;\n",
       "    }\n",
       "\n",
       "    .dataframe thead th {\n",
       "        text-align: right;\n",
       "    }\n",
       "</style>\n",
       "<table border=\"1\" class=\"dataframe\">\n",
       "  <thead>\n",
       "    <tr style=\"text-align: right;\">\n",
       "      <th></th>\n",
       "      <th>Population</th>\n",
       "      <th>Hospitals</th>\n",
       "      <th>Schools</th>\n",
       "    </tr>\n",
       "  </thead>\n",
       "  <tbody>\n",
       "    <tr>\n",
       "      <th>Mumbai</th>\n",
       "      <td>12691836</td>\n",
       "      <td>208</td>\n",
       "      <td>8508</td>\n",
       "    </tr>\n",
       "    <tr>\n",
       "      <th>Kolkata</th>\n",
       "      <td>4631392</td>\n",
       "      <td>149</td>\n",
       "      <td>7226</td>\n",
       "    </tr>\n",
       "    <tr>\n",
       "      <th>Chennai</th>\n",
       "      <td>4328063</td>\n",
       "      <td>157</td>\n",
       "      <td>7617</td>\n",
       "    </tr>\n",
       "  </tbody>\n",
       "</table>\n",
       "</div>"
      ],
      "text/plain": [
       "         Population  Hospitals  Schools\n",
       "Mumbai     12691836        208     8508\n",
       "Kolkata     4631392        149     7226\n",
       "Chennai     4328063        157     7617"
      ]
     },
     "execution_count": 6,
     "metadata": {},
     "output_type": "execute_result"
    }
   ],
   "source": [
    "df5.loc['Mumbai':'Chennai',:]    #to access multiple rows   <df>.loc[<start row label>:<end row label>,:]"
   ]
  },
  {
   "cell_type": "markdown",
   "id": "dbb93571",
   "metadata": {},
   "source": [
    "(iii) to access Selective Columns"
   ]
  },
  {
   "cell_type": "code",
   "execution_count": 7,
   "id": "6d1911ce",
   "metadata": {},
   "outputs": [
    {
     "data": {
      "text/html": [
       "<div>\n",
       "<style scoped>\n",
       "    .dataframe tbody tr th:only-of-type {\n",
       "        vertical-align: middle;\n",
       "    }\n",
       "\n",
       "    .dataframe tbody tr th {\n",
       "        vertical-align: top;\n",
       "    }\n",
       "\n",
       "    .dataframe thead th {\n",
       "        text-align: right;\n",
       "    }\n",
       "</style>\n",
       "<table border=\"1\" class=\"dataframe\">\n",
       "  <thead>\n",
       "    <tr style=\"text-align: right;\">\n",
       "      <th></th>\n",
       "      <th>Population</th>\n",
       "      <th>Hospitals</th>\n",
       "      <th>Schools</th>\n",
       "    </tr>\n",
       "  </thead>\n",
       "  <tbody>\n",
       "    <tr>\n",
       "      <th>Delhi</th>\n",
       "      <td>10927986</td>\n",
       "      <td>189</td>\n",
       "      <td>7916</td>\n",
       "    </tr>\n",
       "    <tr>\n",
       "      <th>Mumbai</th>\n",
       "      <td>12691836</td>\n",
       "      <td>208</td>\n",
       "      <td>8508</td>\n",
       "    </tr>\n",
       "    <tr>\n",
       "      <th>Kolkata</th>\n",
       "      <td>4631392</td>\n",
       "      <td>149</td>\n",
       "      <td>7226</td>\n",
       "    </tr>\n",
       "    <tr>\n",
       "      <th>Chennai</th>\n",
       "      <td>4328063</td>\n",
       "      <td>157</td>\n",
       "      <td>7617</td>\n",
       "    </tr>\n",
       "  </tbody>\n",
       "</table>\n",
       "</div>"
      ],
      "text/plain": [
       "         Population  Hospitals  Schools\n",
       "Delhi      10927986        189     7916\n",
       "Mumbai     12691836        208     8508\n",
       "Kolkata     4631392        149     7226\n",
       "Chennai     4328063        157     7617"
      ]
     },
     "execution_count": 7,
     "metadata": {},
     "output_type": "execute_result"
    }
   ],
   "source": [
    "df5.loc[:,'Population':'Schools']     #to access multiple colums   <df>.loc[:,<start column label>:<end column label>]"
   ]
  },
  {
   "cell_type": "markdown",
   "id": "98c9d346",
   "metadata": {},
   "source": [
    "(iv) to access Range of Columns from a Range of Rows "
   ]
  },
  {
   "cell_type": "code",
   "execution_count": 8,
   "id": "dde99213",
   "metadata": {},
   "outputs": [
    {
     "data": {
      "text/html": [
       "<div>\n",
       "<style scoped>\n",
       "    .dataframe tbody tr th:only-of-type {\n",
       "        vertical-align: middle;\n",
       "    }\n",
       "\n",
       "    .dataframe tbody tr th {\n",
       "        vertical-align: top;\n",
       "    }\n",
       "\n",
       "    .dataframe thead th {\n",
       "        text-align: right;\n",
       "    }\n",
       "</style>\n",
       "<table border=\"1\" class=\"dataframe\">\n",
       "  <thead>\n",
       "    <tr style=\"text-align: right;\">\n",
       "      <th></th>\n",
       "      <th>Population</th>\n",
       "      <th>Hospitals</th>\n",
       "    </tr>\n",
       "  </thead>\n",
       "  <tbody>\n",
       "    <tr>\n",
       "      <th>Mumbai</th>\n",
       "      <td>12691836</td>\n",
       "      <td>208</td>\n",
       "    </tr>\n",
       "    <tr>\n",
       "      <th>Kolkata</th>\n",
       "      <td>4631392</td>\n",
       "      <td>149</td>\n",
       "    </tr>\n",
       "    <tr>\n",
       "      <th>Chennai</th>\n",
       "      <td>4328063</td>\n",
       "      <td>157</td>\n",
       "    </tr>\n",
       "  </tbody>\n",
       "</table>\n",
       "</div>"
      ],
      "text/plain": [
       "         Population  Hospitals\n",
       "Mumbai     12691836        208\n",
       "Kolkata     4631392        149\n",
       "Chennai     4328063        157"
      ]
     },
     "execution_count": 8,
     "metadata": {},
     "output_type": "execute_result"
    }
   ],
   "source": [
    "df5.loc['Mumbai':'Chennai','Population':'Hospitals']   # <df>.loc[<start row>:<end row> ,<start column>:<end column>]\n",
    "                                                       #Selecting a Range of Columns from a Range of Rows"
   ]
  },
  {
   "cell_type": "markdown",
   "id": "19c8d9a0",
   "metadata": {},
   "source": [
    "\n",
    "# (d) Selecting Rows/Columns from a DataFrame"
   ]
  },
  {
   "cell_type": "markdown",
   "id": "8408148b",
   "metadata": {},
   "source": [
    "You can extract  subset from a DataFrame using the Row and column numeric index/position, we use iloc instead of loc."
   ]
  },
  {
   "cell_type": "code",
   "execution_count": 9,
   "id": "a6baa982",
   "metadata": {},
   "outputs": [
    {
     "data": {
      "text/html": [
       "<div>\n",
       "<style scoped>\n",
       "    .dataframe tbody tr th:only-of-type {\n",
       "        vertical-align: middle;\n",
       "    }\n",
       "\n",
       "    .dataframe tbody tr th {\n",
       "        vertical-align: top;\n",
       "    }\n",
       "\n",
       "    .dataframe thead th {\n",
       "        text-align: right;\n",
       "    }\n",
       "</style>\n",
       "<table border=\"1\" class=\"dataframe\">\n",
       "  <thead>\n",
       "    <tr style=\"text-align: right;\">\n",
       "      <th></th>\n",
       "      <th>Hospitals</th>\n",
       "      <th>Schools</th>\n",
       "    </tr>\n",
       "  </thead>\n",
       "  <tbody>\n",
       "    <tr>\n",
       "      <th>Delhi</th>\n",
       "      <td>189</td>\n",
       "      <td>7916</td>\n",
       "    </tr>\n",
       "    <tr>\n",
       "      <th>Mumbai</th>\n",
       "      <td>208</td>\n",
       "      <td>8508</td>\n",
       "    </tr>\n",
       "  </tbody>\n",
       "</table>\n",
       "</div>"
      ],
      "text/plain": [
       "        Hospitals  Schools\n",
       "Delhi         189     7916\n",
       "Mumbai        208     8508"
      ]
     },
     "execution_count": 9,
     "metadata": {},
     "output_type": "execute_result"
    }
   ],
   "source": [
    "df5.iloc[0:2,1:3]        #with iloc, the end index is excluded in the result"
   ]
  },
  {
   "cell_type": "code",
   "execution_count": 10,
   "id": "0d91ae88",
   "metadata": {},
   "outputs": [
    {
     "data": {
      "text/html": [
       "<div>\n",
       "<style scoped>\n",
       "    .dataframe tbody tr th:only-of-type {\n",
       "        vertical-align: middle;\n",
       "    }\n",
       "\n",
       "    .dataframe tbody tr th {\n",
       "        vertical-align: top;\n",
       "    }\n",
       "\n",
       "    .dataframe thead th {\n",
       "        text-align: right;\n",
       "    }\n",
       "</style>\n",
       "<table border=\"1\" class=\"dataframe\">\n",
       "  <thead>\n",
       "    <tr style=\"text-align: right;\">\n",
       "      <th></th>\n",
       "      <th>Hospitals</th>\n",
       "      <th>Schools</th>\n",
       "    </tr>\n",
       "  </thead>\n",
       "  <tbody>\n",
       "    <tr>\n",
       "      <th>Delhi</th>\n",
       "      <td>189</td>\n",
       "      <td>7916</td>\n",
       "    </tr>\n",
       "    <tr>\n",
       "      <th>Mumbai</th>\n",
       "      <td>208</td>\n",
       "      <td>8508</td>\n",
       "    </tr>\n",
       "    <tr>\n",
       "      <th>Kolkata</th>\n",
       "      <td>149</td>\n",
       "      <td>7226</td>\n",
       "    </tr>\n",
       "    <tr>\n",
       "      <th>Chennai</th>\n",
       "      <td>157</td>\n",
       "      <td>7617</td>\n",
       "    </tr>\n",
       "  </tbody>\n",
       "</table>\n",
       "</div>"
      ],
      "text/plain": [
       "         Hospitals  Schools\n",
       "Delhi          189     7916\n",
       "Mumbai         208     8508\n",
       "Kolkata        149     7226\n",
       "Chennai        157     7617"
      ]
     },
     "execution_count": 10,
     "metadata": {},
     "output_type": "execute_result"
    }
   ],
   "source": [
    "df5.iloc[:,1:3] "
   ]
  },
  {
   "cell_type": "code",
   "execution_count": 11,
   "id": "6afdb707",
   "metadata": {},
   "outputs": [
    {
     "data": {
      "text/html": [
       "<div>\n",
       "<style scoped>\n",
       "    .dataframe tbody tr th:only-of-type {\n",
       "        vertical-align: middle;\n",
       "    }\n",
       "\n",
       "    .dataframe tbody tr th {\n",
       "        vertical-align: top;\n",
       "    }\n",
       "\n",
       "    .dataframe thead th {\n",
       "        text-align: right;\n",
       "    }\n",
       "</style>\n",
       "<table border=\"1\" class=\"dataframe\">\n",
       "  <thead>\n",
       "    <tr style=\"text-align: right;\">\n",
       "      <th></th>\n",
       "      <th>Population</th>\n",
       "      <th>Hospitals</th>\n",
       "      <th>Schools</th>\n",
       "    </tr>\n",
       "  </thead>\n",
       "  <tbody>\n",
       "    <tr>\n",
       "      <th>Delhi</th>\n",
       "      <td>10927986</td>\n",
       "      <td>189</td>\n",
       "      <td>7916</td>\n",
       "    </tr>\n",
       "    <tr>\n",
       "      <th>Mumbai</th>\n",
       "      <td>12691836</td>\n",
       "      <td>208</td>\n",
       "      <td>8508</td>\n",
       "    </tr>\n",
       "  </tbody>\n",
       "</table>\n",
       "</div>"
      ],
      "text/plain": [
       "        Population  Hospitals  Schools\n",
       "Delhi     10927986        189     7916\n",
       "Mumbai    12691836        208     8508"
      ]
     },
     "execution_count": 11,
     "metadata": {},
     "output_type": "execute_result"
    }
   ],
   "source": [
    "df5.iloc[0:2,:] "
   ]
  },
  {
   "cell_type": "code",
   "execution_count": 12,
   "id": "1559434e",
   "metadata": {},
   "outputs": [
    {
     "data": {
      "text/html": [
       "<div>\n",
       "<style scoped>\n",
       "    .dataframe tbody tr th:only-of-type {\n",
       "        vertical-align: middle;\n",
       "    }\n",
       "\n",
       "    .dataframe tbody tr th {\n",
       "        vertical-align: top;\n",
       "    }\n",
       "\n",
       "    .dataframe thead th {\n",
       "        text-align: right;\n",
       "    }\n",
       "</style>\n",
       "<table border=\"1\" class=\"dataframe\">\n",
       "  <thead>\n",
       "    <tr style=\"text-align: right;\">\n",
       "      <th></th>\n",
       "      <th>Population</th>\n",
       "      <th>Hospitals</th>\n",
       "      <th>Schools</th>\n",
       "    </tr>\n",
       "  </thead>\n",
       "  <tbody>\n",
       "    <tr>\n",
       "      <th>Mumbai</th>\n",
       "      <td>12691836</td>\n",
       "      <td>208</td>\n",
       "      <td>8508</td>\n",
       "    </tr>\n",
       "    <tr>\n",
       "      <th>Kolkata</th>\n",
       "      <td>4631392</td>\n",
       "      <td>149</td>\n",
       "      <td>7226</td>\n",
       "    </tr>\n",
       "  </tbody>\n",
       "</table>\n",
       "</div>"
      ],
      "text/plain": [
       "         Population  Hospitals  Schools\n",
       "Mumbai     12691836        208     8508\n",
       "Kolkata     4631392        149     7226"
      ]
     },
     "execution_count": 12,
     "metadata": {},
     "output_type": "execute_result"
    }
   ],
   "source": [
    "df5[1:3]       #without loc or iloc it will give the result only for the rows excluding the end index"
   ]
  },
  {
   "cell_type": "markdown",
   "id": "303fd520",
   "metadata": {},
   "source": [
    "# (e) Selecting/Accesing the Individual Value"
   ]
  },
  {
   "cell_type": "code",
   "execution_count": 13,
   "id": "85ff1bd1",
   "metadata": {},
   "outputs": [
    {
     "data": {
      "text/plain": [
       "12691836"
      ]
     },
     "execution_count": 13,
     "metadata": {},
     "output_type": "execute_result"
    }
   ],
   "source": [
    "df5.Population['Mumbai']                    #<DF object>.<column>[row name]"
   ]
  },
  {
   "cell_type": "code",
   "execution_count": 14,
   "id": "d115baf5",
   "metadata": {},
   "outputs": [
    {
     "data": {
      "text/plain": [
       "12691836"
      ]
     },
     "execution_count": 14,
     "metadata": {},
     "output_type": "execute_result"
    }
   ],
   "source": [
    "df5.Population[1]                           #<DF object>.<column>[row index]"
   ]
  },
  {
   "cell_type": "markdown",
   "id": "abc3bb9f",
   "metadata": {},
   "source": [
    "You can use at or iat attributes with DF object"
   ]
  },
  {
   "cell_type": "code",
   "execution_count": 15,
   "id": "59815183",
   "metadata": {},
   "outputs": [
    {
     "data": {
      "text/plain": [
       "7617"
      ]
     },
     "execution_count": 15,
     "metadata": {},
     "output_type": "execute_result"
    }
   ],
   "source": [
    "df5.at['Chennai','Schools']               #<DF object>.at[<row label>,<column label>]"
   ]
  },
  {
   "cell_type": "code",
   "execution_count": 16,
   "id": "98fc66dd",
   "metadata": {},
   "outputs": [
    {
     "data": {
      "text/plain": [
       "7617"
      ]
     },
     "execution_count": 16,
     "metadata": {},
     "output_type": "execute_result"
    }
   ],
   "source": [
    "df5.iat[3,2]                              #<DF object>.iat[<row index>,<column index>]"
   ]
  },
  {
   "cell_type": "markdown",
   "id": "bf425397",
   "metadata": {},
   "source": [
    "# (f) Selecting DataFrame Rows/Columns based on Boolean Conditiions"
   ]
  },
  {
   "cell_type": "markdown",
   "id": "11a72c59",
   "metadata": {},
   "source": [
    "df.[column name]condition    OR     df.loc[column name]condition"
   ]
  },
  {
   "cell_type": "code",
   "execution_count": 17,
   "id": "9c7aebf7",
   "metadata": {},
   "outputs": [
    {
     "data": {
      "text/html": [
       "<div>\n",
       "<style scoped>\n",
       "    .dataframe tbody tr th:only-of-type {\n",
       "        vertical-align: middle;\n",
       "    }\n",
       "\n",
       "    .dataframe tbody tr th {\n",
       "        vertical-align: top;\n",
       "    }\n",
       "\n",
       "    .dataframe thead th {\n",
       "        text-align: right;\n",
       "    }\n",
       "</style>\n",
       "<table border=\"1\" class=\"dataframe\">\n",
       "  <thead>\n",
       "    <tr style=\"text-align: right;\">\n",
       "      <th></th>\n",
       "      <th>Population</th>\n",
       "      <th>Hospitals</th>\n",
       "      <th>Schools</th>\n",
       "    </tr>\n",
       "  </thead>\n",
       "  <tbody>\n",
       "    <tr>\n",
       "      <th>Delhi</th>\n",
       "      <td>10927986</td>\n",
       "      <td>189</td>\n",
       "      <td>7916</td>\n",
       "    </tr>\n",
       "    <tr>\n",
       "      <th>Mumbai</th>\n",
       "      <td>12691836</td>\n",
       "      <td>208</td>\n",
       "      <td>8508</td>\n",
       "    </tr>\n",
       "    <tr>\n",
       "      <th>Kolkata</th>\n",
       "      <td>4631392</td>\n",
       "      <td>149</td>\n",
       "      <td>7226</td>\n",
       "    </tr>\n",
       "    <tr>\n",
       "      <th>Chennai</th>\n",
       "      <td>4328063</td>\n",
       "      <td>157</td>\n",
       "      <td>7617</td>\n",
       "    </tr>\n",
       "  </tbody>\n",
       "</table>\n",
       "</div>"
      ],
      "text/plain": [
       "         Population  Hospitals  Schools\n",
       "Delhi      10927986        189     7916\n",
       "Mumbai     12691836        208     8508\n",
       "Kolkata     4631392        149     7226\n",
       "Chennai     4328063        157     7617"
      ]
     },
     "execution_count": 17,
     "metadata": {},
     "output_type": "execute_result"
    }
   ],
   "source": [
    "df5"
   ]
  },
  {
   "cell_type": "code",
   "execution_count": 18,
   "id": "dbf7f868",
   "metadata": {},
   "outputs": [
    {
     "data": {
      "text/plain": [
       "Delhi       True\n",
       "Mumbai      True\n",
       "Kolkata    False\n",
       "Chennai     True\n",
       "Name: Schools, dtype: bool"
      ]
     },
     "execution_count": 18,
     "metadata": {},
     "output_type": "execute_result"
    }
   ],
   "source": [
    "df5['Schools']>7500                  #this will only return the result either 'true' or 'false'"
   ]
  },
  {
   "cell_type": "code",
   "execution_count": 19,
   "id": "a0f4cb44",
   "metadata": {},
   "outputs": [
    {
     "data": {
      "text/html": [
       "<div>\n",
       "<style scoped>\n",
       "    .dataframe tbody tr th:only-of-type {\n",
       "        vertical-align: middle;\n",
       "    }\n",
       "\n",
       "    .dataframe tbody tr th {\n",
       "        vertical-align: top;\n",
       "    }\n",
       "\n",
       "    .dataframe thead th {\n",
       "        text-align: right;\n",
       "    }\n",
       "</style>\n",
       "<table border=\"1\" class=\"dataframe\">\n",
       "  <thead>\n",
       "    <tr style=\"text-align: right;\">\n",
       "      <th></th>\n",
       "      <th>Population</th>\n",
       "      <th>Hospitals</th>\n",
       "      <th>Schools</th>\n",
       "    </tr>\n",
       "  </thead>\n",
       "  <tbody>\n",
       "    <tr>\n",
       "      <th>Delhi</th>\n",
       "      <td>10927986</td>\n",
       "      <td>189</td>\n",
       "      <td>7916</td>\n",
       "    </tr>\n",
       "    <tr>\n",
       "      <th>Mumbai</th>\n",
       "      <td>12691836</td>\n",
       "      <td>208</td>\n",
       "      <td>8508</td>\n",
       "    </tr>\n",
       "    <tr>\n",
       "      <th>Chennai</th>\n",
       "      <td>4328063</td>\n",
       "      <td>157</td>\n",
       "      <td>7617</td>\n",
       "    </tr>\n",
       "  </tbody>\n",
       "</table>\n",
       "</div>"
      ],
      "text/plain": [
       "         Population  Hospitals  Schools\n",
       "Delhi      10927986        189     7916\n",
       "Mumbai     12691836        208     8508\n",
       "Chennai     4328063        157     7617"
      ]
     },
     "execution_count": 19,
     "metadata": {},
     "output_type": "execute_result"
    }
   ],
   "source": [
    "df5[df5['Schools']>7500 ]    #df[df.[column name]condition]\n",
    "                             #this will return the subset from the DF with actual data values where the given condition is true."
   ]
  },
  {
   "cell_type": "code",
   "execution_count": 20,
   "id": "a1d83256",
   "metadata": {},
   "outputs": [
    {
     "data": {
      "text/html": [
       "<div>\n",
       "<style scoped>\n",
       "    .dataframe tbody tr th:only-of-type {\n",
       "        vertical-align: middle;\n",
       "    }\n",
       "\n",
       "    .dataframe tbody tr th {\n",
       "        vertical-align: top;\n",
       "    }\n",
       "\n",
       "    .dataframe thead th {\n",
       "        text-align: right;\n",
       "    }\n",
       "</style>\n",
       "<table border=\"1\" class=\"dataframe\">\n",
       "  <thead>\n",
       "    <tr style=\"text-align: right;\">\n",
       "      <th></th>\n",
       "      <th>Population</th>\n",
       "      <th>Hospitals</th>\n",
       "      <th>Schools</th>\n",
       "    </tr>\n",
       "  </thead>\n",
       "  <tbody>\n",
       "    <tr>\n",
       "      <th>Delhi</th>\n",
       "      <td>10927986</td>\n",
       "      <td>189</td>\n",
       "      <td>7916</td>\n",
       "    </tr>\n",
       "    <tr>\n",
       "      <th>Mumbai</th>\n",
       "      <td>12691836</td>\n",
       "      <td>208</td>\n",
       "      <td>8508</td>\n",
       "    </tr>\n",
       "  </tbody>\n",
       "</table>\n",
       "</div>"
      ],
      "text/plain": [
       "        Population  Hospitals  Schools\n",
       "Delhi     10927986        189     7916\n",
       "Mumbai    12691836        208     8508"
      ]
     },
     "execution_count": 20,
     "metadata": {},
     "output_type": "execute_result"
    }
   ],
   "source": [
    "df5.loc[df5['Population']>10000000 ]     # .loc will be applied with the outer df, not with the condition inside."
   ]
  },
  {
   "cell_type": "code",
   "execution_count": null,
   "id": "400d4d44",
   "metadata": {},
   "outputs": [],
   "source": []
  },
  {
   "cell_type": "code",
   "execution_count": null,
   "id": "5898ac1b",
   "metadata": {},
   "outputs": [],
   "source": []
  },
  {
   "cell_type": "code",
   "execution_count": null,
   "id": "29a08981",
   "metadata": {},
   "outputs": [],
   "source": []
  },
  {
   "cell_type": "code",
   "execution_count": null,
   "id": "1412e3f2",
   "metadata": {},
   "outputs": [],
   "source": []
  },
  {
   "cell_type": "code",
   "execution_count": null,
   "id": "e6d8ecd8",
   "metadata": {},
   "outputs": [],
   "source": []
  }
 ],
 "metadata": {
  "kernelspec": {
   "display_name": "Python 3 (ipykernel)",
   "language": "python",
   "name": "python3"
  },
  "language_info": {
   "codemirror_mode": {
    "name": "ipython",
    "version": 3
   },
   "file_extension": ".py",
   "mimetype": "text/x-python",
   "name": "python",
   "nbconvert_exporter": "python",
   "pygments_lexer": "ipython3",
   "version": "3.9.7"
  }
 },
 "nbformat": 4,
 "nbformat_minor": 5
}
