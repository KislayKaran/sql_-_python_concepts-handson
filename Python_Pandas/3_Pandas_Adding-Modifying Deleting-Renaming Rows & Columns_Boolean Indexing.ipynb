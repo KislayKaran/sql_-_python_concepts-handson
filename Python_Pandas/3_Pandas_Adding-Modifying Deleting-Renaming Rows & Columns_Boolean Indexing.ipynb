{
 "cells": [
  {
   "cell_type": "code",
   "execution_count": 1,
   "id": "8dc5ffec",
   "metadata": {},
   "outputs": [
    {
     "data": {
      "text/html": [
       "<div>\n",
       "<style scoped>\n",
       "    .dataframe tbody tr th:only-of-type {\n",
       "        vertical-align: middle;\n",
       "    }\n",
       "\n",
       "    .dataframe tbody tr th {\n",
       "        vertical-align: top;\n",
       "    }\n",
       "\n",
       "    .dataframe thead th {\n",
       "        text-align: right;\n",
       "    }\n",
       "</style>\n",
       "<table border=\"1\" class=\"dataframe\">\n",
       "  <thead>\n",
       "    <tr style=\"text-align: right;\">\n",
       "      <th></th>\n",
       "      <th>Population</th>\n",
       "      <th>Hospitals</th>\n",
       "      <th>Schools</th>\n",
       "    </tr>\n",
       "  </thead>\n",
       "  <tbody>\n",
       "    <tr>\n",
       "      <th>Delhi</th>\n",
       "      <td>10927986</td>\n",
       "      <td>189</td>\n",
       "      <td>7916</td>\n",
       "    </tr>\n",
       "    <tr>\n",
       "      <th>Mumbai</th>\n",
       "      <td>12691836</td>\n",
       "      <td>208</td>\n",
       "      <td>8508</td>\n",
       "    </tr>\n",
       "    <tr>\n",
       "      <th>Kolkata</th>\n",
       "      <td>4631392</td>\n",
       "      <td>149</td>\n",
       "      <td>7226</td>\n",
       "    </tr>\n",
       "    <tr>\n",
       "      <th>Chennai</th>\n",
       "      <td>4328063</td>\n",
       "      <td>157</td>\n",
       "      <td>7617</td>\n",
       "    </tr>\n",
       "  </tbody>\n",
       "</table>\n",
       "</div>"
      ],
      "text/plain": [
       "         Population  Hospitals  Schools\n",
       "Delhi      10927986        189     7916\n",
       "Mumbai     12691836        208     8508\n",
       "Kolkata     4631392        149     7226\n",
       "Chennai     4328063        157     7617"
      ]
     },
     "execution_count": 1,
     "metadata": {},
     "output_type": "execute_result"
    }
   ],
   "source": [
    "import pandas as pd\n",
    "cityD={'Population':10927986,'Hospitals':189,'Schools':7916}\n",
    "cityM={'Population':12691836,'Hospitals':208,'Schools':8508}\n",
    "cityK={'Population':4631392,'Hospitals':149,'Schools':7226}\n",
    "cityC={'Population':4328063,'Hospitals':157,'Schools':7617}\n",
    "cities=[cityD,cityM,cityK,cityC]\n",
    "df5=pd.DataFrame(cities,index=[\"Delhi\",\"Mumbai\",\"Kolkata\",\"Chennai\"])\n",
    "df5"
   ]
  },
  {
   "cell_type": "markdown",
   "id": "f6e35a13",
   "metadata": {},
   "source": [
    "# Adding/Modifying a Row"
   ]
  },
  {
   "cell_type": "markdown",
   "id": "3ec2b34f",
   "metadata": {},
   "source": [
    "df.at['new_row_name',:]=new_value"
   ]
  },
  {
   "cell_type": "markdown",
   "id": "bbf51f40",
   "metadata": {},
   "source": [
    "df.loc['new_row_name',:]=new_value"
   ]
  },
  {
   "cell_type": "code",
   "execution_count": 2,
   "id": "0bb5fc6b",
   "metadata": {},
   "outputs": [
    {
     "data": {
      "text/html": [
       "<div>\n",
       "<style scoped>\n",
       "    .dataframe tbody tr th:only-of-type {\n",
       "        vertical-align: middle;\n",
       "    }\n",
       "\n",
       "    .dataframe tbody tr th {\n",
       "        vertical-align: top;\n",
       "    }\n",
       "\n",
       "    .dataframe thead th {\n",
       "        text-align: right;\n",
       "    }\n",
       "</style>\n",
       "<table border=\"1\" class=\"dataframe\">\n",
       "  <thead>\n",
       "    <tr style=\"text-align: right;\">\n",
       "      <th></th>\n",
       "      <th>Population</th>\n",
       "      <th>Hospitals</th>\n",
       "      <th>Schools</th>\n",
       "    </tr>\n",
       "  </thead>\n",
       "  <tbody>\n",
       "    <tr>\n",
       "      <th>Delhi</th>\n",
       "      <td>10927986.0</td>\n",
       "      <td>189.0</td>\n",
       "      <td>7916.0</td>\n",
       "    </tr>\n",
       "    <tr>\n",
       "      <th>Mumbai</th>\n",
       "      <td>12691836.0</td>\n",
       "      <td>208.0</td>\n",
       "      <td>8508.0</td>\n",
       "    </tr>\n",
       "    <tr>\n",
       "      <th>Kolkata</th>\n",
       "      <td>4631392.0</td>\n",
       "      <td>149.0</td>\n",
       "      <td>7226.0</td>\n",
       "    </tr>\n",
       "    <tr>\n",
       "      <th>Chennai</th>\n",
       "      <td>4328063.0</td>\n",
       "      <td>157.0</td>\n",
       "      <td>7617.0</td>\n",
       "    </tr>\n",
       "    <tr>\n",
       "      <th>Bangalore</th>\n",
       "      <td>10002980.0</td>\n",
       "      <td>171.0</td>\n",
       "      <td>7311.0</td>\n",
       "    </tr>\n",
       "  </tbody>\n",
       "</table>\n",
       "</div>"
      ],
      "text/plain": [
       "           Population  Hospitals  Schools\n",
       "Delhi      10927986.0      189.0   7916.0\n",
       "Mumbai     12691836.0      208.0   8508.0\n",
       "Kolkata     4631392.0      149.0   7226.0\n",
       "Chennai     4328063.0      157.0   7617.0\n",
       "Bangalore  10002980.0      171.0   7311.0"
      ]
     },
     "execution_count": 2,
     "metadata": {},
     "output_type": "execute_result"
    }
   ],
   "source": [
    "df5.at['Bangalore',:]=[10002980,171,7311]      # make sure to add the respective  values w.r.t no of columns\n",
    "df5                                            # just a single value will assign and will be given to all its columns."
   ]
  },
  {
   "cell_type": "code",
   "execution_count": 3,
   "id": "2283e2c6",
   "metadata": {},
   "outputs": [
    {
     "data": {
      "text/html": [
       "<div>\n",
       "<style scoped>\n",
       "    .dataframe tbody tr th:only-of-type {\n",
       "        vertical-align: middle;\n",
       "    }\n",
       "\n",
       "    .dataframe tbody tr th {\n",
       "        vertical-align: top;\n",
       "    }\n",
       "\n",
       "    .dataframe thead th {\n",
       "        text-align: right;\n",
       "    }\n",
       "</style>\n",
       "<table border=\"1\" class=\"dataframe\">\n",
       "  <thead>\n",
       "    <tr style=\"text-align: right;\">\n",
       "      <th></th>\n",
       "      <th>Population</th>\n",
       "      <th>Hospitals</th>\n",
       "      <th>Schools</th>\n",
       "    </tr>\n",
       "  </thead>\n",
       "  <tbody>\n",
       "    <tr>\n",
       "      <th>Delhi</th>\n",
       "      <td>10927986.0</td>\n",
       "      <td>189.0</td>\n",
       "      <td>7916.0</td>\n",
       "    </tr>\n",
       "    <tr>\n",
       "      <th>Mumbai</th>\n",
       "      <td>12691836.0</td>\n",
       "      <td>208.0</td>\n",
       "      <td>8508.0</td>\n",
       "    </tr>\n",
       "    <tr>\n",
       "      <th>Kolkata</th>\n",
       "      <td>4631392.0</td>\n",
       "      <td>149.0</td>\n",
       "      <td>7226.0</td>\n",
       "    </tr>\n",
       "    <tr>\n",
       "      <th>Chennai</th>\n",
       "      <td>4328063.0</td>\n",
       "      <td>157.0</td>\n",
       "      <td>7617.0</td>\n",
       "    </tr>\n",
       "    <tr>\n",
       "      <th>Bangalore</th>\n",
       "      <td>10002980.0</td>\n",
       "      <td>171.0</td>\n",
       "      <td>7311.0</td>\n",
       "    </tr>\n",
       "    <tr>\n",
       "      <th>Hyderabad</th>\n",
       "      <td>10451120.0</td>\n",
       "      <td>263.0</td>\n",
       "      <td>9126.0</td>\n",
       "    </tr>\n",
       "  </tbody>\n",
       "</table>\n",
       "</div>"
      ],
      "text/plain": [
       "           Population  Hospitals  Schools\n",
       "Delhi      10927986.0      189.0   7916.0\n",
       "Mumbai     12691836.0      208.0   8508.0\n",
       "Kolkata     4631392.0      149.0   7226.0\n",
       "Chennai     4328063.0      157.0   7617.0\n",
       "Bangalore  10002980.0      171.0   7311.0\n",
       "Hyderabad  10451120.0      263.0   9126.0"
      ]
     },
     "execution_count": 3,
     "metadata": {},
     "output_type": "execute_result"
    }
   ],
   "source": [
    "df5.loc['Hyderabad',:]=[10451120,263,9126]\n",
    "df5"
   ]
  },
  {
   "cell_type": "markdown",
   "id": "cbfa2150",
   "metadata": {},
   "source": [
    "Make sure that the sequence containing values for the new column must have values equal to no. of columns in the DF."
   ]
  },
  {
   "cell_type": "code",
   "execution_count": 4,
   "id": "57a98aa1",
   "metadata": {},
   "outputs": [
    {
     "data": {
      "text/html": [
       "<div>\n",
       "<style scoped>\n",
       "    .dataframe tbody tr th:only-of-type {\n",
       "        vertical-align: middle;\n",
       "    }\n",
       "\n",
       "    .dataframe tbody tr th {\n",
       "        vertical-align: top;\n",
       "    }\n",
       "\n",
       "    .dataframe thead th {\n",
       "        text-align: right;\n",
       "    }\n",
       "</style>\n",
       "<table border=\"1\" class=\"dataframe\">\n",
       "  <thead>\n",
       "    <tr style=\"text-align: right;\">\n",
       "      <th></th>\n",
       "      <th>Population</th>\n",
       "      <th>Hospitals</th>\n",
       "      <th>Schools</th>\n",
       "    </tr>\n",
       "  </thead>\n",
       "  <tbody>\n",
       "    <tr>\n",
       "      <th>Delhi</th>\n",
       "      <td>10927986.0</td>\n",
       "      <td>189.0</td>\n",
       "      <td>7916.0</td>\n",
       "    </tr>\n",
       "    <tr>\n",
       "      <th>Mumbai</th>\n",
       "      <td>12691836.0</td>\n",
       "      <td>208.0</td>\n",
       "      <td>8508.0</td>\n",
       "    </tr>\n",
       "    <tr>\n",
       "      <th>Kolkata</th>\n",
       "      <td>4631392.0</td>\n",
       "      <td>149.0</td>\n",
       "      <td>7226.0</td>\n",
       "    </tr>\n",
       "    <tr>\n",
       "      <th>Chennai</th>\n",
       "      <td>4328063.0</td>\n",
       "      <td>157.0</td>\n",
       "      <td>7617.0</td>\n",
       "    </tr>\n",
       "    <tr>\n",
       "      <th>Bangalore</th>\n",
       "      <td>10002980.0</td>\n",
       "      <td>171.0</td>\n",
       "      <td>7311.0</td>\n",
       "    </tr>\n",
       "    <tr>\n",
       "      <th>Hyderabad</th>\n",
       "      <td>10452980.0</td>\n",
       "      <td>291.0</td>\n",
       "      <td>9806.0</td>\n",
       "    </tr>\n",
       "  </tbody>\n",
       "</table>\n",
       "</div>"
      ],
      "text/plain": [
       "           Population  Hospitals  Schools\n",
       "Delhi      10927986.0      189.0   7916.0\n",
       "Mumbai     12691836.0      208.0   8508.0\n",
       "Kolkata     4631392.0      149.0   7226.0\n",
       "Chennai     4328063.0      157.0   7617.0\n",
       "Bangalore  10002980.0      171.0   7311.0\n",
       "Hyderabad  10452980.0      291.0   9806.0"
      ]
     },
     "execution_count": 4,
     "metadata": {},
     "output_type": "execute_result"
    }
   ],
   "source": [
    "df5.loc['Hyderabad',:]=[10452980,291,9806]          # Modifying the existing row\n",
    "df5                                                 "
   ]
  },
  {
   "cell_type": "markdown",
   "id": "b4d04423",
   "metadata": {},
   "source": [
    "# Adding/Modifying a Column"
   ]
  },
  {
   "cell_type": "markdown",
   "id": "716b29f7",
   "metadata": {},
   "source": [
    "df.column_name=[new_values]"
   ]
  },
  {
   "cell_type": "markdown",
   "id": "df2fc296",
   "metadata": {},
   "source": [
    "df[column_name]=[new_values]"
   ]
  },
  {
   "cell_type": "markdown",
   "id": "ff81c19b",
   "metadata": {},
   "source": [
    "df.at[:,'col_name']=[col_values]"
   ]
  },
  {
   "cell_type": "markdown",
   "id": "54bb81ae",
   "metadata": {},
   "source": [
    "df.loc[:,'col_name']=[col_values]"
   ]
  },
  {
   "cell_type": "markdown",
   "id": "397b3521",
   "metadata": {},
   "source": [
    "dft=df.assign('col_name'=[values_for_col])"
   ]
  },
  {
   "cell_type": "code",
   "execution_count": 5,
   "id": "cbbf7eb3",
   "metadata": {},
   "outputs": [
    {
     "data": {
      "text/html": [
       "<div>\n",
       "<style scoped>\n",
       "    .dataframe tbody tr th:only-of-type {\n",
       "        vertical-align: middle;\n",
       "    }\n",
       "\n",
       "    .dataframe tbody tr th {\n",
       "        vertical-align: top;\n",
       "    }\n",
       "\n",
       "    .dataframe thead th {\n",
       "        text-align: right;\n",
       "    }\n",
       "</style>\n",
       "<table border=\"1\" class=\"dataframe\">\n",
       "  <thead>\n",
       "    <tr style=\"text-align: right;\">\n",
       "      <th></th>\n",
       "      <th>Population</th>\n",
       "      <th>Hospitals</th>\n",
       "      <th>Schools</th>\n",
       "      <th>Density</th>\n",
       "    </tr>\n",
       "  </thead>\n",
       "  <tbody>\n",
       "    <tr>\n",
       "      <th>Delhi</th>\n",
       "      <td>10927986.0</td>\n",
       "      <td>189.0</td>\n",
       "      <td>7916.0</td>\n",
       "      <td>1500</td>\n",
       "    </tr>\n",
       "    <tr>\n",
       "      <th>Mumbai</th>\n",
       "      <td>12691836.0</td>\n",
       "      <td>208.0</td>\n",
       "      <td>8508.0</td>\n",
       "      <td>1219</td>\n",
       "    </tr>\n",
       "    <tr>\n",
       "      <th>Kolkata</th>\n",
       "      <td>4631392.0</td>\n",
       "      <td>149.0</td>\n",
       "      <td>7226.0</td>\n",
       "      <td>1630</td>\n",
       "    </tr>\n",
       "    <tr>\n",
       "      <th>Chennai</th>\n",
       "      <td>4328063.0</td>\n",
       "      <td>157.0</td>\n",
       "      <td>7617.0</td>\n",
       "      <td>1050</td>\n",
       "    </tr>\n",
       "    <tr>\n",
       "      <th>Bangalore</th>\n",
       "      <td>10002980.0</td>\n",
       "      <td>171.0</td>\n",
       "      <td>7311.0</td>\n",
       "      <td>1100</td>\n",
       "    </tr>\n",
       "    <tr>\n",
       "      <th>Hyderabad</th>\n",
       "      <td>10452980.0</td>\n",
       "      <td>291.0</td>\n",
       "      <td>9806.0</td>\n",
       "      <td>1360</td>\n",
       "    </tr>\n",
       "  </tbody>\n",
       "</table>\n",
       "</div>"
      ],
      "text/plain": [
       "           Population  Hospitals  Schools  Density\n",
       "Delhi      10927986.0      189.0   7916.0     1500\n",
       "Mumbai     12691836.0      208.0   8508.0     1219\n",
       "Kolkata     4631392.0      149.0   7226.0     1630\n",
       "Chennai     4328063.0      157.0   7617.0     1050\n",
       "Bangalore  10002980.0      171.0   7311.0     1100\n",
       "Hyderabad  10452980.0      291.0   9806.0     1360"
      ]
     },
     "execution_count": 5,
     "metadata": {},
     "output_type": "execute_result"
    }
   ],
   "source": [
    "df5['Density']=[1500,1219,1630,1050,1100,1360]         # make sure to add the respective values w.r.t no of rows\n",
    "df5                                                    #just a single value will assign and will be given to all its rows."
   ]
  },
  {
   "cell_type": "markdown",
   "id": "23e6408a",
   "metadata": {},
   "source": [
    "For the existing column, it will change the data values and for non-existing column,\n",
    "it will add a new column along with its new values."
   ]
  },
  {
   "cell_type": "markdown",
   "id": "a4662326",
   "metadata": {},
   "source": [
    "Make sure that the sequence containing values for the new column must have values equal to no. of rows in the DF."
   ]
  },
  {
   "cell_type": "markdown",
   "id": "48478325",
   "metadata": {},
   "source": [
    "# Modifying a Single Cell/Single Data"
   ]
  },
  {
   "cell_type": "markdown",
   "id": "505396b3",
   "metadata": {},
   "source": [
    "df.iat[row_position,column_position]=new_value"
   ]
  },
  {
   "cell_type": "markdown",
   "id": "acaf3295",
   "metadata": {},
   "source": [
    "df.col_name['row_name']=new_value"
   ]
  },
  {
   "cell_type": "code",
   "execution_count": 6,
   "id": "8d3c5bd5",
   "metadata": {},
   "outputs": [
    {
     "name": "stderr",
     "output_type": "stream",
     "text": [
      "C:\\Users\\KISLAY~1\\AppData\\Local\\Temp/ipykernel_8144/4208483896.py:1: SettingWithCopyWarning: \n",
      "A value is trying to be set on a copy of a slice from a DataFrame\n",
      "\n",
      "See the caveats in the documentation: https://pandas.pydata.org/pandas-docs/stable/user_guide/indexing.html#returning-a-view-versus-a-copy\n",
      "  df5.Population['Bangalore']=5678097\n"
     ]
    },
    {
     "data": {
      "text/html": [
       "<div>\n",
       "<style scoped>\n",
       "    .dataframe tbody tr th:only-of-type {\n",
       "        vertical-align: middle;\n",
       "    }\n",
       "\n",
       "    .dataframe tbody tr th {\n",
       "        vertical-align: top;\n",
       "    }\n",
       "\n",
       "    .dataframe thead th {\n",
       "        text-align: right;\n",
       "    }\n",
       "</style>\n",
       "<table border=\"1\" class=\"dataframe\">\n",
       "  <thead>\n",
       "    <tr style=\"text-align: right;\">\n",
       "      <th></th>\n",
       "      <th>Population</th>\n",
       "      <th>Hospitals</th>\n",
       "      <th>Schools</th>\n",
       "      <th>Density</th>\n",
       "    </tr>\n",
       "  </thead>\n",
       "  <tbody>\n",
       "    <tr>\n",
       "      <th>Delhi</th>\n",
       "      <td>10927986.0</td>\n",
       "      <td>189.0</td>\n",
       "      <td>7916.0</td>\n",
       "      <td>1500</td>\n",
       "    </tr>\n",
       "    <tr>\n",
       "      <th>Mumbai</th>\n",
       "      <td>12691836.0</td>\n",
       "      <td>208.0</td>\n",
       "      <td>8508.0</td>\n",
       "      <td>1219</td>\n",
       "    </tr>\n",
       "    <tr>\n",
       "      <th>Kolkata</th>\n",
       "      <td>4631392.0</td>\n",
       "      <td>149.0</td>\n",
       "      <td>7226.0</td>\n",
       "      <td>1630</td>\n",
       "    </tr>\n",
       "    <tr>\n",
       "      <th>Chennai</th>\n",
       "      <td>4328063.0</td>\n",
       "      <td>157.0</td>\n",
       "      <td>7617.0</td>\n",
       "      <td>1050</td>\n",
       "    </tr>\n",
       "    <tr>\n",
       "      <th>Bangalore</th>\n",
       "      <td>5678097.0</td>\n",
       "      <td>171.0</td>\n",
       "      <td>7311.0</td>\n",
       "      <td>1100</td>\n",
       "    </tr>\n",
       "    <tr>\n",
       "      <th>Hyderabad</th>\n",
       "      <td>10452980.0</td>\n",
       "      <td>291.0</td>\n",
       "      <td>9806.0</td>\n",
       "      <td>1360</td>\n",
       "    </tr>\n",
       "  </tbody>\n",
       "</table>\n",
       "</div>"
      ],
      "text/plain": [
       "           Population  Hospitals  Schools  Density\n",
       "Delhi      10927986.0      189.0   7916.0     1500\n",
       "Mumbai     12691836.0      208.0   8508.0     1219\n",
       "Kolkata     4631392.0      149.0   7226.0     1630\n",
       "Chennai     4328063.0      157.0   7617.0     1050\n",
       "Bangalore   5678097.0      171.0   7311.0     1100\n",
       "Hyderabad  10452980.0      291.0   9806.0     1360"
      ]
     },
     "execution_count": 6,
     "metadata": {},
     "output_type": "execute_result"
    }
   ],
   "source": [
    "df5.Population['Bangalore']=5678097\n",
    "df5"
   ]
  },
  {
   "cell_type": "code",
   "execution_count": 7,
   "id": "491dcfdd",
   "metadata": {},
   "outputs": [
    {
     "data": {
      "text/html": [
       "<div>\n",
       "<style scoped>\n",
       "    .dataframe tbody tr th:only-of-type {\n",
       "        vertical-align: middle;\n",
       "    }\n",
       "\n",
       "    .dataframe tbody tr th {\n",
       "        vertical-align: top;\n",
       "    }\n",
       "\n",
       "    .dataframe thead th {\n",
       "        text-align: right;\n",
       "    }\n",
       "</style>\n",
       "<table border=\"1\" class=\"dataframe\">\n",
       "  <thead>\n",
       "    <tr style=\"text-align: right;\">\n",
       "      <th></th>\n",
       "      <th>Population</th>\n",
       "      <th>Hospitals</th>\n",
       "      <th>Schools</th>\n",
       "      <th>Density</th>\n",
       "    </tr>\n",
       "  </thead>\n",
       "  <tbody>\n",
       "    <tr>\n",
       "      <th>Delhi</th>\n",
       "      <td>10927986.0</td>\n",
       "      <td>189.0</td>\n",
       "      <td>7916.0</td>\n",
       "      <td>1500</td>\n",
       "    </tr>\n",
       "    <tr>\n",
       "      <th>Mumbai</th>\n",
       "      <td>12691836.0</td>\n",
       "      <td>208.0</td>\n",
       "      <td>8508.0</td>\n",
       "      <td>1219</td>\n",
       "    </tr>\n",
       "    <tr>\n",
       "      <th>Kolkata</th>\n",
       "      <td>4631392.0</td>\n",
       "      <td>149.0</td>\n",
       "      <td>7226.0</td>\n",
       "      <td>1630</td>\n",
       "    </tr>\n",
       "    <tr>\n",
       "      <th>Chennai</th>\n",
       "      <td>4328063.0</td>\n",
       "      <td>157.0</td>\n",
       "      <td>7617.0</td>\n",
       "      <td>1050</td>\n",
       "    </tr>\n",
       "    <tr>\n",
       "      <th>Bangalore</th>\n",
       "      <td>5678097.0</td>\n",
       "      <td>171.0</td>\n",
       "      <td>7311.0</td>\n",
       "      <td>1100</td>\n",
       "    </tr>\n",
       "    <tr>\n",
       "      <th>Hyderabad</th>\n",
       "      <td>10452980.0</td>\n",
       "      <td>291.0</td>\n",
       "      <td>9806.0</td>\n",
       "      <td>1360</td>\n",
       "    </tr>\n",
       "  </tbody>\n",
       "</table>\n",
       "</div>"
      ],
      "text/plain": [
       "           Population  Hospitals  Schools  Density\n",
       "Delhi      10927986.0      189.0   7916.0     1500\n",
       "Mumbai     12691836.0      208.0   8508.0     1219\n",
       "Kolkata     4631392.0      149.0   7226.0     1630\n",
       "Chennai     4328063.0      157.0   7617.0     1050\n",
       "Bangalore   5678097.0      171.0   7311.0     1100\n",
       "Hyderabad  10452980.0      291.0   9806.0     1360"
      ]
     },
     "execution_count": 7,
     "metadata": {},
     "output_type": "execute_result"
    }
   ],
   "source": [
    "df5"
   ]
  },
  {
   "cell_type": "code",
   "execution_count": 8,
   "id": "2bc9e562",
   "metadata": {},
   "outputs": [
    {
     "data": {
      "text/html": [
       "<div>\n",
       "<style scoped>\n",
       "    .dataframe tbody tr th:only-of-type {\n",
       "        vertical-align: middle;\n",
       "    }\n",
       "\n",
       "    .dataframe tbody tr th {\n",
       "        vertical-align: top;\n",
       "    }\n",
       "\n",
       "    .dataframe thead th {\n",
       "        text-align: right;\n",
       "    }\n",
       "</style>\n",
       "<table border=\"1\" class=\"dataframe\">\n",
       "  <thead>\n",
       "    <tr style=\"text-align: right;\">\n",
       "      <th></th>\n",
       "      <th>Population</th>\n",
       "      <th>Hospitals</th>\n",
       "      <th>Schools</th>\n",
       "      <th>Density</th>\n",
       "    </tr>\n",
       "  </thead>\n",
       "  <tbody>\n",
       "    <tr>\n",
       "      <th>Delhi</th>\n",
       "      <td>10927986.0</td>\n",
       "      <td>189.0</td>\n",
       "      <td>7916.0</td>\n",
       "      <td>1500</td>\n",
       "    </tr>\n",
       "    <tr>\n",
       "      <th>Mumbai</th>\n",
       "      <td>12691836.0</td>\n",
       "      <td>208.0</td>\n",
       "      <td>8508.0</td>\n",
       "      <td>1219</td>\n",
       "    </tr>\n",
       "    <tr>\n",
       "      <th>Kolkata</th>\n",
       "      <td>4631392.0</td>\n",
       "      <td>149.0</td>\n",
       "      <td>7226.0</td>\n",
       "      <td>1630</td>\n",
       "    </tr>\n",
       "    <tr>\n",
       "      <th>Chennai</th>\n",
       "      <td>4328063.0</td>\n",
       "      <td>192.0</td>\n",
       "      <td>7617.0</td>\n",
       "      <td>1050</td>\n",
       "    </tr>\n",
       "    <tr>\n",
       "      <th>Bangalore</th>\n",
       "      <td>5678097.0</td>\n",
       "      <td>171.0</td>\n",
       "      <td>7311.0</td>\n",
       "      <td>1100</td>\n",
       "    </tr>\n",
       "    <tr>\n",
       "      <th>Hyderabad</th>\n",
       "      <td>10452980.0</td>\n",
       "      <td>291.0</td>\n",
       "      <td>9806.0</td>\n",
       "      <td>1360</td>\n",
       "    </tr>\n",
       "  </tbody>\n",
       "</table>\n",
       "</div>"
      ],
      "text/plain": [
       "           Population  Hospitals  Schools  Density\n",
       "Delhi      10927986.0      189.0   7916.0     1500\n",
       "Mumbai     12691836.0      208.0   8508.0     1219\n",
       "Kolkata     4631392.0      149.0   7226.0     1630\n",
       "Chennai     4328063.0      192.0   7617.0     1050\n",
       "Bangalore   5678097.0      171.0   7311.0     1100\n",
       "Hyderabad  10452980.0      291.0   9806.0     1360"
      ]
     },
     "execution_count": 8,
     "metadata": {},
     "output_type": "execute_result"
    }
   ],
   "source": [
    "df5.iat[3,1]=192\n",
    "df5"
   ]
  },
  {
   "cell_type": "markdown",
   "id": "a897b176",
   "metadata": {},
   "source": [
    "# Deleting/Renaming  Columns/Rows"
   ]
  },
  {
   "cell_type": "markdown",
   "id": "39339976",
   "metadata": {},
   "source": [
    "del df['column_name']"
   ]
  },
  {
   "cell_type": "markdown",
   "id": "f7ed3c1e",
   "metadata": {},
   "source": [
    "df.drop(row_index or sequence of index)"
   ]
  },
  {
   "cell_type": "code",
   "execution_count": 9,
   "id": "1a9af615",
   "metadata": {},
   "outputs": [
    {
     "data": {
      "text/html": [
       "<div>\n",
       "<style scoped>\n",
       "    .dataframe tbody tr th:only-of-type {\n",
       "        vertical-align: middle;\n",
       "    }\n",
       "\n",
       "    .dataframe tbody tr th {\n",
       "        vertical-align: top;\n",
       "    }\n",
       "\n",
       "    .dataframe thead th {\n",
       "        text-align: right;\n",
       "    }\n",
       "</style>\n",
       "<table border=\"1\" class=\"dataframe\">\n",
       "  <thead>\n",
       "    <tr style=\"text-align: right;\">\n",
       "      <th></th>\n",
       "      <th>Population</th>\n",
       "      <th>Hospitals</th>\n",
       "      <th>Schools</th>\n",
       "    </tr>\n",
       "  </thead>\n",
       "  <tbody>\n",
       "    <tr>\n",
       "      <th>Delhi</th>\n",
       "      <td>10927986.0</td>\n",
       "      <td>189.0</td>\n",
       "      <td>7916.0</td>\n",
       "    </tr>\n",
       "    <tr>\n",
       "      <th>Mumbai</th>\n",
       "      <td>12691836.0</td>\n",
       "      <td>208.0</td>\n",
       "      <td>8508.0</td>\n",
       "    </tr>\n",
       "    <tr>\n",
       "      <th>Kolkata</th>\n",
       "      <td>4631392.0</td>\n",
       "      <td>149.0</td>\n",
       "      <td>7226.0</td>\n",
       "    </tr>\n",
       "    <tr>\n",
       "      <th>Chennai</th>\n",
       "      <td>4328063.0</td>\n",
       "      <td>192.0</td>\n",
       "      <td>7617.0</td>\n",
       "    </tr>\n",
       "    <tr>\n",
       "      <th>Bangalore</th>\n",
       "      <td>5678097.0</td>\n",
       "      <td>171.0</td>\n",
       "      <td>7311.0</td>\n",
       "    </tr>\n",
       "    <tr>\n",
       "      <th>Hyderabad</th>\n",
       "      <td>10452980.0</td>\n",
       "      <td>291.0</td>\n",
       "      <td>9806.0</td>\n",
       "    </tr>\n",
       "  </tbody>\n",
       "</table>\n",
       "</div>"
      ],
      "text/plain": [
       "           Population  Hospitals  Schools\n",
       "Delhi      10927986.0      189.0   7916.0\n",
       "Mumbai     12691836.0      208.0   8508.0\n",
       "Kolkata     4631392.0      149.0   7226.0\n",
       "Chennai     4328063.0      192.0   7617.0\n",
       "Bangalore   5678097.0      171.0   7311.0\n",
       "Hyderabad  10452980.0      291.0   9806.0"
      ]
     },
     "execution_count": 9,
     "metadata": {},
     "output_type": "execute_result"
    }
   ],
   "source": [
    "del df5['Density']       #for deleting Column\n",
    "df5"
   ]
  },
  {
   "cell_type": "code",
   "execution_count": 10,
   "id": "c44060e2",
   "metadata": {},
   "outputs": [
    {
     "data": {
      "text/html": [
       "<div>\n",
       "<style scoped>\n",
       "    .dataframe tbody tr th:only-of-type {\n",
       "        vertical-align: middle;\n",
       "    }\n",
       "\n",
       "    .dataframe tbody tr th {\n",
       "        vertical-align: top;\n",
       "    }\n",
       "\n",
       "    .dataframe thead th {\n",
       "        text-align: right;\n",
       "    }\n",
       "</style>\n",
       "<table border=\"1\" class=\"dataframe\">\n",
       "  <thead>\n",
       "    <tr style=\"text-align: right;\">\n",
       "      <th></th>\n",
       "      <th>Population</th>\n",
       "      <th>Hospitals</th>\n",
       "      <th>Schools</th>\n",
       "    </tr>\n",
       "  </thead>\n",
       "  <tbody>\n",
       "    <tr>\n",
       "      <th>Delhi</th>\n",
       "      <td>10927986.0</td>\n",
       "      <td>189.0</td>\n",
       "      <td>7916.0</td>\n",
       "    </tr>\n",
       "    <tr>\n",
       "      <th>Mumbai</th>\n",
       "      <td>12691836.0</td>\n",
       "      <td>208.0</td>\n",
       "      <td>8508.0</td>\n",
       "    </tr>\n",
       "    <tr>\n",
       "      <th>Bangalore</th>\n",
       "      <td>5678097.0</td>\n",
       "      <td>171.0</td>\n",
       "      <td>7311.0</td>\n",
       "    </tr>\n",
       "    <tr>\n",
       "      <th>Hyderabad</th>\n",
       "      <td>10452980.0</td>\n",
       "      <td>291.0</td>\n",
       "      <td>9806.0</td>\n",
       "    </tr>\n",
       "  </tbody>\n",
       "</table>\n",
       "</div>"
      ],
      "text/plain": [
       "           Population  Hospitals  Schools\n",
       "Delhi      10927986.0      189.0   7916.0\n",
       "Mumbai     12691836.0      208.0   8508.0\n",
       "Bangalore   5678097.0      171.0   7311.0\n",
       "Hyderabad  10452980.0      291.0   9806.0"
      ]
     },
     "execution_count": 10,
     "metadata": {},
     "output_type": "execute_result"
    }
   ],
   "source": [
    "df5.drop([\"Kolkata\",\"Chennai\"],axis=0,inplace=True)  #'inplace' if True, makes changes in the original DF.\n",
    "df5"
   ]
  },
  {
   "cell_type": "markdown",
   "id": "f6375b25",
   "metadata": {},
   "source": [
    "df.rename(index={'old_name':'new_name'},column={'old_name':'new_name'},inplace=True)"
   ]
  },
  {
   "cell_type": "markdown",
   "id": "2d68bc4d",
   "metadata": {},
   "source": [
    "Specify 'inplace' argument as 'True' if you want to rename the rows/columns in the same DF as if you skip this argument, \n",
    "then a new DF is created with new indexes & column names and original remains unchanged."
   ]
  },
  {
   "cell_type": "code",
   "execution_count": 11,
   "id": "d24050c8",
   "metadata": {},
   "outputs": [
    {
     "data": {
      "text/html": [
       "<div>\n",
       "<style scoped>\n",
       "    .dataframe tbody tr th:only-of-type {\n",
       "        vertical-align: middle;\n",
       "    }\n",
       "\n",
       "    .dataframe tbody tr th {\n",
       "        vertical-align: top;\n",
       "    }\n",
       "\n",
       "    .dataframe thead th {\n",
       "        text-align: right;\n",
       "    }\n",
       "</style>\n",
       "<table border=\"1\" class=\"dataframe\">\n",
       "  <thead>\n",
       "    <tr style=\"text-align: right;\">\n",
       "      <th></th>\n",
       "      <th>Rollno</th>\n",
       "      <th>Name</th>\n",
       "      <th>Marks</th>\n",
       "    </tr>\n",
       "  </thead>\n",
       "  <tbody>\n",
       "    <tr>\n",
       "      <th>SecA</th>\n",
       "      <td>115</td>\n",
       "      <td>Avni</td>\n",
       "      <td>97.5</td>\n",
       "    </tr>\n",
       "    <tr>\n",
       "      <th>SecB</th>\n",
       "      <td>236</td>\n",
       "      <td>Rishi</td>\n",
       "      <td>98.0</td>\n",
       "    </tr>\n",
       "    <tr>\n",
       "      <th>SecC</th>\n",
       "      <td>307</td>\n",
       "      <td>Preet</td>\n",
       "      <td>98.5</td>\n",
       "    </tr>\n",
       "    <tr>\n",
       "      <th>SecD</th>\n",
       "      <td>422</td>\n",
       "      <td>Karan</td>\n",
       "      <td>98.0</td>\n",
       "    </tr>\n",
       "  </tbody>\n",
       "</table>\n",
       "</div>"
      ],
      "text/plain": [
       "      Rollno   Name  Marks\n",
       "SecA     115   Avni   97.5\n",
       "SecB     236  Rishi   98.0\n",
       "SecC     307  Preet   98.5\n",
       "SecD     422  Karan   98.0"
      ]
     },
     "execution_count": 11,
     "metadata": {},
     "output_type": "execute_result"
    }
   ],
   "source": [
    "import pandas as pd\n",
    "topperA={'Rollno':115,'Name':'Avni','Marks':97.5}          #keys of inner Dictionaries have made the columns of the DF\n",
    "topperB={'Rollno':236,'Name':'Rishi','Marks':98}            \n",
    "topperC={'Rollno':307,'Name':'Preet','Marks':98.5}         #values of the inner Dictionaries have made the rows of the DF\n",
    "topperD={'Rollno':422,'Name':'Karan','Marks':98}\n",
    "toppers=[topperA,topperB,topperC,topperD]           #---->list of dictionaries\n",
    "topdf=pd.DataFrame(toppers,index=[\"SecA\",\"SecB\",\"SecC\",\"SecD\"])\n",
    "topdf"
   ]
  },
  {
   "cell_type": "code",
   "execution_count": 12,
   "id": "f91f6148",
   "metadata": {},
   "outputs": [
    {
     "data": {
      "text/html": [
       "<div>\n",
       "<style scoped>\n",
       "    .dataframe tbody tr th:only-of-type {\n",
       "        vertical-align: middle;\n",
       "    }\n",
       "\n",
       "    .dataframe tbody tr th {\n",
       "        vertical-align: top;\n",
       "    }\n",
       "\n",
       "    .dataframe thead th {\n",
       "        text-align: right;\n",
       "    }\n",
       "</style>\n",
       "<table border=\"1\" class=\"dataframe\">\n",
       "  <thead>\n",
       "    <tr style=\"text-align: right;\">\n",
       "      <th></th>\n",
       "      <th>Rno</th>\n",
       "      <th>Name</th>\n",
       "      <th>Marks</th>\n",
       "    </tr>\n",
       "  </thead>\n",
       "  <tbody>\n",
       "    <tr>\n",
       "      <th>A</th>\n",
       "      <td>115</td>\n",
       "      <td>Avni</td>\n",
       "      <td>97.5</td>\n",
       "    </tr>\n",
       "    <tr>\n",
       "      <th>B</th>\n",
       "      <td>236</td>\n",
       "      <td>Rishi</td>\n",
       "      <td>98.0</td>\n",
       "    </tr>\n",
       "    <tr>\n",
       "      <th>C</th>\n",
       "      <td>307</td>\n",
       "      <td>Preet</td>\n",
       "      <td>98.5</td>\n",
       "    </tr>\n",
       "    <tr>\n",
       "      <th>D</th>\n",
       "      <td>422</td>\n",
       "      <td>Karan</td>\n",
       "      <td>98.0</td>\n",
       "    </tr>\n",
       "  </tbody>\n",
       "</table>\n",
       "</div>"
      ],
      "text/plain": [
       "   Rno   Name  Marks\n",
       "A  115   Avni   97.5\n",
       "B  236  Rishi   98.0\n",
       "C  307  Preet   98.5\n",
       "D  422  Karan   98.0"
      ]
     },
     "execution_count": 12,
     "metadata": {},
     "output_type": "execute_result"
    }
   ],
   "source": [
    "topdf.rename(index={\"SecA\":\"A\",\"SecB\":\"B\",\"SecC\":\"C\",\"SecD\":\"D\"},columns={\"Rollno\":\"Rno\"},inplace=True)\n",
    "topdf"
   ]
  },
  {
   "cell_type": "markdown",
   "id": "a245ed18",
   "metadata": {},
   "source": [
    "By Default inplace argument is considered as False in Python."
   ]
  },
  {
   "cell_type": "markdown",
   "id": "59e976b9",
   "metadata": {},
   "source": [
    "# Boolean Indexing"
   ]
  },
  {
   "cell_type": "markdown",
   "id": "fd722b86",
   "metadata": {},
   "source": [
    "Having Boolean values (True or False) or (1 or 0) as indexes of a DataFrame.\n",
    "It basically divides the DataFrame in two groups True Rows and False Rows"
   ]
  },
  {
   "cell_type": "code",
   "execution_count": 13,
   "id": "5e21f840",
   "metadata": {},
   "outputs": [
    {
     "data": {
      "text/html": [
       "<div>\n",
       "<style scoped>\n",
       "    .dataframe tbody tr th:only-of-type {\n",
       "        vertical-align: middle;\n",
       "    }\n",
       "\n",
       "    .dataframe tbody tr th {\n",
       "        vertical-align: top;\n",
       "    }\n",
       "\n",
       "    .dataframe thead th {\n",
       "        text-align: right;\n",
       "    }\n",
       "</style>\n",
       "<table border=\"1\" class=\"dataframe\">\n",
       "  <thead>\n",
       "    <tr style=\"text-align: right;\">\n",
       "      <th></th>\n",
       "      <th>Days</th>\n",
       "      <th>No. of Classes</th>\n",
       "    </tr>\n",
       "  </thead>\n",
       "  <tbody>\n",
       "    <tr>\n",
       "      <th>True</th>\n",
       "      <td>Monday</td>\n",
       "      <td>6</td>\n",
       "    </tr>\n",
       "    <tr>\n",
       "      <th>False</th>\n",
       "      <td>Tuesday</td>\n",
       "      <td>0</td>\n",
       "    </tr>\n",
       "    <tr>\n",
       "      <th>True</th>\n",
       "      <td>Wednesday</td>\n",
       "      <td>3</td>\n",
       "    </tr>\n",
       "    <tr>\n",
       "      <th>False</th>\n",
       "      <td>Thursday</td>\n",
       "      <td>0</td>\n",
       "    </tr>\n",
       "    <tr>\n",
       "      <th>True</th>\n",
       "      <td>Friday</td>\n",
       "      <td>8</td>\n",
       "    </tr>\n",
       "  </tbody>\n",
       "</table>\n",
       "</div>"
      ],
      "text/plain": [
       "            Days  No. of Classes\n",
       "True      Monday               6\n",
       "False    Tuesday               0\n",
       "True   Wednesday               3\n",
       "False   Thursday               0\n",
       "True      Friday               8"
      ]
     },
     "execution_count": 13,
     "metadata": {},
     "output_type": "execute_result"
    }
   ],
   "source": [
    "import pandas as pd\n",
    "Days=['Monday','Tuesday','Wednesday','Thursday','Friday']       #Creating DFs with Boolean Index (True or false)\n",
    "Classes=[6,0,3,0,8]\n",
    "dc={'Days':Days,'No. of Classes':Classes}\n",
    "classDF=pd.DataFrame(dc,index=[True,False,True,False,True])\n",
    "classDF"
   ]
  },
  {
   "cell_type": "code",
   "execution_count": 14,
   "id": "07ad3154",
   "metadata": {},
   "outputs": [
    {
     "data": {
      "text/html": [
       "<div>\n",
       "<style scoped>\n",
       "    .dataframe tbody tr th:only-of-type {\n",
       "        vertical-align: middle;\n",
       "    }\n",
       "\n",
       "    .dataframe tbody tr th {\n",
       "        vertical-align: top;\n",
       "    }\n",
       "\n",
       "    .dataframe thead th {\n",
       "        text-align: right;\n",
       "    }\n",
       "</style>\n",
       "<table border=\"1\" class=\"dataframe\">\n",
       "  <thead>\n",
       "    <tr style=\"text-align: right;\">\n",
       "      <th></th>\n",
       "      <th>Days</th>\n",
       "      <th>No. of Classes</th>\n",
       "    </tr>\n",
       "  </thead>\n",
       "  <tbody>\n",
       "    <tr>\n",
       "      <th>1</th>\n",
       "      <td>Monday</td>\n",
       "      <td>6</td>\n",
       "    </tr>\n",
       "    <tr>\n",
       "      <th>0</th>\n",
       "      <td>Tuesday</td>\n",
       "      <td>0</td>\n",
       "    </tr>\n",
       "    <tr>\n",
       "      <th>1</th>\n",
       "      <td>Wednesday</td>\n",
       "      <td>3</td>\n",
       "    </tr>\n",
       "    <tr>\n",
       "      <th>0</th>\n",
       "      <td>Thursday</td>\n",
       "      <td>0</td>\n",
       "    </tr>\n",
       "    <tr>\n",
       "      <th>1</th>\n",
       "      <td>Friday</td>\n",
       "      <td>8</td>\n",
       "    </tr>\n",
       "  </tbody>\n",
       "</table>\n",
       "</div>"
      ],
      "text/plain": [
       "        Days  No. of Classes\n",
       "1     Monday               6\n",
       "0    Tuesday               0\n",
       "1  Wednesday               3\n",
       "0   Thursday               0\n",
       "1     Friday               8"
      ]
     },
     "execution_count": 14,
     "metadata": {},
     "output_type": "execute_result"
    }
   ],
   "source": [
    "import pandas as pd\n",
    "Days=['Monday','Tuesday','Wednesday','Thursday','Friday']       #Creating DFs with Boolean Index (1 or 0)\n",
    "Classes=[6,0,3,0,8]\n",
    "dc={'Days':Days,'No. of Classes':Classes}\n",
    "classDF1=pd.DataFrame(dc,index=[1,0,1,0,1])\n",
    "classDF1"
   ]
  },
  {
   "cell_type": "markdown",
   "id": "51153e82",
   "metadata": {},
   "source": [
    "Accessing Rows from DFs with Boolean Index"
   ]
  },
  {
   "cell_type": "code",
   "execution_count": 15,
   "id": "7aadf724",
   "metadata": {},
   "outputs": [
    {
     "data": {
      "text/html": [
       "<div>\n",
       "<style scoped>\n",
       "    .dataframe tbody tr th:only-of-type {\n",
       "        vertical-align: middle;\n",
       "    }\n",
       "\n",
       "    .dataframe tbody tr th {\n",
       "        vertical-align: top;\n",
       "    }\n",
       "\n",
       "    .dataframe thead th {\n",
       "        text-align: right;\n",
       "    }\n",
       "</style>\n",
       "<table border=\"1\" class=\"dataframe\">\n",
       "  <thead>\n",
       "    <tr style=\"text-align: right;\">\n",
       "      <th></th>\n",
       "      <th>Days</th>\n",
       "      <th>No. of Classes</th>\n",
       "    </tr>\n",
       "  </thead>\n",
       "  <tbody>\n",
       "    <tr>\n",
       "      <th>True</th>\n",
       "      <td>Monday</td>\n",
       "      <td>6</td>\n",
       "    </tr>\n",
       "    <tr>\n",
       "      <th>True</th>\n",
       "      <td>Wednesday</td>\n",
       "      <td>3</td>\n",
       "    </tr>\n",
       "    <tr>\n",
       "      <th>True</th>\n",
       "      <td>Friday</td>\n",
       "      <td>8</td>\n",
       "    </tr>\n",
       "  </tbody>\n",
       "</table>\n",
       "</div>"
      ],
      "text/plain": [
       "           Days  No. of Classes\n",
       "True     Monday               6\n",
       "True  Wednesday               3\n",
       "True     Friday               8"
      ]
     },
     "execution_count": 15,
     "metadata": {},
     "output_type": "execute_result"
    }
   ],
   "source": [
    "classDF.loc[True]"
   ]
  },
  {
   "cell_type": "code",
   "execution_count": 16,
   "id": "4338eda8",
   "metadata": {},
   "outputs": [
    {
     "data": {
      "text/html": [
       "<div>\n",
       "<style scoped>\n",
       "    .dataframe tbody tr th:only-of-type {\n",
       "        vertical-align: middle;\n",
       "    }\n",
       "\n",
       "    .dataframe tbody tr th {\n",
       "        vertical-align: top;\n",
       "    }\n",
       "\n",
       "    .dataframe thead th {\n",
       "        text-align: right;\n",
       "    }\n",
       "</style>\n",
       "<table border=\"1\" class=\"dataframe\">\n",
       "  <thead>\n",
       "    <tr style=\"text-align: right;\">\n",
       "      <th></th>\n",
       "      <th>Days</th>\n",
       "      <th>No. of Classes</th>\n",
       "    </tr>\n",
       "  </thead>\n",
       "  <tbody>\n",
       "    <tr>\n",
       "      <th>False</th>\n",
       "      <td>Tuesday</td>\n",
       "      <td>0</td>\n",
       "    </tr>\n",
       "    <tr>\n",
       "      <th>False</th>\n",
       "      <td>Thursday</td>\n",
       "      <td>0</td>\n",
       "    </tr>\n",
       "  </tbody>\n",
       "</table>\n",
       "</div>"
      ],
      "text/plain": [
       "           Days  No. of Classes\n",
       "False   Tuesday               0\n",
       "False  Thursday               0"
      ]
     },
     "execution_count": 16,
     "metadata": {},
     "output_type": "execute_result"
    }
   ],
   "source": [
    "classDF.loc[False]"
   ]
  },
  {
   "cell_type": "code",
   "execution_count": 17,
   "id": "bb96355f",
   "metadata": {},
   "outputs": [
    {
     "data": {
      "text/html": [
       "<div>\n",
       "<style scoped>\n",
       "    .dataframe tbody tr th:only-of-type {\n",
       "        vertical-align: middle;\n",
       "    }\n",
       "\n",
       "    .dataframe tbody tr th {\n",
       "        vertical-align: top;\n",
       "    }\n",
       "\n",
       "    .dataframe thead th {\n",
       "        text-align: right;\n",
       "    }\n",
       "</style>\n",
       "<table border=\"1\" class=\"dataframe\">\n",
       "  <thead>\n",
       "    <tr style=\"text-align: right;\">\n",
       "      <th></th>\n",
       "      <th>Days</th>\n",
       "      <th>No. of Classes</th>\n",
       "    </tr>\n",
       "  </thead>\n",
       "  <tbody>\n",
       "    <tr>\n",
       "      <th>1</th>\n",
       "      <td>Monday</td>\n",
       "      <td>6</td>\n",
       "    </tr>\n",
       "    <tr>\n",
       "      <th>1</th>\n",
       "      <td>Wednesday</td>\n",
       "      <td>3</td>\n",
       "    </tr>\n",
       "    <tr>\n",
       "      <th>1</th>\n",
       "      <td>Friday</td>\n",
       "      <td>8</td>\n",
       "    </tr>\n",
       "  </tbody>\n",
       "</table>\n",
       "</div>"
      ],
      "text/plain": [
       "        Days  No. of Classes\n",
       "1     Monday               6\n",
       "1  Wednesday               3\n",
       "1     Friday               8"
      ]
     },
     "execution_count": 17,
     "metadata": {},
     "output_type": "execute_result"
    }
   ],
   "source": [
    "classDF1.loc[1]"
   ]
  },
  {
   "cell_type": "code",
   "execution_count": 18,
   "id": "595d613e",
   "metadata": {},
   "outputs": [
    {
     "data": {
      "text/html": [
       "<div>\n",
       "<style scoped>\n",
       "    .dataframe tbody tr th:only-of-type {\n",
       "        vertical-align: middle;\n",
       "    }\n",
       "\n",
       "    .dataframe tbody tr th {\n",
       "        vertical-align: top;\n",
       "    }\n",
       "\n",
       "    .dataframe thead th {\n",
       "        text-align: right;\n",
       "    }\n",
       "</style>\n",
       "<table border=\"1\" class=\"dataframe\">\n",
       "  <thead>\n",
       "    <tr style=\"text-align: right;\">\n",
       "      <th></th>\n",
       "      <th>Days</th>\n",
       "      <th>No. of Classes</th>\n",
       "    </tr>\n",
       "  </thead>\n",
       "  <tbody>\n",
       "    <tr>\n",
       "      <th>0</th>\n",
       "      <td>Tuesday</td>\n",
       "      <td>0</td>\n",
       "    </tr>\n",
       "    <tr>\n",
       "      <th>0</th>\n",
       "      <td>Thursday</td>\n",
       "      <td>0</td>\n",
       "    </tr>\n",
       "  </tbody>\n",
       "</table>\n",
       "</div>"
      ],
      "text/plain": [
       "       Days  No. of Classes\n",
       "0   Tuesday               0\n",
       "0  Thursday               0"
      ]
     },
     "execution_count": 18,
     "metadata": {},
     "output_type": "execute_result"
    }
   ],
   "source": [
    "classDF1.loc[0]"
   ]
  },
  {
   "cell_type": "code",
   "execution_count": null,
   "id": "1d960096",
   "metadata": {},
   "outputs": [],
   "source": []
  }
 ],
 "metadata": {
  "kernelspec": {
   "display_name": "Python 3 (ipykernel)",
   "language": "python",
   "name": "python3"
  },
  "language_info": {
   "codemirror_mode": {
    "name": "ipython",
    "version": 3
   },
   "file_extension": ".py",
   "mimetype": "text/x-python",
   "name": "python",
   "nbconvert_exporter": "python",
   "pygments_lexer": "ipython3",
   "version": "3.9.7"
  }
 },
 "nbformat": 4,
 "nbformat_minor": 5
}
