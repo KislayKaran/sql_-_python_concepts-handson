{
 "cells": [
  {
   "cell_type": "markdown",
   "id": "8c49e9bd",
   "metadata": {},
   "source": [
    "# Iterating Over a DataFrame"
   ]
  },
  {
   "cell_type": "code",
   "execution_count": 1,
   "id": "3779ffd2",
   "metadata": {},
   "outputs": [
    {
     "data": {
      "text/html": [
       "<div>\n",
       "<style scoped>\n",
       "    .dataframe tbody tr th:only-of-type {\n",
       "        vertical-align: middle;\n",
       "    }\n",
       "\n",
       "    .dataframe tbody tr th {\n",
       "        vertical-align: top;\n",
       "    }\n",
       "\n",
       "    .dataframe thead th {\n",
       "        text-align: right;\n",
       "    }\n",
       "</style>\n",
       "<table border=\"1\" class=\"dataframe\">\n",
       "  <thead>\n",
       "    <tr style=\"text-align: right;\">\n",
       "      <th></th>\n",
       "      <th>yr1</th>\n",
       "      <th>yr2</th>\n",
       "      <th>yr3</th>\n",
       "    </tr>\n",
       "  </thead>\n",
       "  <tbody>\n",
       "    <tr>\n",
       "      <th>Qtr1</th>\n",
       "      <td>34500</td>\n",
       "      <td>44900</td>\n",
       "      <td>54500</td>\n",
       "    </tr>\n",
       "    <tr>\n",
       "      <th>Qtr2</th>\n",
       "      <td>56000</td>\n",
       "      <td>46100</td>\n",
       "      <td>51000</td>\n",
       "    </tr>\n",
       "    <tr>\n",
       "      <th>Qtr3</th>\n",
       "      <td>47000</td>\n",
       "      <td>57000</td>\n",
       "      <td>57000</td>\n",
       "    </tr>\n",
       "    <tr>\n",
       "      <th>Qtr4</th>\n",
       "      <td>49000</td>\n",
       "      <td>59000</td>\n",
       "      <td>58500</td>\n",
       "    </tr>\n",
       "  </tbody>\n",
       "</table>\n",
       "</div>"
      ],
      "text/plain": [
       "        yr1    yr2    yr3\n",
       "Qtr1  34500  44900  54500\n",
       "Qtr2  56000  46100  51000\n",
       "Qtr3  47000  57000  57000\n",
       "Qtr4  49000  59000  58500"
      ]
     },
     "execution_count": 1,
     "metadata": {},
     "output_type": "execute_result"
    }
   ],
   "source": [
    "import pandas as pd\n",
    "diSales={'yr1':{'Qtr1':34500,'Qtr2':56000,'Qtr3':47000,'Qtr4':49000},\\\n",
    "         'yr2':{'Qtr1':44900,'Qtr2':46100,'Qtr3':57000,'Qtr4':59000},\\\n",
    "         'yr3':{'Qtr1':54500,'Qtr2':51000,'Qtr3':57000,'Qtr4':58500}}\n",
    "df1=pd.DataFrame(diSales)\n",
    "df1"
   ]
  },
  {
   "cell_type": "markdown",
   "id": "93061df1",
   "metadata": {},
   "source": [
    "df.iterrows()  : Views DF in the form of Horizontal subsets (row-wise)\n",
    "                 Where each Horizontal subset is in the form of (row-index,Series)\n",
    "                 Where Series contains all column values for that row-index.\n",
    "df.iteritems() : Views DF in the form of Vertical subsets (column-wise)\n",
    "                 Where each Vertical subset is in the form of (column-index,Series)\n",
    "                 Where Series contains all row values for that column-index."
   ]
  },
  {
   "cell_type": "markdown",
   "id": "509d1a40",
   "metadata": {},
   "source": [
    " Each row is taken one at a time in the form of 'row':row-index and 'rowSeries':all values of the row."
   ]
  },
  {
   "cell_type": "code",
   "execution_count": 2,
   "id": "1d45fbee",
   "metadata": {},
   "outputs": [
    {
     "name": "stdout",
     "output_type": "stream",
     "text": [
      "Row index: Qtr1\n",
      "Containing:\n",
      "yr1    34500\n",
      "yr2    44900\n",
      "yr3    54500\n",
      "Name: Qtr1, dtype: int64\n",
      "\n",
      "\n",
      "Row index: Qtr2\n",
      "Containing:\n",
      "yr1    56000\n",
      "yr2    46100\n",
      "yr3    51000\n",
      "Name: Qtr2, dtype: int64\n",
      "\n",
      "\n",
      "Row index: Qtr3\n",
      "Containing:\n",
      "yr1    47000\n",
      "yr2    57000\n",
      "yr3    57000\n",
      "Name: Qtr3, dtype: int64\n",
      "\n",
      "\n",
      "Row index: Qtr4\n",
      "Containing:\n",
      "yr1    49000\n",
      "yr2    59000\n",
      "yr3    58500\n",
      "Name: Qtr4, dtype: int64\n",
      "\n",
      "\n"
     ]
    }
   ],
   "source": [
    "for(row,rowSeries) in df1.iterrows():             \n",
    "    print(\"Row index:\",row)                       # Row-index\n",
    "    print(\"Containing:\")\n",
    "    print(rowSeries)                              # All Values in a row are in the form of a Series object\n",
    "    print(\"\\n\")"
   ]
  },
  {
   "cell_type": "markdown",
   "id": "f7897aa7",
   "metadata": {},
   "source": [
    " Each column is taken one at a time in the form of 'col':col-index and 'colSeries':all values of the column."
   ]
  },
  {
   "cell_type": "code",
   "execution_count": 3,
   "id": "719bd84a",
   "metadata": {},
   "outputs": [
    {
     "name": "stdout",
     "output_type": "stream",
     "text": [
      "Column index: yr1\n",
      "Containing:\n",
      "Qtr1    34500\n",
      "Qtr2    56000\n",
      "Qtr3    47000\n",
      "Qtr4    49000\n",
      "Name: yr1, dtype: int64\n",
      "\n",
      "\n",
      "Column index: yr2\n",
      "Containing:\n",
      "Qtr1    44900\n",
      "Qtr2    46100\n",
      "Qtr3    57000\n",
      "Qtr4    59000\n",
      "Name: yr2, dtype: int64\n",
      "\n",
      "\n",
      "Column index: yr3\n",
      "Containing:\n",
      "Qtr1    54500\n",
      "Qtr2    51000\n",
      "Qtr3    57000\n",
      "Qtr4    58500\n",
      "Name: yr3, dtype: int64\n",
      "\n",
      "\n"
     ]
    }
   ],
   "source": [
    "for(col,colSeries) in df1.iteritems():\n",
    "    print(\"Column index:\",col)                # Col-index\n",
    "    print(\"Containing:\")\n",
    "    print(colSeries)                          # All values in a column are in form of a Series object\n",
    "    print(\"\\n\")"
   ]
  },
  {
   "cell_type": "code",
   "execution_count": 4,
   "id": "15fd824a",
   "metadata": {},
   "outputs": [
    {
     "name": "stdout",
     "output_type": "stream",
     "text": [
      "\n",
      "\n",
      "Row index: Qtr1\n",
      "Containing:\n",
      "At 0 position: 34500\n",
      "At 1 position: 44900\n",
      "At 2 position: 54500\n",
      "\n",
      "\n",
      "Row index: Qtr2\n",
      "Containing:\n",
      "At 0 position: 56000\n",
      "At 1 position: 46100\n",
      "At 2 position: 51000\n",
      "\n",
      "\n",
      "Row index: Qtr3\n",
      "Containing:\n",
      "At 0 position: 47000\n",
      "At 1 position: 57000\n",
      "At 2 position: 57000\n",
      "\n",
      "\n",
      "Row index: Qtr4\n",
      "Containing:\n",
      "At 0 position: 49000\n",
      "At 1 position: 59000\n",
      "At 2 position: 58500\n"
     ]
    }
   ],
   "source": [
    "for(row,rowSeries) in df1.iterrows():\n",
    "    print(\"\\n\")\n",
    "    print(\"Row index:\",row)\n",
    "    print(\"Containing:\")\n",
    "    i=0\n",
    "    for val in rowSeries:\n",
    "        print(\"At\",i,\"position:\",val)     # We can iterate over the Series object obtained from iterrows()\n",
    "        i=i+1\n",
    "        "
   ]
  },
  {
   "cell_type": "code",
   "execution_count": 5,
   "id": "bf0c3ae5",
   "metadata": {},
   "outputs": [
    {
     "data": {
      "text/html": [
       "<div>\n",
       "<style scoped>\n",
       "    .dataframe tbody tr th:only-of-type {\n",
       "        vertical-align: middle;\n",
       "    }\n",
       "\n",
       "    .dataframe tbody tr th {\n",
       "        vertical-align: top;\n",
       "    }\n",
       "\n",
       "    .dataframe thead th {\n",
       "        text-align: right;\n",
       "    }\n",
       "</style>\n",
       "<table border=\"1\" class=\"dataframe\">\n",
       "  <thead>\n",
       "    <tr style=\"text-align: right;\">\n",
       "      <th></th>\n",
       "      <th>name</th>\n",
       "      <th>Marks</th>\n",
       "    </tr>\n",
       "  </thead>\n",
       "  <tbody>\n",
       "    <tr>\n",
       "      <th>Rno.1</th>\n",
       "      <td>Ram</td>\n",
       "      <td>70</td>\n",
       "    </tr>\n",
       "    <tr>\n",
       "      <th>Rno.2</th>\n",
       "      <td>Pam</td>\n",
       "      <td>95</td>\n",
       "    </tr>\n",
       "    <tr>\n",
       "      <th>Rno.3</th>\n",
       "      <td>Sam</td>\n",
       "      <td>80</td>\n",
       "    </tr>\n",
       "  </tbody>\n",
       "</table>\n",
       "</div>"
      ],
      "text/plain": [
       "      name  Marks\n",
       "Rno.1  Ram     70\n",
       "Rno.2  Pam     95\n",
       "Rno.3  Sam     80"
      ]
     },
     "execution_count": 5,
     "metadata": {},
     "output_type": "execute_result"
    }
   ],
   "source": [
    "import pandas as pd\n",
    "dict={'name':[\"Ram\",\"Pam\",\"Sam\"],\n",
    "     'Marks':[70,95,80]}\n",
    "df2=pd.DataFrame(dict,index=['Rno.1','Rno.2','Rno.3'])\n",
    "df2"
   ]
  },
  {
   "cell_type": "code",
   "execution_count": 6,
   "id": "3e387c21",
   "metadata": {},
   "outputs": [
    {
     "name": "stdout",
     "output_type": "stream",
     "text": [
      "name     Ram\n",
      "Marks     70\n",
      "Name: Rno.1, dtype: object\n",
      "-----------\n",
      "name     Pam\n",
      "Marks     95\n",
      "Name: Rno.2, dtype: object\n",
      "-----------\n",
      "name     Sam\n",
      "Marks     80\n",
      "Name: Rno.3, dtype: object\n",
      "-----------\n"
     ]
    }
   ],
   "source": [
    "for i,j in df2.iterrows():\n",
    "    print(j)\n",
    "    print(\"-----------\")"
   ]
  },
  {
   "cell_type": "code",
   "execution_count": 7,
   "id": "bf899389",
   "metadata": {},
   "outputs": [
    {
     "name": "stdout",
     "output_type": "stream",
     "text": [
      "Rno.1    Ram\n",
      "Rno.2    Pam\n",
      "Rno.3    Sam\n",
      "Name: name, dtype: object\n",
      "-----------\n",
      "Rno.1    70\n",
      "Rno.2    95\n",
      "Rno.3    80\n",
      "Name: Marks, dtype: int64\n",
      "-----------\n"
     ]
    }
   ],
   "source": [
    "for i,j in df2.iteritems():\n",
    "    print(j)\n",
    "    print(\"-----------\")"
   ]
  },
  {
   "cell_type": "markdown",
   "id": "03e99c39",
   "metadata": {},
   "source": [
    "Printing individual Column from a Row"
   ]
  },
  {
   "cell_type": "code",
   "execution_count": 10,
   "id": "1f1d0191",
   "metadata": {},
   "outputs": [
    {
     "name": "stdout",
     "output_type": "stream",
     "text": [
      "70\n",
      "---------\n",
      "95\n",
      "---------\n",
      "80\n",
      "---------\n"
     ]
    }
   ],
   "source": [
    "for r,row in df2.iterrows():\n",
    "    print(row['Marks'])\n",
    "    print(\"---------\")"
   ]
  },
  {
   "cell_type": "code",
   "execution_count": null,
   "id": "e0468a6b",
   "metadata": {},
   "outputs": [],
   "source": []
  }
 ],
 "metadata": {
  "kernelspec": {
   "display_name": "Python 3 (ipykernel)",
   "language": "python",
   "name": "python3"
  },
  "language_info": {
   "codemirror_mode": {
    "name": "ipython",
    "version": 3
   },
   "file_extension": ".py",
   "mimetype": "text/x-python",
   "name": "python",
   "nbconvert_exporter": "python",
   "pygments_lexer": "ipython3",
   "version": "3.9.7"
  }
 },
 "nbformat": 4,
 "nbformat_minor": 5
}
