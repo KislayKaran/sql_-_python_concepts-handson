{
 "cells": [
  {
   "cell_type": "code",
   "execution_count": 1,
   "id": "5319920c",
   "metadata": {},
   "outputs": [],
   "source": [
    "import pandas as pd\n",
    "import numpy as np"
   ]
  },
  {
   "cell_type": "code",
   "execution_count": 2,
   "id": "fe83fe28",
   "metadata": {},
   "outputs": [
    {
     "data": {
      "text/html": [
       "<div>\n",
       "<style scoped>\n",
       "    .dataframe tbody tr th:only-of-type {\n",
       "        vertical-align: middle;\n",
       "    }\n",
       "\n",
       "    .dataframe tbody tr th {\n",
       "        vertical-align: top;\n",
       "    }\n",
       "\n",
       "    .dataframe thead th {\n",
       "        text-align: right;\n",
       "    }\n",
       "</style>\n",
       "<table border=\"1\" class=\"dataframe\">\n",
       "  <thead>\n",
       "    <tr style=\"text-align: right;\">\n",
       "      <th></th>\n",
       "      <th>Rice</th>\n",
       "      <th>Wheat</th>\n",
       "      <th>Pulses</th>\n",
       "      <th>Fuits</th>\n",
       "    </tr>\n",
       "  </thead>\n",
       "  <tbody>\n",
       "    <tr>\n",
       "      <th>Andhra P.</th>\n",
       "      <td>7452.4</td>\n",
       "      <td>NaN</td>\n",
       "      <td>931.0</td>\n",
       "      <td>7830.00</td>\n",
       "    </tr>\n",
       "    <tr>\n",
       "      <th>Gujarat</th>\n",
       "      <td>1930.0</td>\n",
       "      <td>2737.0</td>\n",
       "      <td>818.0</td>\n",
       "      <td>11950.00</td>\n",
       "    </tr>\n",
       "    <tr>\n",
       "      <th>Kerela</th>\n",
       "      <td>2604.8</td>\n",
       "      <td>NaN</td>\n",
       "      <td>1.7</td>\n",
       "      <td>113.10</td>\n",
       "    </tr>\n",
       "    <tr>\n",
       "      <th>Punjab</th>\n",
       "      <td>11586.2</td>\n",
       "      <td>16440.5</td>\n",
       "      <td>33.0</td>\n",
       "      <td>7152.00</td>\n",
       "    </tr>\n",
       "    <tr>\n",
       "      <th>Tripura</th>\n",
       "      <td>814.6</td>\n",
       "      <td>0.5</td>\n",
       "      <td>23.2</td>\n",
       "      <td>44.10</td>\n",
       "    </tr>\n",
       "    <tr>\n",
       "      <th>Uttar P.</th>\n",
       "      <td>13754.0</td>\n",
       "      <td>30056.0</td>\n",
       "      <td>2184.4</td>\n",
       "      <td>140169.92</td>\n",
       "    </tr>\n",
       "  </tbody>\n",
       "</table>\n",
       "</div>"
      ],
      "text/plain": [
       "              Rice    Wheat  Pulses      Fuits\n",
       "Andhra P.   7452.4      NaN   931.0    7830.00\n",
       "Gujarat     1930.0   2737.0   818.0   11950.00\n",
       "Kerela      2604.8      NaN     1.7     113.10\n",
       "Punjab     11586.2  16440.5    33.0    7152.00\n",
       "Tripura      814.6      0.5    23.2      44.10\n",
       "Uttar P.   13754.0  30056.0  2184.4  140169.92"
      ]
     },
     "execution_count": 2,
     "metadata": {},
     "output_type": "execute_result"
    }
   ],
   "source": [
    "iprod={'Rice':{'Andhra P.':7452.4, 'Gujarat':1930.0, 'Kerela':2604.8, 'Punjab':11586.2,'Tripura':814.6,'Uttar P.':13754.0},\n",
    "       'Wheat':{'Andhra P.':np.NaN, 'Gujarat':2737.0, 'Kerela':np.NaN, 'Punjab':16440.5,'Tripura':0.5,'Uttar P.':30056.0},\n",
    "       'Pulses':{'Andhra P.':931.0, 'Gujarat':818.0, 'Kerela':1.7, 'Punjab':33.0,'Tripura':23.2,'Uttar P.':2184.4},\n",
    "       'Fuits':{'Andhra P.':7830.0, 'Gujarat':11950.0, 'Kerela':113.1, 'Punjab':7152.0,'Tripura':44.1,'Uttar P.':140169.92}}\n",
    "prodf=pd.DataFrame(iprod)\n",
    "prodf"
   ]
  },
  {
   "cell_type": "code",
   "execution_count": 3,
   "id": "fceb0f75",
   "metadata": {},
   "outputs": [],
   "source": [
    "prodf.rename(columns={'Fuits':'Fruits'},inplace=True)\n"
   ]
  },
  {
   "cell_type": "code",
   "execution_count": 4,
   "id": "0e0c1cb5",
   "metadata": {},
   "outputs": [
    {
     "data": {
      "text/html": [
       "<div>\n",
       "<style scoped>\n",
       "    .dataframe tbody tr th:only-of-type {\n",
       "        vertical-align: middle;\n",
       "    }\n",
       "\n",
       "    .dataframe tbody tr th {\n",
       "        vertical-align: top;\n",
       "    }\n",
       "\n",
       "    .dataframe thead th {\n",
       "        text-align: right;\n",
       "    }\n",
       "</style>\n",
       "<table border=\"1\" class=\"dataframe\">\n",
       "  <thead>\n",
       "    <tr style=\"text-align: right;\">\n",
       "      <th></th>\n",
       "      <th>Rice</th>\n",
       "      <th>Wheat</th>\n",
       "      <th>Pulses</th>\n",
       "      <th>Fruits</th>\n",
       "    </tr>\n",
       "  </thead>\n",
       "  <tbody>\n",
       "    <tr>\n",
       "      <th>Andhra P.</th>\n",
       "      <td>7452.4</td>\n",
       "      <td>NaN</td>\n",
       "      <td>931.0</td>\n",
       "      <td>7830.00</td>\n",
       "    </tr>\n",
       "    <tr>\n",
       "      <th>Gujarat</th>\n",
       "      <td>1930.0</td>\n",
       "      <td>2737.0</td>\n",
       "      <td>818.0</td>\n",
       "      <td>11950.00</td>\n",
       "    </tr>\n",
       "    <tr>\n",
       "      <th>Kerela</th>\n",
       "      <td>2604.8</td>\n",
       "      <td>NaN</td>\n",
       "      <td>1.7</td>\n",
       "      <td>113.10</td>\n",
       "    </tr>\n",
       "    <tr>\n",
       "      <th>Punjab</th>\n",
       "      <td>11586.2</td>\n",
       "      <td>16440.5</td>\n",
       "      <td>33.0</td>\n",
       "      <td>7152.00</td>\n",
       "    </tr>\n",
       "    <tr>\n",
       "      <th>Tripura</th>\n",
       "      <td>814.6</td>\n",
       "      <td>0.5</td>\n",
       "      <td>23.2</td>\n",
       "      <td>44.10</td>\n",
       "    </tr>\n",
       "    <tr>\n",
       "      <th>Uttar P.</th>\n",
       "      <td>13754.0</td>\n",
       "      <td>30056.0</td>\n",
       "      <td>2184.4</td>\n",
       "      <td>140169.92</td>\n",
       "    </tr>\n",
       "  </tbody>\n",
       "</table>\n",
       "</div>"
      ],
      "text/plain": [
       "              Rice    Wheat  Pulses     Fruits\n",
       "Andhra P.   7452.4      NaN   931.0    7830.00\n",
       "Gujarat     1930.0   2737.0   818.0   11950.00\n",
       "Kerela      2604.8      NaN     1.7     113.10\n",
       "Punjab     11586.2  16440.5    33.0    7152.00\n",
       "Tripura      814.6      0.5    23.2      44.10\n",
       "Uttar P.   13754.0  30056.0  2184.4  140169.92"
      ]
     },
     "execution_count": 4,
     "metadata": {},
     "output_type": "execute_result"
    }
   ],
   "source": [
    "prodf"
   ]
  },
  {
   "cell_type": "markdown",
   "id": "d4450f77",
   "metadata": {},
   "source": [
    "# Functions min( ) and max( )"
   ]
  },
  {
   "cell_type": "markdown",
   "id": "34653e27",
   "metadata": {},
   "source": [
    "df.min(axis= 0 or 1, skipna= True/False, numeric_only= True/False )\n",
    "\n",
    "df.max(axis= 0 or 1, skipna= True/False, numeric_only= True/False )"
   ]
  },
  {
   "cell_type": "markdown",
   "id": "75021196",
   "metadata": {},
   "source": [
    "axis= by default, min or max is calculated along axis 0 (i.e. for index(0), columns(1))\n",
    "\n",
    "skipna= Excludes NA/Null/NaN values when computing the Result. By Default its 'True'.\n",
    "\n",
    "numeric_only= Include only float,int,boolean columns for calculating min or max\n",
    "If None, will attempt to use everything then use only numeric data.\n",
    "\n",
    "You can skip 'skipna' and 'numeric_only' argumrnts, if yor DF mainly contains numeric data."
   ]
  },
  {
   "cell_type": "code",
   "execution_count": 5,
   "id": "08e25e1e",
   "metadata": {},
   "outputs": [
    {
     "data": {
      "text/plain": [
       "Rice      814.6\n",
       "Wheat       0.5\n",
       "Pulses      1.7\n",
       "Fruits     44.1\n",
       "dtype: float64"
      ]
     },
     "execution_count": 5,
     "metadata": {},
     "output_type": "execute_result"
    }
   ],
   "source": [
    "prodf.min()          # min value row-wise in each column"
   ]
  },
  {
   "cell_type": "code",
   "execution_count": 6,
   "id": "eb7cc3eb",
   "metadata": {},
   "outputs": [
    {
     "data": {
      "text/plain": [
       "Rice       13754.00\n",
       "Wheat      30056.00\n",
       "Pulses      2184.40\n",
       "Fruits    140169.92\n",
       "dtype: float64"
      ]
     },
     "execution_count": 6,
     "metadata": {},
     "output_type": "execute_result"
    }
   ],
   "source": [
    "prodf.max()          # max value row-wise in an each column"
   ]
  },
  {
   "cell_type": "code",
   "execution_count": 7,
   "id": "5e196a41",
   "metadata": {},
   "outputs": [
    {
     "data": {
      "text/plain": [
       "Andhra P.     931.0\n",
       "Gujarat       818.0\n",
       "Kerela          1.7\n",
       "Punjab         33.0\n",
       "Tripura         0.5\n",
       "Uttar P.     2184.4\n",
       "dtype: float64"
      ]
     },
     "execution_count": 7,
     "metadata": {},
     "output_type": "execute_result"
    }
   ],
   "source": [
    "prodf.min(axis=1)   # min value column-wise in each row"
   ]
  },
  {
   "cell_type": "code",
   "execution_count": 8,
   "id": "ad7a7d50",
   "metadata": {},
   "outputs": [
    {
     "data": {
      "text/plain": [
       "Andhra P.      7830.00\n",
       "Gujarat       11950.00\n",
       "Kerela         2604.80\n",
       "Punjab        16440.50\n",
       "Tripura         814.60\n",
       "Uttar P.     140169.92\n",
       "dtype: float64"
      ]
     },
     "execution_count": 8,
     "metadata": {},
     "output_type": "execute_result"
    }
   ],
   "source": [
    "prodf.max(axis=1)  # max value column-wise in each row"
   ]
  },
  {
   "cell_type": "code",
   "execution_count": 9,
   "id": "b19d2f19",
   "metadata": {},
   "outputs": [
    {
     "data": {
      "text/plain": [
       "Rice      Tripura\n",
       "Wheat     Tripura\n",
       "Pulses     Kerela\n",
       "Fruits    Tripura\n",
       "dtype: object"
      ]
     },
     "execution_count": 9,
     "metadata": {},
     "output_type": "execute_result"
    }
   ],
   "source": [
    "prodf.idxmin()    # to get the index of min values in columns "
   ]
  },
  {
   "cell_type": "code",
   "execution_count": 10,
   "id": "281572da",
   "metadata": {},
   "outputs": [
    {
     "data": {
      "text/plain": [
       "Rice      Uttar P.\n",
       "Wheat     Uttar P.\n",
       "Pulses    Uttar P.\n",
       "Fruits    Uttar P.\n",
       "dtype: object"
      ]
     },
     "execution_count": 10,
     "metadata": {},
     "output_type": "execute_result"
    }
   ],
   "source": [
    "prodf.idxmax()    # to get the index of max values in columns "
   ]
  },
  {
   "cell_type": "code",
   "execution_count": 11,
   "id": "6be3a282",
   "metadata": {},
   "outputs": [
    {
     "data": {
      "text/plain": [
       "Andhra P.      7830.00\n",
       "Gujarat       11950.00\n",
       "Kerela         2604.80\n",
       "Punjab        16440.50\n",
       "Tripura         814.60\n",
       "Uttar P.     140169.92\n",
       "dtype: float64"
      ]
     },
     "execution_count": 11,
     "metadata": {},
     "output_type": "execute_result"
    }
   ],
   "source": [
    "prodf.max(axis=1,skipna=True,numeric_only=True)"
   ]
  },
  {
   "cell_type": "code",
   "execution_count": 12,
   "id": "008a500e",
   "metadata": {},
   "outputs": [
    {
     "data": {
      "text/plain": [
       "Rice      814.6\n",
       "Wheat       0.5\n",
       "Pulses      1.7\n",
       "Fruits     44.1\n",
       "dtype: float64"
      ]
     },
     "execution_count": 12,
     "metadata": {},
     "output_type": "execute_result"
    }
   ],
   "source": [
    "prodf.min(skipna=True,numeric_only=True)"
   ]
  },
  {
   "cell_type": "markdown",
   "id": "db65440a",
   "metadata": {},
   "source": [
    "# Mean, Median, Mode"
   ]
  },
  {
   "cell_type": "markdown",
   "id": "987d18ae",
   "metadata": {},
   "source": [
    "df.mean(axis= 0 or 1, skipna= True/False, numeric_only= True/False )\n",
    "\n",
    "df.median(axis= 0 or 1, skipna= True/False, numeric_only= True/False)\n",
    "\n",
    "df.mode(axis= 0 or 1, numeric_only= True/False )     \n",
    "\n",
    "Argument 'skipna' is not the part of mode()"
   ]
  },
  {
   "cell_type": "markdown",
   "id": "3037062c",
   "metadata": {},
   "source": [
    "mean() - Mean returns the computed avg. from a set of values for the requested axis.\n",
    "\n",
    "median() - Median returns the middle number from a set of numbers.\n",
    "           It returns the median value that seperates the higher half from the lower half of a set of values.\n",
    "    \n",
    "mode() - Mode returns the value that appears most often in a given set of values.    "
   ]
  },
  {
   "cell_type": "code",
   "execution_count": 13,
   "id": "8170dafd",
   "metadata": {},
   "outputs": [
    {
     "data": {
      "text/plain": [
       "Rice       6357.000000\n",
       "Wheat     12308.500000\n",
       "Pulses      665.216667\n",
       "Fruits    27876.520000\n",
       "dtype: float64"
      ]
     },
     "execution_count": 13,
     "metadata": {},
     "output_type": "execute_result"
    }
   ],
   "source": [
    "prodf.mean(axis= 0, skipna= True, numeric_only= True)"
   ]
  },
  {
   "cell_type": "code",
   "execution_count": 14,
   "id": "3bac8d22",
   "metadata": {},
   "outputs": [
    {
     "data": {
      "text/plain": [
       "Andhra P.     5404.466667\n",
       "Gujarat       4358.750000\n",
       "Kerela         906.533333\n",
       "Punjab        8802.925000\n",
       "Tripura        220.600000\n",
       "Uttar P.     46541.080000\n",
       "dtype: float64"
      ]
     },
     "execution_count": 14,
     "metadata": {},
     "output_type": "execute_result"
    }
   ],
   "source": [
    "prodf.mean(axis= 1, skipna= True, numeric_only= True)"
   ]
  },
  {
   "cell_type": "code",
   "execution_count": 15,
   "id": "21123695",
   "metadata": {},
   "outputs": [
    {
     "data": {
      "text/html": [
       "<div>\n",
       "<style scoped>\n",
       "    .dataframe tbody tr th:only-of-type {\n",
       "        vertical-align: middle;\n",
       "    }\n",
       "\n",
       "    .dataframe tbody tr th {\n",
       "        vertical-align: top;\n",
       "    }\n",
       "\n",
       "    .dataframe thead th {\n",
       "        text-align: right;\n",
       "    }\n",
       "</style>\n",
       "<table border=\"1\" class=\"dataframe\">\n",
       "  <thead>\n",
       "    <tr style=\"text-align: right;\">\n",
       "      <th></th>\n",
       "      <th>Rice</th>\n",
       "      <th>Wheat</th>\n",
       "      <th>Pulses</th>\n",
       "      <th>Fruits</th>\n",
       "    </tr>\n",
       "  </thead>\n",
       "  <tbody>\n",
       "    <tr>\n",
       "      <th>0</th>\n",
       "      <td>814.6</td>\n",
       "      <td>0.5</td>\n",
       "      <td>1.7</td>\n",
       "      <td>44.10</td>\n",
       "    </tr>\n",
       "    <tr>\n",
       "      <th>1</th>\n",
       "      <td>1930.0</td>\n",
       "      <td>2737.0</td>\n",
       "      <td>23.2</td>\n",
       "      <td>113.10</td>\n",
       "    </tr>\n",
       "    <tr>\n",
       "      <th>2</th>\n",
       "      <td>2604.8</td>\n",
       "      <td>16440.5</td>\n",
       "      <td>33.0</td>\n",
       "      <td>7152.00</td>\n",
       "    </tr>\n",
       "    <tr>\n",
       "      <th>3</th>\n",
       "      <td>7452.4</td>\n",
       "      <td>30056.0</td>\n",
       "      <td>818.0</td>\n",
       "      <td>7830.00</td>\n",
       "    </tr>\n",
       "    <tr>\n",
       "      <th>4</th>\n",
       "      <td>11586.2</td>\n",
       "      <td>NaN</td>\n",
       "      <td>931.0</td>\n",
       "      <td>11950.00</td>\n",
       "    </tr>\n",
       "    <tr>\n",
       "      <th>5</th>\n",
       "      <td>13754.0</td>\n",
       "      <td>NaN</td>\n",
       "      <td>2184.4</td>\n",
       "      <td>140169.92</td>\n",
       "    </tr>\n",
       "  </tbody>\n",
       "</table>\n",
       "</div>"
      ],
      "text/plain": [
       "      Rice    Wheat  Pulses     Fruits\n",
       "0    814.6      0.5     1.7      44.10\n",
       "1   1930.0   2737.0    23.2     113.10\n",
       "2   2604.8  16440.5    33.0    7152.00\n",
       "3   7452.4  30056.0   818.0    7830.00\n",
       "4  11586.2      NaN   931.0   11950.00\n",
       "5  13754.0      NaN  2184.4  140169.92"
      ]
     },
     "execution_count": 15,
     "metadata": {},
     "output_type": "execute_result"
    }
   ],
   "source": [
    "prodf.mode(axis= 0, numeric_only= True)    "
   ]
  },
  {
   "cell_type": "code",
   "execution_count": 16,
   "id": "7601d716",
   "metadata": {},
   "outputs": [
    {
     "data": {
      "text/html": [
       "<div>\n",
       "<style scoped>\n",
       "    .dataframe tbody tr th:only-of-type {\n",
       "        vertical-align: middle;\n",
       "    }\n",
       "\n",
       "    .dataframe tbody tr th {\n",
       "        vertical-align: top;\n",
       "    }\n",
       "\n",
       "    .dataframe thead th {\n",
       "        text-align: right;\n",
       "    }\n",
       "</style>\n",
       "<table border=\"1\" class=\"dataframe\">\n",
       "  <thead>\n",
       "    <tr style=\"text-align: right;\">\n",
       "      <th></th>\n",
       "      <th>0</th>\n",
       "      <th>1</th>\n",
       "      <th>2</th>\n",
       "      <th>3</th>\n",
       "    </tr>\n",
       "  </thead>\n",
       "  <tbody>\n",
       "    <tr>\n",
       "      <th>Andhra P.</th>\n",
       "      <td>931.0</td>\n",
       "      <td>7452.4</td>\n",
       "      <td>7830.0</td>\n",
       "      <td>NaN</td>\n",
       "    </tr>\n",
       "    <tr>\n",
       "      <th>Gujarat</th>\n",
       "      <td>818.0</td>\n",
       "      <td>1930.0</td>\n",
       "      <td>2737.0</td>\n",
       "      <td>11950.00</td>\n",
       "    </tr>\n",
       "    <tr>\n",
       "      <th>Kerela</th>\n",
       "      <td>1.7</td>\n",
       "      <td>113.1</td>\n",
       "      <td>2604.8</td>\n",
       "      <td>NaN</td>\n",
       "    </tr>\n",
       "    <tr>\n",
       "      <th>Punjab</th>\n",
       "      <td>33.0</td>\n",
       "      <td>7152.0</td>\n",
       "      <td>11586.2</td>\n",
       "      <td>16440.50</td>\n",
       "    </tr>\n",
       "    <tr>\n",
       "      <th>Tripura</th>\n",
       "      <td>0.5</td>\n",
       "      <td>23.2</td>\n",
       "      <td>44.1</td>\n",
       "      <td>814.60</td>\n",
       "    </tr>\n",
       "    <tr>\n",
       "      <th>Uttar P.</th>\n",
       "      <td>2184.4</td>\n",
       "      <td>13754.0</td>\n",
       "      <td>30056.0</td>\n",
       "      <td>140169.92</td>\n",
       "    </tr>\n",
       "  </tbody>\n",
       "</table>\n",
       "</div>"
      ],
      "text/plain": [
       "                0        1        2          3\n",
       "Andhra P.   931.0   7452.4   7830.0        NaN\n",
       "Gujarat     818.0   1930.0   2737.0   11950.00\n",
       "Kerela        1.7    113.1   2604.8        NaN\n",
       "Punjab       33.0   7152.0  11586.2   16440.50\n",
       "Tripura       0.5     23.2     44.1     814.60\n",
       "Uttar P.   2184.4  13754.0  30056.0  140169.92"
      ]
     },
     "execution_count": 16,
     "metadata": {},
     "output_type": "execute_result"
    }
   ],
   "source": [
    "prodf.mode(axis= 1, numeric_only= True)"
   ]
  },
  {
   "cell_type": "code",
   "execution_count": 17,
   "id": "ebe36763",
   "metadata": {},
   "outputs": [
    {
     "data": {
      "text/plain": [
       "Rice      5028.60\n",
       "Wheat     9588.75\n",
       "Pulses     425.50\n",
       "Fruits    7491.00\n",
       "dtype: float64"
      ]
     },
     "execution_count": 17,
     "metadata": {},
     "output_type": "execute_result"
    }
   ],
   "source": [
    "prodf.median(axis= 0, skipna= True, numeric_only= True)"
   ]
  },
  {
   "cell_type": "code",
   "execution_count": 18,
   "id": "3d390409",
   "metadata": {},
   "outputs": [
    {
     "data": {
      "text/plain": [
       "Andhra P.     7452.40\n",
       "Gujarat       2333.50\n",
       "Kerela         113.10\n",
       "Punjab        9369.10\n",
       "Tripura         33.65\n",
       "Uttar P.     21905.00\n",
       "dtype: float64"
      ]
     },
     "execution_count": 18,
     "metadata": {},
     "output_type": "execute_result"
    }
   ],
   "source": [
    "prodf.median(axis= 1, skipna= True, numeric_only= True)"
   ]
  },
  {
   "cell_type": "markdown",
   "id": "ac609440",
   "metadata": {},
   "source": [
    "# count( ) and sum( )"
   ]
  },
  {
   "cell_type": "markdown",
   "id": "cc52d263",
   "metadata": {},
   "source": [
    "counts the non-NaN entries for each row or column "
   ]
  },
  {
   "cell_type": "markdown",
   "id": "282c4058",
   "metadata": {},
   "source": [
    "df.count(axis= 0 or 1, numeric_only= True or False)\n",
    "\n",
    "numeric_only = Include only float,int,boolean data. By default its value is 'False'."
   ]
  },
  {
   "cell_type": "markdown",
   "id": "549f7b16",
   "metadata": {},
   "source": [
    "df.sum(axis= 0 or 1, skipna= True or False, numeric_only= True or False, min_count= 0)\n",
    "\n",
    "numeric_only = Include only float,int,boolean columns for calculating min or max\n",
    "               If None (default), will attempt to use everything then use only numeric data.\n",
    "\n",
    "skipna = Excludes NA/Null/NaN values when computing the Result. By Default its 'True'.\n",
    "\n",
    "min_count = reqd. no. of valid values to perform the operation.By Default its '0' \n",
    "            If fewer the min_count non-NA values are present the result will be NA.\n",
    "            If  value is '1', This means that sum or product of all-NA or empty series is NaN."
   ]
  },
  {
   "cell_type": "code",
   "execution_count": 19,
   "id": "899b3ee6",
   "metadata": {},
   "outputs": [
    {
     "data": {
      "text/plain": [
       "Rice      6\n",
       "Wheat     4\n",
       "Pulses    6\n",
       "Fruits    6\n",
       "dtype: int64"
      ]
     },
     "execution_count": 19,
     "metadata": {},
     "output_type": "execute_result"
    }
   ],
   "source": [
    "prodf.count()"
   ]
  },
  {
   "cell_type": "code",
   "execution_count": 20,
   "id": "3b05db1a",
   "metadata": {},
   "outputs": [
    {
     "data": {
      "text/plain": [
       "Andhra P.    3\n",
       "Gujarat      4\n",
       "Kerela       3\n",
       "Punjab       4\n",
       "Tripura      4\n",
       "Uttar P.     4\n",
       "dtype: int64"
      ]
     },
     "execution_count": 20,
     "metadata": {},
     "output_type": "execute_result"
    }
   ],
   "source": [
    "prodf.count(axis=1)"
   ]
  },
  {
   "cell_type": "code",
   "execution_count": 21,
   "id": "356ee1d2",
   "metadata": {},
   "outputs": [
    {
     "data": {
      "text/plain": [
       "Rice      6\n",
       "Wheat     4\n",
       "Pulses    6\n",
       "Fruits    6\n",
       "dtype: int64"
      ]
     },
     "execution_count": 21,
     "metadata": {},
     "output_type": "execute_result"
    }
   ],
   "source": [
    "prodf.count(axis=0, numeric_only=False)"
   ]
  },
  {
   "cell_type": "code",
   "execution_count": 22,
   "id": "f7617571",
   "metadata": {},
   "outputs": [
    {
     "data": {
      "text/plain": [
       "Rice       38142.00\n",
       "Wheat      49234.00\n",
       "Pulses      3991.30\n",
       "Fruits    167259.12\n",
       "dtype: float64"
      ]
     },
     "execution_count": 22,
     "metadata": {},
     "output_type": "execute_result"
    }
   ],
   "source": [
    "prodf.sum()"
   ]
  },
  {
   "cell_type": "code",
   "execution_count": 23,
   "id": "44ef5c7f",
   "metadata": {},
   "outputs": [
    {
     "data": {
      "text/html": [
       "<div>\n",
       "<style scoped>\n",
       "    .dataframe tbody tr th:only-of-type {\n",
       "        vertical-align: middle;\n",
       "    }\n",
       "\n",
       "    .dataframe tbody tr th {\n",
       "        vertical-align: top;\n",
       "    }\n",
       "\n",
       "    .dataframe thead th {\n",
       "        text-align: right;\n",
       "    }\n",
       "</style>\n",
       "<table border=\"1\" class=\"dataframe\">\n",
       "  <thead>\n",
       "    <tr style=\"text-align: right;\">\n",
       "      <th></th>\n",
       "      <th>Rice</th>\n",
       "      <th>Wheat</th>\n",
       "      <th>Pulses</th>\n",
       "      <th>Fruits</th>\n",
       "    </tr>\n",
       "  </thead>\n",
       "  <tbody>\n",
       "    <tr>\n",
       "      <th>Andhra P.</th>\n",
       "      <td>7452.4</td>\n",
       "      <td>NaN</td>\n",
       "      <td>931.0</td>\n",
       "      <td>7830.00</td>\n",
       "    </tr>\n",
       "    <tr>\n",
       "      <th>Gujarat</th>\n",
       "      <td>1930.0</td>\n",
       "      <td>2737.0</td>\n",
       "      <td>818.0</td>\n",
       "      <td>11950.00</td>\n",
       "    </tr>\n",
       "    <tr>\n",
       "      <th>Kerela</th>\n",
       "      <td>2604.8</td>\n",
       "      <td>NaN</td>\n",
       "      <td>1.7</td>\n",
       "      <td>113.10</td>\n",
       "    </tr>\n",
       "    <tr>\n",
       "      <th>Punjab</th>\n",
       "      <td>11586.2</td>\n",
       "      <td>16440.5</td>\n",
       "      <td>33.0</td>\n",
       "      <td>7152.00</td>\n",
       "    </tr>\n",
       "    <tr>\n",
       "      <th>Tripura</th>\n",
       "      <td>814.6</td>\n",
       "      <td>0.5</td>\n",
       "      <td>23.2</td>\n",
       "      <td>44.10</td>\n",
       "    </tr>\n",
       "    <tr>\n",
       "      <th>Uttar P.</th>\n",
       "      <td>13754.0</td>\n",
       "      <td>30056.0</td>\n",
       "      <td>2184.4</td>\n",
       "      <td>140169.92</td>\n",
       "    </tr>\n",
       "  </tbody>\n",
       "</table>\n",
       "</div>"
      ],
      "text/plain": [
       "              Rice    Wheat  Pulses     Fruits\n",
       "Andhra P.   7452.4      NaN   931.0    7830.00\n",
       "Gujarat     1930.0   2737.0   818.0   11950.00\n",
       "Kerela      2604.8      NaN     1.7     113.10\n",
       "Punjab     11586.2  16440.5    33.0    7152.00\n",
       "Tripura      814.6      0.5    23.2      44.10\n",
       "Uttar P.   13754.0  30056.0  2184.4  140169.92"
      ]
     },
     "execution_count": 23,
     "metadata": {},
     "output_type": "execute_result"
    }
   ],
   "source": [
    "prodf"
   ]
  },
  {
   "cell_type": "code",
   "execution_count": 24,
   "id": "a9e0225b",
   "metadata": {},
   "outputs": [
    {
     "data": {
      "text/plain": [
       "Rice       38142.00\n",
       "Wheat      49234.00\n",
       "Pulses      3991.30\n",
       "Fruits    167259.12\n",
       "dtype: float64"
      ]
     },
     "execution_count": 24,
     "metadata": {},
     "output_type": "execute_result"
    }
   ],
   "source": [
    "prodf.sum(axis=0, skipna= True, numeric_only= True, min_count= 1)"
   ]
  },
  {
   "cell_type": "code",
   "execution_count": 25,
   "id": "a607ae2a",
   "metadata": {},
   "outputs": [
    {
     "data": {
      "text/plain": [
       "Andhra P.     16213.40\n",
       "Gujarat       17435.00\n",
       "Kerela         2719.60\n",
       "Punjab        35211.70\n",
       "Tripura         882.40\n",
       "Uttar P.     186164.32\n",
       "dtype: float64"
      ]
     },
     "execution_count": 25,
     "metadata": {},
     "output_type": "execute_result"
    }
   ],
   "source": [
    "prodf.sum(axis=1, skipna= True, numeric_only= True, min_count= 1)"
   ]
  },
  {
   "cell_type": "markdown",
   "id": "7f0beb13",
   "metadata": {},
   "source": [
    "# quantile( )"
   ]
  },
  {
   "cell_type": "markdown",
   "id": "3c4016f5",
   "metadata": {},
   "source": [
    "Process of Dividing the total distribution of given Data into a given no of equal proportions.\n",
    "The divided parts are called Quantiles.\n",
    "\n",
    "Quartiles will have 4 Quantiles (4-equal distributions). Each having 25% share."
   ]
  },
  {
   "cell_type": "markdown",
   "id": "9aa896e2",
   "metadata": {},
   "source": [
    "df.quantile(q=   , axis 0 or 1, numeric_only= True or False)\n",
    "\n",
    "q = float or array-like , default 0.5 (50%) quantile.\n",
    "    0<=q<=1\n",
    "q = [0.25,0.5,0.75,1.0]\n",
    "\n",
    "if q is an array , a DataFrame will be returned.\n",
    "if q is a float, a series will be returned.\n",
    "\n",
    "numeric_only= if false, the quantile of datetime and timedelta data will be computed as well.\n"
   ]
  },
  {
   "cell_type": "code",
   "execution_count": 26,
   "id": "084fd854",
   "metadata": {},
   "outputs": [
    {
     "data": {
      "text/html": [
       "<div>\n",
       "<style scoped>\n",
       "    .dataframe tbody tr th:only-of-type {\n",
       "        vertical-align: middle;\n",
       "    }\n",
       "\n",
       "    .dataframe tbody tr th {\n",
       "        vertical-align: top;\n",
       "    }\n",
       "\n",
       "    .dataframe thead th {\n",
       "        text-align: right;\n",
       "    }\n",
       "</style>\n",
       "<table border=\"1\" class=\"dataframe\">\n",
       "  <thead>\n",
       "    <tr style=\"text-align: right;\">\n",
       "      <th></th>\n",
       "      <th>1</th>\n",
       "      <th>2</th>\n",
       "      <th>3</th>\n",
       "      <th>4</th>\n",
       "      <th>5</th>\n",
       "      <th>6</th>\n",
       "      <th>7</th>\n",
       "      <th>8</th>\n",
       "      <th>9</th>\n",
       "      <th>10</th>\n",
       "    </tr>\n",
       "  </thead>\n",
       "  <tbody>\n",
       "    <tr>\n",
       "      <th>Acct</th>\n",
       "      <td>99</td>\n",
       "      <td>94</td>\n",
       "      <td>81</td>\n",
       "      <td>70</td>\n",
       "      <td>88</td>\n",
       "      <td>90</td>\n",
       "      <td>41</td>\n",
       "      <td>61</td>\n",
       "      <td>42</td>\n",
       "      <td>68</td>\n",
       "    </tr>\n",
       "    <tr>\n",
       "      <th>Eco</th>\n",
       "      <td>94</td>\n",
       "      <td>94</td>\n",
       "      <td>72</td>\n",
       "      <td>67</td>\n",
       "      <td>82</td>\n",
       "      <td>81</td>\n",
       "      <td>36</td>\n",
       "      <td>54</td>\n",
       "      <td>42</td>\n",
       "      <td>67</td>\n",
       "    </tr>\n",
       "    <tr>\n",
       "      <th>Eng</th>\n",
       "      <td>95</td>\n",
       "      <td>89</td>\n",
       "      <td>71</td>\n",
       "      <td>69</td>\n",
       "      <td>82</td>\n",
       "      <td>79</td>\n",
       "      <td>51</td>\n",
       "      <td>60</td>\n",
       "      <td>45</td>\n",
       "      <td>66</td>\n",
       "    </tr>\n",
       "    <tr>\n",
       "      <th>IP</th>\n",
       "      <td>94</td>\n",
       "      <td>87</td>\n",
       "      <td>79</td>\n",
       "      <td>65</td>\n",
       "      <td>89</td>\n",
       "      <td>81</td>\n",
       "      <td>42</td>\n",
       "      <td>63</td>\n",
       "      <td>43</td>\n",
       "      <td>64</td>\n",
       "    </tr>\n",
       "    <tr>\n",
       "      <th>Math</th>\n",
       "      <td>97</td>\n",
       "      <td>100</td>\n",
       "      <td>65</td>\n",
       "      <td>69</td>\n",
       "      <td>86</td>\n",
       "      <td>84</td>\n",
       "      <td>40</td>\n",
       "      <td>55</td>\n",
       "      <td>40</td>\n",
       "      <td>60</td>\n",
       "    </tr>\n",
       "  </tbody>\n",
       "</table>\n",
       "</div>"
      ],
      "text/plain": [
       "      1    2   3   4   5   6   7   8   9   10\n",
       "Acct  99   94  81  70  88  90  41  61  42  68\n",
       "Eco   94   94  72  67  82  81  36  54  42  67\n",
       "Eng   95   89  71  69  82  79  51  60  45  66\n",
       "IP    94   87  79  65  89  81  42  63  43  64\n",
       "Math  97  100  65  69  86  84  40  55  40  60"
      ]
     },
     "execution_count": 26,
     "metadata": {},
     "output_type": "execute_result"
    }
   ],
   "source": [
    "import pandas as pd\n",
    "import numpy as np\n",
    "marks={1:{'Acct':99,'Eco':94, 'Eng':95, 'IP':94,'Math':97},\n",
    "       2:{'Acct':94, 'Eco':94, 'Eng':89, 'IP':87,'Math':100},\n",
    "       3:{'Acct':81, 'Eco':72, 'Eng':71, 'IP':79,'Math':65},\n",
    "       4:{'Acct':70, 'Eco':67, 'Eng':69, 'IP':65,'Math':69},\n",
    "       5:{'Acct':88, 'Eco':82, 'Eng':82, 'IP':89,'Math':86},\n",
    "       6:{'Acct':90, 'Eco':81, 'Eng':79, 'IP':81,'Math':84},\n",
    "       7:{'Acct':41, 'Eco':36, 'Eng':51, 'IP':42,'Math':40},\n",
    "       8:{'Acct':61, 'Eco':54, 'Eng':60, 'IP':63,'Math':55},\n",
    "       9:{'Acct':42, 'Eco':42, 'Eng':45, 'IP':43,'Math':40},\n",
    "       10:{'Acct':68, 'Eco':67, 'Eng':66, 'IP':64,'Math':60}}\n",
    "       \n",
    "mks2=pd.DataFrame(marks)\n",
    "mks2"
   ]
  },
  {
   "cell_type": "code",
   "execution_count": 27,
   "id": "6622ad9f",
   "metadata": {},
   "outputs": [
    {
     "data": {
      "text/html": [
       "<div>\n",
       "<style scoped>\n",
       "    .dataframe tbody tr th:only-of-type {\n",
       "        vertical-align: middle;\n",
       "    }\n",
       "\n",
       "    .dataframe tbody tr th {\n",
       "        vertical-align: top;\n",
       "    }\n",
       "\n",
       "    .dataframe thead th {\n",
       "        text-align: right;\n",
       "    }\n",
       "</style>\n",
       "<table border=\"1\" class=\"dataframe\">\n",
       "  <thead>\n",
       "    <tr style=\"text-align: right;\">\n",
       "      <th></th>\n",
       "      <th>Acct</th>\n",
       "      <th>Eco</th>\n",
       "      <th>Eng</th>\n",
       "      <th>IP</th>\n",
       "      <th>Math</th>\n",
       "    </tr>\n",
       "  </thead>\n",
       "  <tbody>\n",
       "    <tr>\n",
       "      <th>0.25</th>\n",
       "      <td>62.75</td>\n",
       "      <td>57.25</td>\n",
       "      <td>61.50</td>\n",
       "      <td>63.25</td>\n",
       "      <td>56.25</td>\n",
       "    </tr>\n",
       "    <tr>\n",
       "      <th>0.50</th>\n",
       "      <td>75.50</td>\n",
       "      <td>69.50</td>\n",
       "      <td>70.00</td>\n",
       "      <td>72.00</td>\n",
       "      <td>67.00</td>\n",
       "    </tr>\n",
       "    <tr>\n",
       "      <th>0.75</th>\n",
       "      <td>89.50</td>\n",
       "      <td>81.75</td>\n",
       "      <td>81.25</td>\n",
       "      <td>85.50</td>\n",
       "      <td>85.50</td>\n",
       "    </tr>\n",
       "    <tr>\n",
       "      <th>1.00</th>\n",
       "      <td>99.00</td>\n",
       "      <td>94.00</td>\n",
       "      <td>95.00</td>\n",
       "      <td>94.00</td>\n",
       "      <td>100.00</td>\n",
       "    </tr>\n",
       "  </tbody>\n",
       "</table>\n",
       "</div>"
      ],
      "text/plain": [
       "       Acct    Eco    Eng     IP    Math\n",
       "0.25  62.75  57.25  61.50  63.25   56.25\n",
       "0.50  75.50  69.50  70.00  72.00   67.00\n",
       "0.75  89.50  81.75  81.25  85.50   85.50\n",
       "1.00  99.00  94.00  95.00  94.00  100.00"
      ]
     },
     "execution_count": 27,
     "metadata": {},
     "output_type": "execute_result"
    }
   ],
   "source": [
    "mks2.quantile([0.25,0.5,0.75,1.0], axis=1, numeric_only=True)"
   ]
  },
  {
   "cell_type": "code",
   "execution_count": 28,
   "id": "3926f180",
   "metadata": {},
   "outputs": [
    {
     "data": {
      "text/html": [
       "<div>\n",
       "<style scoped>\n",
       "    .dataframe tbody tr th:only-of-type {\n",
       "        vertical-align: middle;\n",
       "    }\n",
       "\n",
       "    .dataframe tbody tr th {\n",
       "        vertical-align: top;\n",
       "    }\n",
       "\n",
       "    .dataframe thead th {\n",
       "        text-align: right;\n",
       "    }\n",
       "</style>\n",
       "<table border=\"1\" class=\"dataframe\">\n",
       "  <thead>\n",
       "    <tr style=\"text-align: right;\">\n",
       "      <th></th>\n",
       "      <th>1</th>\n",
       "      <th>2</th>\n",
       "      <th>3</th>\n",
       "      <th>4</th>\n",
       "      <th>5</th>\n",
       "      <th>6</th>\n",
       "      <th>7</th>\n",
       "      <th>8</th>\n",
       "      <th>9</th>\n",
       "      <th>10</th>\n",
       "    </tr>\n",
       "  </thead>\n",
       "  <tbody>\n",
       "    <tr>\n",
       "      <th>0.25</th>\n",
       "      <td>94.0</td>\n",
       "      <td>89.0</td>\n",
       "      <td>71.0</td>\n",
       "      <td>67.0</td>\n",
       "      <td>82.0</td>\n",
       "      <td>81.0</td>\n",
       "      <td>40.0</td>\n",
       "      <td>55.0</td>\n",
       "      <td>42.0</td>\n",
       "      <td>64.0</td>\n",
       "    </tr>\n",
       "    <tr>\n",
       "      <th>0.50</th>\n",
       "      <td>95.0</td>\n",
       "      <td>94.0</td>\n",
       "      <td>72.0</td>\n",
       "      <td>69.0</td>\n",
       "      <td>86.0</td>\n",
       "      <td>81.0</td>\n",
       "      <td>41.0</td>\n",
       "      <td>60.0</td>\n",
       "      <td>42.0</td>\n",
       "      <td>66.0</td>\n",
       "    </tr>\n",
       "    <tr>\n",
       "      <th>0.75</th>\n",
       "      <td>97.0</td>\n",
       "      <td>94.0</td>\n",
       "      <td>79.0</td>\n",
       "      <td>69.0</td>\n",
       "      <td>88.0</td>\n",
       "      <td>84.0</td>\n",
       "      <td>42.0</td>\n",
       "      <td>61.0</td>\n",
       "      <td>43.0</td>\n",
       "      <td>67.0</td>\n",
       "    </tr>\n",
       "    <tr>\n",
       "      <th>1.00</th>\n",
       "      <td>99.0</td>\n",
       "      <td>100.0</td>\n",
       "      <td>81.0</td>\n",
       "      <td>70.0</td>\n",
       "      <td>89.0</td>\n",
       "      <td>90.0</td>\n",
       "      <td>51.0</td>\n",
       "      <td>63.0</td>\n",
       "      <td>45.0</td>\n",
       "      <td>68.0</td>\n",
       "    </tr>\n",
       "  </tbody>\n",
       "</table>\n",
       "</div>"
      ],
      "text/plain": [
       "        1      2     3     4     5     6     7     8     9     10\n",
       "0.25  94.0   89.0  71.0  67.0  82.0  81.0  40.0  55.0  42.0  64.0\n",
       "0.50  95.0   94.0  72.0  69.0  86.0  81.0  41.0  60.0  42.0  66.0\n",
       "0.75  97.0   94.0  79.0  69.0  88.0  84.0  42.0  61.0  43.0  67.0\n",
       "1.00  99.0  100.0  81.0  70.0  89.0  90.0  51.0  63.0  45.0  68.0"
      ]
     },
     "execution_count": 28,
     "metadata": {},
     "output_type": "execute_result"
    }
   ],
   "source": [
    "mks2.quantile([0.25,0.5,0.75,1.0], axis=0, numeric_only=True)"
   ]
  },
  {
   "cell_type": "code",
   "execution_count": 29,
   "id": "e70040c5",
   "metadata": {},
   "outputs": [
    {
     "data": {
      "text/html": [
       "<div>\n",
       "<style scoped>\n",
       "    .dataframe tbody tr th:only-of-type {\n",
       "        vertical-align: middle;\n",
       "    }\n",
       "\n",
       "    .dataframe tbody tr th {\n",
       "        vertical-align: top;\n",
       "    }\n",
       "\n",
       "    .dataframe thead th {\n",
       "        text-align: right;\n",
       "    }\n",
       "</style>\n",
       "<table border=\"1\" class=\"dataframe\">\n",
       "  <thead>\n",
       "    <tr style=\"text-align: right;\">\n",
       "      <th></th>\n",
       "      <th>1</th>\n",
       "      <th>2</th>\n",
       "      <th>3</th>\n",
       "      <th>4</th>\n",
       "      <th>5</th>\n",
       "      <th>6</th>\n",
       "      <th>7</th>\n",
       "      <th>8</th>\n",
       "      <th>9</th>\n",
       "      <th>10</th>\n",
       "    </tr>\n",
       "  </thead>\n",
       "  <tbody>\n",
       "    <tr>\n",
       "      <th>0.25</th>\n",
       "      <td>94.0</td>\n",
       "      <td>89.0</td>\n",
       "      <td>71.0</td>\n",
       "      <td>67.0</td>\n",
       "      <td>82.0</td>\n",
       "      <td>81.0</td>\n",
       "      <td>40.0</td>\n",
       "      <td>55.0</td>\n",
       "      <td>42.0</td>\n",
       "      <td>64.0</td>\n",
       "    </tr>\n",
       "    <tr>\n",
       "      <th>0.50</th>\n",
       "      <td>95.0</td>\n",
       "      <td>94.0</td>\n",
       "      <td>72.0</td>\n",
       "      <td>69.0</td>\n",
       "      <td>86.0</td>\n",
       "      <td>81.0</td>\n",
       "      <td>41.0</td>\n",
       "      <td>60.0</td>\n",
       "      <td>42.0</td>\n",
       "      <td>66.0</td>\n",
       "    </tr>\n",
       "    <tr>\n",
       "      <th>0.75</th>\n",
       "      <td>97.0</td>\n",
       "      <td>94.0</td>\n",
       "      <td>79.0</td>\n",
       "      <td>69.0</td>\n",
       "      <td>88.0</td>\n",
       "      <td>84.0</td>\n",
       "      <td>42.0</td>\n",
       "      <td>61.0</td>\n",
       "      <td>43.0</td>\n",
       "      <td>67.0</td>\n",
       "    </tr>\n",
       "    <tr>\n",
       "      <th>1.00</th>\n",
       "      <td>99.0</td>\n",
       "      <td>100.0</td>\n",
       "      <td>81.0</td>\n",
       "      <td>70.0</td>\n",
       "      <td>89.0</td>\n",
       "      <td>90.0</td>\n",
       "      <td>51.0</td>\n",
       "      <td>63.0</td>\n",
       "      <td>45.0</td>\n",
       "      <td>68.0</td>\n",
       "    </tr>\n",
       "  </tbody>\n",
       "</table>\n",
       "</div>"
      ],
      "text/plain": [
       "        1      2     3     4     5     6     7     8     9     10\n",
       "0.25  94.0   89.0  71.0  67.0  82.0  81.0  40.0  55.0  42.0  64.0\n",
       "0.50  95.0   94.0  72.0  69.0  86.0  81.0  41.0  60.0  42.0  66.0\n",
       "0.75  97.0   94.0  79.0  69.0  88.0  84.0  42.0  61.0  43.0  67.0\n",
       "1.00  99.0  100.0  81.0  70.0  89.0  90.0  51.0  63.0  45.0  68.0"
      ]
     },
     "execution_count": 29,
     "metadata": {},
     "output_type": "execute_result"
    }
   ],
   "source": [
    "mks2.quantile([0.25,0.5,0.75,1.0], axis=0, numeric_only=False)"
   ]
  },
  {
   "cell_type": "markdown",
   "id": "b66d51a9",
   "metadata": {},
   "source": [
    "# Standard Deviation std( )"
   ]
  },
  {
   "cell_type": "markdown",
   "id": "614c53db",
   "metadata": {},
   "source": [
    "std() function computes the standard deviation over requested axis.\n",
    "\n",
    "df.std(axis= , skipna= None(By Default) ,numeric_only= None(By Default) )\n"
   ]
  },
  {
   "cell_type": "code",
   "execution_count": 30,
   "id": "285aac82",
   "metadata": {},
   "outputs": [
    {
     "data": {
      "text/plain": [
       "1     2.167948\n",
       "2     5.069517\n",
       "3     6.465292\n",
       "4     2.000000\n",
       "5     3.286335\n",
       "6     4.301163\n",
       "7     5.522681\n",
       "8     3.911521\n",
       "9     1.816590\n",
       "10    3.162278\n",
       "dtype: float64"
      ]
     },
     "execution_count": 30,
     "metadata": {},
     "output_type": "execute_result"
    }
   ],
   "source": [
    "mks2.std(axis=0, skipna=None ,numeric_only=None )"
   ]
  },
  {
   "cell_type": "code",
   "execution_count": 31,
   "id": "e3941e7c",
   "metadata": {},
   "outputs": [
    {
     "data": {
      "text/plain": [
       "Acct    20.699973\n",
       "Eco     20.063510\n",
       "Eng     16.021167\n",
       "IP      18.397162\n",
       "Math    21.680508\n",
       "dtype: float64"
      ]
     },
     "execution_count": 31,
     "metadata": {},
     "output_type": "execute_result"
    }
   ],
   "source": [
    "mks2.std(axis=1, skipna=None ,numeric_only=None )"
   ]
  },
  {
   "cell_type": "code",
   "execution_count": 32,
   "id": "0596669e",
   "metadata": {},
   "outputs": [
    {
     "data": {
      "text/plain": [
       "Rice       5434.253848\n",
       "Wheat     13846.150566\n",
       "Pulses      854.872997\n",
       "Fruits    55209.204865\n",
       "dtype: float64"
      ]
     },
     "execution_count": 32,
     "metadata": {},
     "output_type": "execute_result"
    }
   ],
   "source": [
    "prodf.std(axis=0, skipna=None ,numeric_only=None )"
   ]
  },
  {
   "cell_type": "code",
   "execution_count": 33,
   "id": "0cef37d9",
   "metadata": {},
   "outputs": [
    {
     "data": {
      "text/plain": [
       "Andhra P.     3878.733486\n",
       "Gujarat       5121.617152\n",
       "Kerela        1471.796434\n",
       "Punjab        6969.368921\n",
       "Tripura        396.400059\n",
       "Uttar P.     63457.663624\n",
       "dtype: float64"
      ]
     },
     "execution_count": 33,
     "metadata": {},
     "output_type": "execute_result"
    }
   ],
   "source": [
    "prodf.std(axis=1, skipna=None ,numeric_only=None )"
   ]
  },
  {
   "cell_type": "markdown",
   "id": "634b8162",
   "metadata": {},
   "source": [
    "# Variance var( )"
   ]
  },
  {
   "cell_type": "markdown",
   "id": "cae71b93",
   "metadata": {},
   "source": [
    "var() function computes variance and returns the unbiased variance over the requested axis."
   ]
  },
  {
   "cell_type": "markdown",
   "id": "ad790f09",
   "metadata": {},
   "source": [
    "df.var(axis= , skipna= None(By Default) ,numeric_only= None(By Default) )"
   ]
  },
  {
   "cell_type": "code",
   "execution_count": 34,
   "id": "e228daf2",
   "metadata": {},
   "outputs": [
    {
     "data": {
      "text/plain": [
       "Andhra P.    1.504457e+07\n",
       "Gujarat      2.623096e+07\n",
       "Kerela       2.166185e+06\n",
       "Punjab       4.857210e+07\n",
       "Tripura      1.571330e+05\n",
       "Uttar P.     4.026875e+09\n",
       "dtype: float64"
      ]
     },
     "execution_count": 34,
     "metadata": {},
     "output_type": "execute_result"
    }
   ],
   "source": [
    "prodf.var(axis=1, skipna=None ,numeric_only=None )"
   ]
  },
  {
   "cell_type": "code",
   "execution_count": 35,
   "id": "550e89d8",
   "metadata": {},
   "outputs": [
    {
     "data": {
      "text/plain": [
       "Rice      2.953111e+07\n",
       "Wheat     1.917159e+08\n",
       "Pulses    7.308078e+05\n",
       "Fruits    3.048056e+09\n",
       "dtype: float64"
      ]
     },
     "execution_count": 35,
     "metadata": {},
     "output_type": "execute_result"
    }
   ],
   "source": [
    "prodf.var(axis=0, skipna=None ,numeric_only=None )"
   ]
  },
  {
   "cell_type": "markdown",
   "id": "7bd1dea2",
   "metadata": {},
   "source": [
    "# describe( )"
   ]
  },
  {
   "cell_type": "markdown",
   "id": "c7b00f3d",
   "metadata": {},
   "source": [
    "All the Descriptive Statistics details can be calculated through a single function"
   ]
  },
  {
   "cell_type": "markdown",
   "id": "70b2dfe3",
   "metadata": {},
   "source": [
    "df.describe()"
   ]
  },
  {
   "cell_type": "code",
   "execution_count": 36,
   "id": "13abe8b3",
   "metadata": {},
   "outputs": [
    {
     "data": {
      "text/html": [
       "<div>\n",
       "<style scoped>\n",
       "    .dataframe tbody tr th:only-of-type {\n",
       "        vertical-align: middle;\n",
       "    }\n",
       "\n",
       "    .dataframe tbody tr th {\n",
       "        vertical-align: top;\n",
       "    }\n",
       "\n",
       "    .dataframe thead th {\n",
       "        text-align: right;\n",
       "    }\n",
       "</style>\n",
       "<table border=\"1\" class=\"dataframe\">\n",
       "  <thead>\n",
       "    <tr style=\"text-align: right;\">\n",
       "      <th></th>\n",
       "      <th>Rice</th>\n",
       "      <th>Wheat</th>\n",
       "      <th>Pulses</th>\n",
       "      <th>Fruits</th>\n",
       "    </tr>\n",
       "  </thead>\n",
       "  <tbody>\n",
       "    <tr>\n",
       "      <th>count</th>\n",
       "      <td>6.000000</td>\n",
       "      <td>4.000000</td>\n",
       "      <td>6.000000</td>\n",
       "      <td>6.000000</td>\n",
       "    </tr>\n",
       "    <tr>\n",
       "      <th>mean</th>\n",
       "      <td>6357.000000</td>\n",
       "      <td>12308.500000</td>\n",
       "      <td>665.216667</td>\n",
       "      <td>27876.520000</td>\n",
       "    </tr>\n",
       "    <tr>\n",
       "      <th>std</th>\n",
       "      <td>5434.253848</td>\n",
       "      <td>13846.150566</td>\n",
       "      <td>854.872997</td>\n",
       "      <td>55209.204865</td>\n",
       "    </tr>\n",
       "    <tr>\n",
       "      <th>min</th>\n",
       "      <td>814.600000</td>\n",
       "      <td>0.500000</td>\n",
       "      <td>1.700000</td>\n",
       "      <td>44.100000</td>\n",
       "    </tr>\n",
       "    <tr>\n",
       "      <th>25%</th>\n",
       "      <td>2098.700000</td>\n",
       "      <td>2052.875000</td>\n",
       "      <td>25.650000</td>\n",
       "      <td>1872.825000</td>\n",
       "    </tr>\n",
       "    <tr>\n",
       "      <th>50%</th>\n",
       "      <td>5028.600000</td>\n",
       "      <td>9588.750000</td>\n",
       "      <td>425.500000</td>\n",
       "      <td>7491.000000</td>\n",
       "    </tr>\n",
       "    <tr>\n",
       "      <th>75%</th>\n",
       "      <td>10552.750000</td>\n",
       "      <td>19844.375000</td>\n",
       "      <td>902.750000</td>\n",
       "      <td>10920.000000</td>\n",
       "    </tr>\n",
       "    <tr>\n",
       "      <th>max</th>\n",
       "      <td>13754.000000</td>\n",
       "      <td>30056.000000</td>\n",
       "      <td>2184.400000</td>\n",
       "      <td>140169.920000</td>\n",
       "    </tr>\n",
       "  </tbody>\n",
       "</table>\n",
       "</div>"
      ],
      "text/plain": [
       "               Rice         Wheat       Pulses         Fruits\n",
       "count      6.000000      4.000000     6.000000       6.000000\n",
       "mean    6357.000000  12308.500000   665.216667   27876.520000\n",
       "std     5434.253848  13846.150566   854.872997   55209.204865\n",
       "min      814.600000      0.500000     1.700000      44.100000\n",
       "25%     2098.700000   2052.875000    25.650000    1872.825000\n",
       "50%     5028.600000   9588.750000   425.500000    7491.000000\n",
       "75%    10552.750000  19844.375000   902.750000   10920.000000\n",
       "max    13754.000000  30056.000000  2184.400000  140169.920000"
      ]
     },
     "execution_count": 36,
     "metadata": {},
     "output_type": "execute_result"
    }
   ],
   "source": [
    "prodf.describe()"
   ]
  },
  {
   "cell_type": "markdown",
   "id": "c98b4c44",
   "metadata": {},
   "source": [
    "For String type column in DF, describe() gives different o/p for string column.\n",
    "\n",
    "To get the o/p related to string column use: df.describe(include='all')  in the syntax"
   ]
  },
  {
   "cell_type": "markdown",
   "id": "c42df983",
   "metadata": {},
   "source": [
    "# Inspection Function info( )"
   ]
  },
  {
   "cell_type": "code",
   "execution_count": 37,
   "id": "6786b7b3",
   "metadata": {},
   "outputs": [
    {
     "name": "stdout",
     "output_type": "stream",
     "text": [
      "<class 'pandas.core.frame.DataFrame'>\n",
      "Index: 6 entries, Andhra P. to Uttar P.\n",
      "Data columns (total 4 columns):\n",
      " #   Column  Non-Null Count  Dtype  \n",
      "---  ------  --------------  -----  \n",
      " 0   Rice    6 non-null      float64\n",
      " 1   Wheat   4 non-null      float64\n",
      " 2   Pulses  6 non-null      float64\n",
      " 3   Fruits  6 non-null      float64\n",
      "dtypes: float64(4)\n",
      "memory usage: 412.0+ bytes\n"
     ]
    }
   ],
   "source": [
    "prodf.info()"
   ]
  },
  {
   "cell_type": "code",
   "execution_count": 38,
   "id": "92393258",
   "metadata": {},
   "outputs": [
    {
     "name": "stdout",
     "output_type": "stream",
     "text": [
      "<class 'pandas.core.frame.DataFrame'>\n",
      "Index: 5 entries, Acct to Math\n",
      "Data columns (total 10 columns):\n",
      " #   Column  Non-Null Count  Dtype\n",
      "---  ------  --------------  -----\n",
      " 0   1       5 non-null      int64\n",
      " 1   2       5 non-null      int64\n",
      " 2   3       5 non-null      int64\n",
      " 3   4       5 non-null      int64\n",
      " 4   5       5 non-null      int64\n",
      " 5   6       5 non-null      int64\n",
      " 6   7       5 non-null      int64\n",
      " 7   8       5 non-null      int64\n",
      " 8   9       5 non-null      int64\n",
      " 9   10      5 non-null      int64\n",
      "dtypes: int64(10)\n",
      "memory usage: 612.0+ bytes\n"
     ]
    }
   ],
   "source": [
    "mks2.info()"
   ]
  },
  {
   "cell_type": "markdown",
   "id": "ac1c5b60",
   "metadata": {},
   "source": [
    "# head( ) and tail( )"
   ]
  },
  {
   "cell_type": "markdown",
   "id": "e8b80221",
   "metadata": {},
   "source": [
    "df.head(n=5)   top 5 listed rows\n",
    "\n",
    "df.tail(n=3)   bottom 3 listed rows"
   ]
  },
  {
   "cell_type": "code",
   "execution_count": 39,
   "id": "dd201ad1",
   "metadata": {},
   "outputs": [
    {
     "data": {
      "text/html": [
       "<div>\n",
       "<style scoped>\n",
       "    .dataframe tbody tr th:only-of-type {\n",
       "        vertical-align: middle;\n",
       "    }\n",
       "\n",
       "    .dataframe tbody tr th {\n",
       "        vertical-align: top;\n",
       "    }\n",
       "\n",
       "    .dataframe thead th {\n",
       "        text-align: right;\n",
       "    }\n",
       "</style>\n",
       "<table border=\"1\" class=\"dataframe\">\n",
       "  <thead>\n",
       "    <tr style=\"text-align: right;\">\n",
       "      <th></th>\n",
       "      <th>1</th>\n",
       "      <th>2</th>\n",
       "      <th>3</th>\n",
       "      <th>4</th>\n",
       "      <th>5</th>\n",
       "      <th>6</th>\n",
       "      <th>7</th>\n",
       "      <th>8</th>\n",
       "      <th>9</th>\n",
       "      <th>10</th>\n",
       "    </tr>\n",
       "  </thead>\n",
       "  <tbody>\n",
       "    <tr>\n",
       "      <th>Acct</th>\n",
       "      <td>99</td>\n",
       "      <td>94</td>\n",
       "      <td>81</td>\n",
       "      <td>70</td>\n",
       "      <td>88</td>\n",
       "      <td>90</td>\n",
       "      <td>41</td>\n",
       "      <td>61</td>\n",
       "      <td>42</td>\n",
       "      <td>68</td>\n",
       "    </tr>\n",
       "    <tr>\n",
       "      <th>Eco</th>\n",
       "      <td>94</td>\n",
       "      <td>94</td>\n",
       "      <td>72</td>\n",
       "      <td>67</td>\n",
       "      <td>82</td>\n",
       "      <td>81</td>\n",
       "      <td>36</td>\n",
       "      <td>54</td>\n",
       "      <td>42</td>\n",
       "      <td>67</td>\n",
       "    </tr>\n",
       "    <tr>\n",
       "      <th>Eng</th>\n",
       "      <td>95</td>\n",
       "      <td>89</td>\n",
       "      <td>71</td>\n",
       "      <td>69</td>\n",
       "      <td>82</td>\n",
       "      <td>79</td>\n",
       "      <td>51</td>\n",
       "      <td>60</td>\n",
       "      <td>45</td>\n",
       "      <td>66</td>\n",
       "    </tr>\n",
       "    <tr>\n",
       "      <th>IP</th>\n",
       "      <td>94</td>\n",
       "      <td>87</td>\n",
       "      <td>79</td>\n",
       "      <td>65</td>\n",
       "      <td>89</td>\n",
       "      <td>81</td>\n",
       "      <td>42</td>\n",
       "      <td>63</td>\n",
       "      <td>43</td>\n",
       "      <td>64</td>\n",
       "    </tr>\n",
       "    <tr>\n",
       "      <th>Math</th>\n",
       "      <td>97</td>\n",
       "      <td>100</td>\n",
       "      <td>65</td>\n",
       "      <td>69</td>\n",
       "      <td>86</td>\n",
       "      <td>84</td>\n",
       "      <td>40</td>\n",
       "      <td>55</td>\n",
       "      <td>40</td>\n",
       "      <td>60</td>\n",
       "    </tr>\n",
       "  </tbody>\n",
       "</table>\n",
       "</div>"
      ],
      "text/plain": [
       "      1    2   3   4   5   6   7   8   9   10\n",
       "Acct  99   94  81  70  88  90  41  61  42  68\n",
       "Eco   94   94  72  67  82  81  36  54  42  67\n",
       "Eng   95   89  71  69  82  79  51  60  45  66\n",
       "IP    94   87  79  65  89  81  42  63  43  64\n",
       "Math  97  100  65  69  86  84  40  55  40  60"
      ]
     },
     "execution_count": 39,
     "metadata": {},
     "output_type": "execute_result"
    }
   ],
   "source": [
    "mks2.head(n=5)"
   ]
  },
  {
   "cell_type": "code",
   "execution_count": 40,
   "id": "32a67cd5",
   "metadata": {},
   "outputs": [
    {
     "data": {
      "text/html": [
       "<div>\n",
       "<style scoped>\n",
       "    .dataframe tbody tr th:only-of-type {\n",
       "        vertical-align: middle;\n",
       "    }\n",
       "\n",
       "    .dataframe tbody tr th {\n",
       "        vertical-align: top;\n",
       "    }\n",
       "\n",
       "    .dataframe thead th {\n",
       "        text-align: right;\n",
       "    }\n",
       "</style>\n",
       "<table border=\"1\" class=\"dataframe\">\n",
       "  <thead>\n",
       "    <tr style=\"text-align: right;\">\n",
       "      <th></th>\n",
       "      <th>Rice</th>\n",
       "      <th>Wheat</th>\n",
       "      <th>Pulses</th>\n",
       "      <th>Fruits</th>\n",
       "    </tr>\n",
       "  </thead>\n",
       "  <tbody>\n",
       "    <tr>\n",
       "      <th>Punjab</th>\n",
       "      <td>11586.2</td>\n",
       "      <td>16440.5</td>\n",
       "      <td>33.0</td>\n",
       "      <td>7152.00</td>\n",
       "    </tr>\n",
       "    <tr>\n",
       "      <th>Tripura</th>\n",
       "      <td>814.6</td>\n",
       "      <td>0.5</td>\n",
       "      <td>23.2</td>\n",
       "      <td>44.10</td>\n",
       "    </tr>\n",
       "    <tr>\n",
       "      <th>Uttar P.</th>\n",
       "      <td>13754.0</td>\n",
       "      <td>30056.0</td>\n",
       "      <td>2184.4</td>\n",
       "      <td>140169.92</td>\n",
       "    </tr>\n",
       "  </tbody>\n",
       "</table>\n",
       "</div>"
      ],
      "text/plain": [
       "             Rice    Wheat  Pulses     Fruits\n",
       "Punjab    11586.2  16440.5    33.0    7152.00\n",
       "Tripura     814.6      0.5    23.2      44.10\n",
       "Uttar P.  13754.0  30056.0  2184.4  140169.92"
      ]
     },
     "execution_count": 40,
     "metadata": {},
     "output_type": "execute_result"
    }
   ],
   "source": [
    "prodf.tail(n=3) "
   ]
  },
  {
   "cell_type": "markdown",
   "id": "cacb9e4e",
   "metadata": {},
   "source": [
    "# Cumulative Calculations Functions"
   ]
  },
  {
   "cell_type": "markdown",
   "id": "d3f0ebd6",
   "metadata": {},
   "source": [
    "cumsum() : Calculates cumulative sum value of each row, i.e. value of each row is replaced by sum of \n",
    "           all prior rows including this row. String value rows use concatenation. \n",
    "        \n",
    "           df.cumsum([axis= rows/columns])   column-wise/row-wise cumulative sum calculated and displayed.\n",
    "           \n",
    "           By Default its column-wise i.e. [axis = 'rows']\n",
    "\n",
    "cumprod() : gives cumulative product of values.\n",
    "    \n",
    "cummax()  : gives cumulative maximum of values.  \n",
    "    \n",
    "cummin()  : gives cumulative minimum of values.      "
   ]
  },
  {
   "cell_type": "code",
   "execution_count": 41,
   "id": "6a734401",
   "metadata": {},
   "outputs": [
    {
     "data": {
      "text/html": [
       "<div>\n",
       "<style scoped>\n",
       "    .dataframe tbody tr th:only-of-type {\n",
       "        vertical-align: middle;\n",
       "    }\n",
       "\n",
       "    .dataframe tbody tr th {\n",
       "        vertical-align: top;\n",
       "    }\n",
       "\n",
       "    .dataframe thead th {\n",
       "        text-align: right;\n",
       "    }\n",
       "</style>\n",
       "<table border=\"1\" class=\"dataframe\">\n",
       "  <thead>\n",
       "    <tr style=\"text-align: right;\">\n",
       "      <th></th>\n",
       "      <th>1</th>\n",
       "      <th>2</th>\n",
       "      <th>3</th>\n",
       "      <th>4</th>\n",
       "      <th>5</th>\n",
       "      <th>6</th>\n",
       "      <th>7</th>\n",
       "      <th>8</th>\n",
       "      <th>9</th>\n",
       "      <th>10</th>\n",
       "    </tr>\n",
       "  </thead>\n",
       "  <tbody>\n",
       "    <tr>\n",
       "      <th>Acct</th>\n",
       "      <td>99</td>\n",
       "      <td>193</td>\n",
       "      <td>274</td>\n",
       "      <td>344</td>\n",
       "      <td>432</td>\n",
       "      <td>522</td>\n",
       "      <td>563</td>\n",
       "      <td>624</td>\n",
       "      <td>666</td>\n",
       "      <td>734</td>\n",
       "    </tr>\n",
       "    <tr>\n",
       "      <th>Eco</th>\n",
       "      <td>94</td>\n",
       "      <td>188</td>\n",
       "      <td>260</td>\n",
       "      <td>327</td>\n",
       "      <td>409</td>\n",
       "      <td>490</td>\n",
       "      <td>526</td>\n",
       "      <td>580</td>\n",
       "      <td>622</td>\n",
       "      <td>689</td>\n",
       "    </tr>\n",
       "    <tr>\n",
       "      <th>Eng</th>\n",
       "      <td>95</td>\n",
       "      <td>184</td>\n",
       "      <td>255</td>\n",
       "      <td>324</td>\n",
       "      <td>406</td>\n",
       "      <td>485</td>\n",
       "      <td>536</td>\n",
       "      <td>596</td>\n",
       "      <td>641</td>\n",
       "      <td>707</td>\n",
       "    </tr>\n",
       "    <tr>\n",
       "      <th>IP</th>\n",
       "      <td>94</td>\n",
       "      <td>181</td>\n",
       "      <td>260</td>\n",
       "      <td>325</td>\n",
       "      <td>414</td>\n",
       "      <td>495</td>\n",
       "      <td>537</td>\n",
       "      <td>600</td>\n",
       "      <td>643</td>\n",
       "      <td>707</td>\n",
       "    </tr>\n",
       "    <tr>\n",
       "      <th>Math</th>\n",
       "      <td>97</td>\n",
       "      <td>197</td>\n",
       "      <td>262</td>\n",
       "      <td>331</td>\n",
       "      <td>417</td>\n",
       "      <td>501</td>\n",
       "      <td>541</td>\n",
       "      <td>596</td>\n",
       "      <td>636</td>\n",
       "      <td>696</td>\n",
       "    </tr>\n",
       "  </tbody>\n",
       "</table>\n",
       "</div>"
      ],
      "text/plain": [
       "      1    2    3    4    5    6    7    8    9    10\n",
       "Acct  99  193  274  344  432  522  563  624  666  734\n",
       "Eco   94  188  260  327  409  490  526  580  622  689\n",
       "Eng   95  184  255  324  406  485  536  596  641  707\n",
       "IP    94  181  260  325  414  495  537  600  643  707\n",
       "Math  97  197  262  331  417  501  541  596  636  696"
      ]
     },
     "execution_count": 41,
     "metadata": {},
     "output_type": "execute_result"
    }
   ],
   "source": [
    "mks2.cumsum(axis='columns')   # for each row-wise  "
   ]
  },
  {
   "cell_type": "code",
   "execution_count": 42,
   "id": "abe32d92",
   "metadata": {},
   "outputs": [
    {
     "data": {
      "text/html": [
       "<div>\n",
       "<style scoped>\n",
       "    .dataframe tbody tr th:only-of-type {\n",
       "        vertical-align: middle;\n",
       "    }\n",
       "\n",
       "    .dataframe tbody tr th {\n",
       "        vertical-align: top;\n",
       "    }\n",
       "\n",
       "    .dataframe thead th {\n",
       "        text-align: right;\n",
       "    }\n",
       "</style>\n",
       "<table border=\"1\" class=\"dataframe\">\n",
       "  <thead>\n",
       "    <tr style=\"text-align: right;\">\n",
       "      <th></th>\n",
       "      <th>1</th>\n",
       "      <th>2</th>\n",
       "      <th>3</th>\n",
       "      <th>4</th>\n",
       "      <th>5</th>\n",
       "      <th>6</th>\n",
       "      <th>7</th>\n",
       "      <th>8</th>\n",
       "      <th>9</th>\n",
       "      <th>10</th>\n",
       "    </tr>\n",
       "  </thead>\n",
       "  <tbody>\n",
       "    <tr>\n",
       "      <th>Acct</th>\n",
       "      <td>99</td>\n",
       "      <td>94</td>\n",
       "      <td>81</td>\n",
       "      <td>70</td>\n",
       "      <td>88</td>\n",
       "      <td>90</td>\n",
       "      <td>41</td>\n",
       "      <td>61</td>\n",
       "      <td>42</td>\n",
       "      <td>68</td>\n",
       "    </tr>\n",
       "    <tr>\n",
       "      <th>Eco</th>\n",
       "      <td>193</td>\n",
       "      <td>188</td>\n",
       "      <td>153</td>\n",
       "      <td>137</td>\n",
       "      <td>170</td>\n",
       "      <td>171</td>\n",
       "      <td>77</td>\n",
       "      <td>115</td>\n",
       "      <td>84</td>\n",
       "      <td>135</td>\n",
       "    </tr>\n",
       "    <tr>\n",
       "      <th>Eng</th>\n",
       "      <td>288</td>\n",
       "      <td>277</td>\n",
       "      <td>224</td>\n",
       "      <td>206</td>\n",
       "      <td>252</td>\n",
       "      <td>250</td>\n",
       "      <td>128</td>\n",
       "      <td>175</td>\n",
       "      <td>129</td>\n",
       "      <td>201</td>\n",
       "    </tr>\n",
       "    <tr>\n",
       "      <th>IP</th>\n",
       "      <td>382</td>\n",
       "      <td>364</td>\n",
       "      <td>303</td>\n",
       "      <td>271</td>\n",
       "      <td>341</td>\n",
       "      <td>331</td>\n",
       "      <td>170</td>\n",
       "      <td>238</td>\n",
       "      <td>172</td>\n",
       "      <td>265</td>\n",
       "    </tr>\n",
       "    <tr>\n",
       "      <th>Math</th>\n",
       "      <td>479</td>\n",
       "      <td>464</td>\n",
       "      <td>368</td>\n",
       "      <td>340</td>\n",
       "      <td>427</td>\n",
       "      <td>415</td>\n",
       "      <td>210</td>\n",
       "      <td>293</td>\n",
       "      <td>212</td>\n",
       "      <td>325</td>\n",
       "    </tr>\n",
       "  </tbody>\n",
       "</table>\n",
       "</div>"
      ],
      "text/plain": [
       "       1    2    3    4    5    6    7    8    9    10\n",
       "Acct   99   94   81   70   88   90   41   61   42   68\n",
       "Eco   193  188  153  137  170  171   77  115   84  135\n",
       "Eng   288  277  224  206  252  250  128  175  129  201\n",
       "IP    382  364  303  271  341  331  170  238  172  265\n",
       "Math  479  464  368  340  427  415  210  293  212  325"
      ]
     },
     "execution_count": 42,
     "metadata": {},
     "output_type": "execute_result"
    }
   ],
   "source": [
    "mks2.cumsum(axis='rows')    # for each column-wise"
   ]
  },
  {
   "cell_type": "code",
   "execution_count": 43,
   "id": "ffbe5099",
   "metadata": {},
   "outputs": [
    {
     "data": {
      "text/html": [
       "<div>\n",
       "<style scoped>\n",
       "    .dataframe tbody tr th:only-of-type {\n",
       "        vertical-align: middle;\n",
       "    }\n",
       "\n",
       "    .dataframe tbody tr th {\n",
       "        vertical-align: top;\n",
       "    }\n",
       "\n",
       "    .dataframe thead th {\n",
       "        text-align: right;\n",
       "    }\n",
       "</style>\n",
       "<table border=\"1\" class=\"dataframe\">\n",
       "  <thead>\n",
       "    <tr style=\"text-align: right;\">\n",
       "      <th></th>\n",
       "      <th>1</th>\n",
       "      <th>2</th>\n",
       "      <th>3</th>\n",
       "      <th>4</th>\n",
       "      <th>5</th>\n",
       "      <th>6</th>\n",
       "      <th>7</th>\n",
       "      <th>8</th>\n",
       "      <th>9</th>\n",
       "      <th>10</th>\n",
       "    </tr>\n",
       "  </thead>\n",
       "  <tbody>\n",
       "    <tr>\n",
       "      <th>Acct</th>\n",
       "      <td>99</td>\n",
       "      <td>94</td>\n",
       "      <td>81</td>\n",
       "      <td>70</td>\n",
       "      <td>88</td>\n",
       "      <td>90</td>\n",
       "      <td>41</td>\n",
       "      <td>61</td>\n",
       "      <td>42</td>\n",
       "      <td>68</td>\n",
       "    </tr>\n",
       "    <tr>\n",
       "      <th>Eco</th>\n",
       "      <td>9306</td>\n",
       "      <td>8836</td>\n",
       "      <td>5832</td>\n",
       "      <td>4690</td>\n",
       "      <td>7216</td>\n",
       "      <td>7290</td>\n",
       "      <td>1476</td>\n",
       "      <td>3294</td>\n",
       "      <td>1764</td>\n",
       "      <td>4556</td>\n",
       "    </tr>\n",
       "    <tr>\n",
       "      <th>Eng</th>\n",
       "      <td>884070</td>\n",
       "      <td>786404</td>\n",
       "      <td>414072</td>\n",
       "      <td>323610</td>\n",
       "      <td>591712</td>\n",
       "      <td>575910</td>\n",
       "      <td>75276</td>\n",
       "      <td>197640</td>\n",
       "      <td>79380</td>\n",
       "      <td>300696</td>\n",
       "    </tr>\n",
       "    <tr>\n",
       "      <th>IP</th>\n",
       "      <td>83102580</td>\n",
       "      <td>68417148</td>\n",
       "      <td>32711688</td>\n",
       "      <td>21034650</td>\n",
       "      <td>52662368</td>\n",
       "      <td>46648710</td>\n",
       "      <td>3161592</td>\n",
       "      <td>12451320</td>\n",
       "      <td>3413340</td>\n",
       "      <td>19244544</td>\n",
       "    </tr>\n",
       "    <tr>\n",
       "      <th>Math</th>\n",
       "      <td>8060950260</td>\n",
       "      <td>6841714800</td>\n",
       "      <td>2126259720</td>\n",
       "      <td>1451390850</td>\n",
       "      <td>4528963648</td>\n",
       "      <td>3918491640</td>\n",
       "      <td>126463680</td>\n",
       "      <td>684822600</td>\n",
       "      <td>136533600</td>\n",
       "      <td>1154672640</td>\n",
       "    </tr>\n",
       "  </tbody>\n",
       "</table>\n",
       "</div>"
      ],
      "text/plain": [
       "              1           2           3           4           5           6   \\\n",
       "Acct          99          94          81          70          88          90   \n",
       "Eco         9306        8836        5832        4690        7216        7290   \n",
       "Eng       884070      786404      414072      323610      591712      575910   \n",
       "IP      83102580    68417148    32711688    21034650    52662368    46648710   \n",
       "Math  8060950260  6841714800  2126259720  1451390850  4528963648  3918491640   \n",
       "\n",
       "             7          8          9           10  \n",
       "Acct         41         61         42          68  \n",
       "Eco        1476       3294       1764        4556  \n",
       "Eng       75276     197640      79380      300696  \n",
       "IP      3161592   12451320    3413340    19244544  \n",
       "Math  126463680  684822600  136533600  1154672640  "
      ]
     },
     "execution_count": 43,
     "metadata": {},
     "output_type": "execute_result"
    }
   ],
   "source": [
    "mks2.cumprod()"
   ]
  },
  {
   "cell_type": "code",
   "execution_count": 44,
   "id": "58875862",
   "metadata": {},
   "outputs": [
    {
     "data": {
      "text/html": [
       "<div>\n",
       "<style scoped>\n",
       "    .dataframe tbody tr th:only-of-type {\n",
       "        vertical-align: middle;\n",
       "    }\n",
       "\n",
       "    .dataframe tbody tr th {\n",
       "        vertical-align: top;\n",
       "    }\n",
       "\n",
       "    .dataframe thead th {\n",
       "        text-align: right;\n",
       "    }\n",
       "</style>\n",
       "<table border=\"1\" class=\"dataframe\">\n",
       "  <thead>\n",
       "    <tr style=\"text-align: right;\">\n",
       "      <th></th>\n",
       "      <th>1</th>\n",
       "      <th>2</th>\n",
       "      <th>3</th>\n",
       "      <th>4</th>\n",
       "      <th>5</th>\n",
       "      <th>6</th>\n",
       "      <th>7</th>\n",
       "      <th>8</th>\n",
       "      <th>9</th>\n",
       "      <th>10</th>\n",
       "    </tr>\n",
       "  </thead>\n",
       "  <tbody>\n",
       "    <tr>\n",
       "      <th>Acct</th>\n",
       "      <td>99</td>\n",
       "      <td>9306</td>\n",
       "      <td>753786</td>\n",
       "      <td>52765020</td>\n",
       "      <td>4643321760</td>\n",
       "      <td>417898958400</td>\n",
       "      <td>17133857294400</td>\n",
       "      <td>1045165294958400</td>\n",
       "      <td>43896942388252800</td>\n",
       "      <td>2984992082401190400</td>\n",
       "    </tr>\n",
       "    <tr>\n",
       "      <th>Eco</th>\n",
       "      <td>94</td>\n",
       "      <td>8836</td>\n",
       "      <td>636192</td>\n",
       "      <td>42624864</td>\n",
       "      <td>3495238848</td>\n",
       "      <td>283114346688</td>\n",
       "      <td>10192116480768</td>\n",
       "      <td>550374289961472</td>\n",
       "      <td>23115720178381824</td>\n",
       "      <td>1548753251951582208</td>\n",
       "    </tr>\n",
       "    <tr>\n",
       "      <th>Eng</th>\n",
       "      <td>95</td>\n",
       "      <td>8455</td>\n",
       "      <td>600305</td>\n",
       "      <td>41421045</td>\n",
       "      <td>3396525690</td>\n",
       "      <td>268325529510</td>\n",
       "      <td>13684602005010</td>\n",
       "      <td>821076120300600</td>\n",
       "      <td>36948425413527000</td>\n",
       "      <td>2438596077292782000</td>\n",
       "    </tr>\n",
       "    <tr>\n",
       "      <th>IP</th>\n",
       "      <td>94</td>\n",
       "      <td>8178</td>\n",
       "      <td>646062</td>\n",
       "      <td>41994030</td>\n",
       "      <td>3737468670</td>\n",
       "      <td>302734962270</td>\n",
       "      <td>12714868415340</td>\n",
       "      <td>801036710166420</td>\n",
       "      <td>34444578537156060</td>\n",
       "      <td>2204453026377987840</td>\n",
       "    </tr>\n",
       "    <tr>\n",
       "      <th>Math</th>\n",
       "      <td>97</td>\n",
       "      <td>9700</td>\n",
       "      <td>630500</td>\n",
       "      <td>43504500</td>\n",
       "      <td>3741387000</td>\n",
       "      <td>314276508000</td>\n",
       "      <td>12571060320000</td>\n",
       "      <td>691408317600000</td>\n",
       "      <td>27656332704000000</td>\n",
       "      <td>1659379962240000000</td>\n",
       "    </tr>\n",
       "  </tbody>\n",
       "</table>\n",
       "</div>"
      ],
      "text/plain": [
       "      1     2       3         4           5             6               7   \\\n",
       "Acct  99  9306  753786  52765020  4643321760  417898958400  17133857294400   \n",
       "Eco   94  8836  636192  42624864  3495238848  283114346688  10192116480768   \n",
       "Eng   95  8455  600305  41421045  3396525690  268325529510  13684602005010   \n",
       "IP    94  8178  646062  41994030  3737468670  302734962270  12714868415340   \n",
       "Math  97  9700  630500  43504500  3741387000  314276508000  12571060320000   \n",
       "\n",
       "                    8                  9                    10  \n",
       "Acct  1045165294958400  43896942388252800  2984992082401190400  \n",
       "Eco    550374289961472  23115720178381824  1548753251951582208  \n",
       "Eng    821076120300600  36948425413527000  2438596077292782000  \n",
       "IP     801036710166420  34444578537156060  2204453026377987840  \n",
       "Math   691408317600000  27656332704000000  1659379962240000000  "
      ]
     },
     "execution_count": 44,
     "metadata": {},
     "output_type": "execute_result"
    }
   ],
   "source": [
    "mks2.cumprod(axis= 'columns')"
   ]
  },
  {
   "cell_type": "code",
   "execution_count": 45,
   "id": "f7a35d00",
   "metadata": {},
   "outputs": [
    {
     "data": {
      "text/html": [
       "<div>\n",
       "<style scoped>\n",
       "    .dataframe tbody tr th:only-of-type {\n",
       "        vertical-align: middle;\n",
       "    }\n",
       "\n",
       "    .dataframe tbody tr th {\n",
       "        vertical-align: top;\n",
       "    }\n",
       "\n",
       "    .dataframe thead th {\n",
       "        text-align: right;\n",
       "    }\n",
       "</style>\n",
       "<table border=\"1\" class=\"dataframe\">\n",
       "  <thead>\n",
       "    <tr style=\"text-align: right;\">\n",
       "      <th></th>\n",
       "      <th>1</th>\n",
       "      <th>2</th>\n",
       "      <th>3</th>\n",
       "      <th>4</th>\n",
       "      <th>5</th>\n",
       "      <th>6</th>\n",
       "      <th>7</th>\n",
       "      <th>8</th>\n",
       "      <th>9</th>\n",
       "      <th>10</th>\n",
       "    </tr>\n",
       "  </thead>\n",
       "  <tbody>\n",
       "    <tr>\n",
       "      <th>Acct</th>\n",
       "      <td>99</td>\n",
       "      <td>94</td>\n",
       "      <td>81</td>\n",
       "      <td>70</td>\n",
       "      <td>88</td>\n",
       "      <td>90</td>\n",
       "      <td>41</td>\n",
       "      <td>61</td>\n",
       "      <td>42</td>\n",
       "      <td>68</td>\n",
       "    </tr>\n",
       "    <tr>\n",
       "      <th>Eco</th>\n",
       "      <td>94</td>\n",
       "      <td>94</td>\n",
       "      <td>72</td>\n",
       "      <td>67</td>\n",
       "      <td>82</td>\n",
       "      <td>81</td>\n",
       "      <td>36</td>\n",
       "      <td>54</td>\n",
       "      <td>42</td>\n",
       "      <td>67</td>\n",
       "    </tr>\n",
       "    <tr>\n",
       "      <th>Eng</th>\n",
       "      <td>95</td>\n",
       "      <td>89</td>\n",
       "      <td>71</td>\n",
       "      <td>69</td>\n",
       "      <td>82</td>\n",
       "      <td>79</td>\n",
       "      <td>51</td>\n",
       "      <td>60</td>\n",
       "      <td>45</td>\n",
       "      <td>66</td>\n",
       "    </tr>\n",
       "    <tr>\n",
       "      <th>IP</th>\n",
       "      <td>94</td>\n",
       "      <td>87</td>\n",
       "      <td>79</td>\n",
       "      <td>65</td>\n",
       "      <td>89</td>\n",
       "      <td>81</td>\n",
       "      <td>42</td>\n",
       "      <td>63</td>\n",
       "      <td>43</td>\n",
       "      <td>64</td>\n",
       "    </tr>\n",
       "    <tr>\n",
       "      <th>Math</th>\n",
       "      <td>97</td>\n",
       "      <td>100</td>\n",
       "      <td>65</td>\n",
       "      <td>69</td>\n",
       "      <td>86</td>\n",
       "      <td>84</td>\n",
       "      <td>40</td>\n",
       "      <td>55</td>\n",
       "      <td>40</td>\n",
       "      <td>60</td>\n",
       "    </tr>\n",
       "  </tbody>\n",
       "</table>\n",
       "</div>"
      ],
      "text/plain": [
       "      1    2   3   4   5   6   7   8   9   10\n",
       "Acct  99   94  81  70  88  90  41  61  42  68\n",
       "Eco   94   94  72  67  82  81  36  54  42  67\n",
       "Eng   95   89  71  69  82  79  51  60  45  66\n",
       "IP    94   87  79  65  89  81  42  63  43  64\n",
       "Math  97  100  65  69  86  84  40  55  40  60"
      ]
     },
     "execution_count": 45,
     "metadata": {},
     "output_type": "execute_result"
    }
   ],
   "source": [
    "mks2"
   ]
  },
  {
   "cell_type": "code",
   "execution_count": 46,
   "id": "61ea4460",
   "metadata": {},
   "outputs": [
    {
     "data": {
      "text/html": [
       "<div>\n",
       "<style scoped>\n",
       "    .dataframe tbody tr th:only-of-type {\n",
       "        vertical-align: middle;\n",
       "    }\n",
       "\n",
       "    .dataframe tbody tr th {\n",
       "        vertical-align: top;\n",
       "    }\n",
       "\n",
       "    .dataframe thead th {\n",
       "        text-align: right;\n",
       "    }\n",
       "</style>\n",
       "<table border=\"1\" class=\"dataframe\">\n",
       "  <thead>\n",
       "    <tr style=\"text-align: right;\">\n",
       "      <th></th>\n",
       "      <th>1</th>\n",
       "      <th>2</th>\n",
       "      <th>3</th>\n",
       "      <th>4</th>\n",
       "      <th>5</th>\n",
       "      <th>6</th>\n",
       "      <th>7</th>\n",
       "      <th>8</th>\n",
       "      <th>9</th>\n",
       "      <th>10</th>\n",
       "    </tr>\n",
       "  </thead>\n",
       "  <tbody>\n",
       "    <tr>\n",
       "      <th>Acct</th>\n",
       "      <td>99</td>\n",
       "      <td>94</td>\n",
       "      <td>81</td>\n",
       "      <td>70</td>\n",
       "      <td>88</td>\n",
       "      <td>90</td>\n",
       "      <td>41</td>\n",
       "      <td>61</td>\n",
       "      <td>42</td>\n",
       "      <td>68</td>\n",
       "    </tr>\n",
       "    <tr>\n",
       "      <th>Eco</th>\n",
       "      <td>99</td>\n",
       "      <td>94</td>\n",
       "      <td>81</td>\n",
       "      <td>70</td>\n",
       "      <td>88</td>\n",
       "      <td>90</td>\n",
       "      <td>41</td>\n",
       "      <td>61</td>\n",
       "      <td>42</td>\n",
       "      <td>68</td>\n",
       "    </tr>\n",
       "    <tr>\n",
       "      <th>Eng</th>\n",
       "      <td>99</td>\n",
       "      <td>94</td>\n",
       "      <td>81</td>\n",
       "      <td>70</td>\n",
       "      <td>88</td>\n",
       "      <td>90</td>\n",
       "      <td>51</td>\n",
       "      <td>61</td>\n",
       "      <td>45</td>\n",
       "      <td>68</td>\n",
       "    </tr>\n",
       "    <tr>\n",
       "      <th>IP</th>\n",
       "      <td>99</td>\n",
       "      <td>94</td>\n",
       "      <td>81</td>\n",
       "      <td>70</td>\n",
       "      <td>89</td>\n",
       "      <td>90</td>\n",
       "      <td>51</td>\n",
       "      <td>63</td>\n",
       "      <td>45</td>\n",
       "      <td>68</td>\n",
       "    </tr>\n",
       "    <tr>\n",
       "      <th>Math</th>\n",
       "      <td>99</td>\n",
       "      <td>100</td>\n",
       "      <td>81</td>\n",
       "      <td>70</td>\n",
       "      <td>89</td>\n",
       "      <td>90</td>\n",
       "      <td>51</td>\n",
       "      <td>63</td>\n",
       "      <td>45</td>\n",
       "      <td>68</td>\n",
       "    </tr>\n",
       "  </tbody>\n",
       "</table>\n",
       "</div>"
      ],
      "text/plain": [
       "      1    2   3   4   5   6   7   8   9   10\n",
       "Acct  99   94  81  70  88  90  41  61  42  68\n",
       "Eco   99   94  81  70  88  90  41  61  42  68\n",
       "Eng   99   94  81  70  88  90  51  61  45  68\n",
       "IP    99   94  81  70  89  90  51  63  45  68\n",
       "Math  99  100  81  70  89  90  51  63  45  68"
      ]
     },
     "execution_count": 46,
     "metadata": {},
     "output_type": "execute_result"
    }
   ],
   "source": [
    "mks2.cummax()"
   ]
  },
  {
   "cell_type": "code",
   "execution_count": 47,
   "id": "0e853743",
   "metadata": {},
   "outputs": [
    {
     "data": {
      "text/html": [
       "<div>\n",
       "<style scoped>\n",
       "    .dataframe tbody tr th:only-of-type {\n",
       "        vertical-align: middle;\n",
       "    }\n",
       "\n",
       "    .dataframe tbody tr th {\n",
       "        vertical-align: top;\n",
       "    }\n",
       "\n",
       "    .dataframe thead th {\n",
       "        text-align: right;\n",
       "    }\n",
       "</style>\n",
       "<table border=\"1\" class=\"dataframe\">\n",
       "  <thead>\n",
       "    <tr style=\"text-align: right;\">\n",
       "      <th></th>\n",
       "      <th>1</th>\n",
       "      <th>2</th>\n",
       "      <th>3</th>\n",
       "      <th>4</th>\n",
       "      <th>5</th>\n",
       "      <th>6</th>\n",
       "      <th>7</th>\n",
       "      <th>8</th>\n",
       "      <th>9</th>\n",
       "      <th>10</th>\n",
       "    </tr>\n",
       "  </thead>\n",
       "  <tbody>\n",
       "    <tr>\n",
       "      <th>Acct</th>\n",
       "      <td>99</td>\n",
       "      <td>99</td>\n",
       "      <td>99</td>\n",
       "      <td>99</td>\n",
       "      <td>99</td>\n",
       "      <td>99</td>\n",
       "      <td>99</td>\n",
       "      <td>99</td>\n",
       "      <td>99</td>\n",
       "      <td>99</td>\n",
       "    </tr>\n",
       "    <tr>\n",
       "      <th>Eco</th>\n",
       "      <td>94</td>\n",
       "      <td>94</td>\n",
       "      <td>94</td>\n",
       "      <td>94</td>\n",
       "      <td>94</td>\n",
       "      <td>94</td>\n",
       "      <td>94</td>\n",
       "      <td>94</td>\n",
       "      <td>94</td>\n",
       "      <td>94</td>\n",
       "    </tr>\n",
       "    <tr>\n",
       "      <th>Eng</th>\n",
       "      <td>95</td>\n",
       "      <td>95</td>\n",
       "      <td>95</td>\n",
       "      <td>95</td>\n",
       "      <td>95</td>\n",
       "      <td>95</td>\n",
       "      <td>95</td>\n",
       "      <td>95</td>\n",
       "      <td>95</td>\n",
       "      <td>95</td>\n",
       "    </tr>\n",
       "    <tr>\n",
       "      <th>IP</th>\n",
       "      <td>94</td>\n",
       "      <td>94</td>\n",
       "      <td>94</td>\n",
       "      <td>94</td>\n",
       "      <td>94</td>\n",
       "      <td>94</td>\n",
       "      <td>94</td>\n",
       "      <td>94</td>\n",
       "      <td>94</td>\n",
       "      <td>94</td>\n",
       "    </tr>\n",
       "    <tr>\n",
       "      <th>Math</th>\n",
       "      <td>97</td>\n",
       "      <td>100</td>\n",
       "      <td>100</td>\n",
       "      <td>100</td>\n",
       "      <td>100</td>\n",
       "      <td>100</td>\n",
       "      <td>100</td>\n",
       "      <td>100</td>\n",
       "      <td>100</td>\n",
       "      <td>100</td>\n",
       "    </tr>\n",
       "  </tbody>\n",
       "</table>\n",
       "</div>"
      ],
      "text/plain": [
       "      1    2    3    4    5    6    7    8    9    10\n",
       "Acct  99   99   99   99   99   99   99   99   99   99\n",
       "Eco   94   94   94   94   94   94   94   94   94   94\n",
       "Eng   95   95   95   95   95   95   95   95   95   95\n",
       "IP    94   94   94   94   94   94   94   94   94   94\n",
       "Math  97  100  100  100  100  100  100  100  100  100"
      ]
     },
     "execution_count": 47,
     "metadata": {},
     "output_type": "execute_result"
    }
   ],
   "source": [
    "mks2.cummax(axis= 'columns')"
   ]
  },
  {
   "cell_type": "code",
   "execution_count": 48,
   "id": "12740ba4",
   "metadata": {},
   "outputs": [
    {
     "data": {
      "text/html": [
       "<div>\n",
       "<style scoped>\n",
       "    .dataframe tbody tr th:only-of-type {\n",
       "        vertical-align: middle;\n",
       "    }\n",
       "\n",
       "    .dataframe tbody tr th {\n",
       "        vertical-align: top;\n",
       "    }\n",
       "\n",
       "    .dataframe thead th {\n",
       "        text-align: right;\n",
       "    }\n",
       "</style>\n",
       "<table border=\"1\" class=\"dataframe\">\n",
       "  <thead>\n",
       "    <tr style=\"text-align: right;\">\n",
       "      <th></th>\n",
       "      <th>1</th>\n",
       "      <th>2</th>\n",
       "      <th>3</th>\n",
       "      <th>4</th>\n",
       "      <th>5</th>\n",
       "      <th>6</th>\n",
       "      <th>7</th>\n",
       "      <th>8</th>\n",
       "      <th>9</th>\n",
       "      <th>10</th>\n",
       "    </tr>\n",
       "  </thead>\n",
       "  <tbody>\n",
       "    <tr>\n",
       "      <th>Acct</th>\n",
       "      <td>99</td>\n",
       "      <td>94</td>\n",
       "      <td>81</td>\n",
       "      <td>70</td>\n",
       "      <td>70</td>\n",
       "      <td>70</td>\n",
       "      <td>41</td>\n",
       "      <td>41</td>\n",
       "      <td>41</td>\n",
       "      <td>41</td>\n",
       "    </tr>\n",
       "    <tr>\n",
       "      <th>Eco</th>\n",
       "      <td>94</td>\n",
       "      <td>94</td>\n",
       "      <td>72</td>\n",
       "      <td>67</td>\n",
       "      <td>67</td>\n",
       "      <td>67</td>\n",
       "      <td>36</td>\n",
       "      <td>36</td>\n",
       "      <td>36</td>\n",
       "      <td>36</td>\n",
       "    </tr>\n",
       "    <tr>\n",
       "      <th>Eng</th>\n",
       "      <td>95</td>\n",
       "      <td>89</td>\n",
       "      <td>71</td>\n",
       "      <td>69</td>\n",
       "      <td>69</td>\n",
       "      <td>69</td>\n",
       "      <td>51</td>\n",
       "      <td>51</td>\n",
       "      <td>45</td>\n",
       "      <td>45</td>\n",
       "    </tr>\n",
       "    <tr>\n",
       "      <th>IP</th>\n",
       "      <td>94</td>\n",
       "      <td>87</td>\n",
       "      <td>79</td>\n",
       "      <td>65</td>\n",
       "      <td>65</td>\n",
       "      <td>65</td>\n",
       "      <td>42</td>\n",
       "      <td>42</td>\n",
       "      <td>42</td>\n",
       "      <td>42</td>\n",
       "    </tr>\n",
       "    <tr>\n",
       "      <th>Math</th>\n",
       "      <td>97</td>\n",
       "      <td>97</td>\n",
       "      <td>65</td>\n",
       "      <td>65</td>\n",
       "      <td>65</td>\n",
       "      <td>65</td>\n",
       "      <td>40</td>\n",
       "      <td>40</td>\n",
       "      <td>40</td>\n",
       "      <td>40</td>\n",
       "    </tr>\n",
       "  </tbody>\n",
       "</table>\n",
       "</div>"
      ],
      "text/plain": [
       "      1   2   3   4   5   6   7   8   9   10\n",
       "Acct  99  94  81  70  70  70  41  41  41  41\n",
       "Eco   94  94  72  67  67  67  36  36  36  36\n",
       "Eng   95  89  71  69  69  69  51  51  45  45\n",
       "IP    94  87  79  65  65  65  42  42  42  42\n",
       "Math  97  97  65  65  65  65  40  40  40  40"
      ]
     },
     "execution_count": 48,
     "metadata": {},
     "output_type": "execute_result"
    }
   ],
   "source": [
    "mks2.cummin(axis= 'columns')"
   ]
  },
  {
   "cell_type": "markdown",
   "id": "e03da344",
   "metadata": {},
   "source": [
    "# Applying Functions on a Sub-set of DataFrame\n",
    "\n"
   ]
  },
  {
   "cell_type": "markdown",
   "id": "89d4c5c1",
   "metadata": {},
   "source": [
    "# (A) Applying Functions on a column of a DataFrame"
   ]
  },
  {
   "cell_type": "markdown",
   "id": "5a1a5286",
   "metadata": {},
   "source": [
    "df['Column_name'].func()     \n",
    "\n",
    "Applying Functions on individual column of a DataFrame"
   ]
  },
  {
   "cell_type": "code",
   "execution_count": 49,
   "id": "64e570f4",
   "metadata": {},
   "outputs": [
    {
     "data": {
      "text/plain": [
       "4"
      ]
     },
     "execution_count": 49,
     "metadata": {},
     "output_type": "execute_result"
    }
   ],
   "source": [
    "prodf['Wheat'].count()"
   ]
  },
  {
   "cell_type": "code",
   "execution_count": 50,
   "id": "d0a241a4",
   "metadata": {},
   "outputs": [
    {
     "data": {
      "text/plain": [
       "44.1"
      ]
     },
     "execution_count": 50,
     "metadata": {},
     "output_type": "execute_result"
    }
   ],
   "source": [
    "prodf['Fruits'].min()"
   ]
  },
  {
   "cell_type": "markdown",
   "id": "9c551c76",
   "metadata": {},
   "source": [
    "# (B) Applying Functions on Multiple columns of a DataFrame"
   ]
  },
  {
   "cell_type": "markdown",
   "id": "64757fcb",
   "metadata": {},
   "source": [
    "df[['Column_name','Column_name'......]].func()"
   ]
  },
  {
   "cell_type": "code",
   "execution_count": 51,
   "id": "7cc29629",
   "metadata": {},
   "outputs": [
    {
     "data": {
      "text/plain": [
       "Wheat     4\n",
       "Rice      6\n",
       "Fruits    6\n",
       "dtype: int64"
      ]
     },
     "execution_count": 51,
     "metadata": {},
     "output_type": "execute_result"
    }
   ],
   "source": [
    "prodf[['Wheat','Rice','Fruits']].count()"
   ]
  },
  {
   "cell_type": "markdown",
   "id": "a98e13f0",
   "metadata": {},
   "source": [
    "# (C)Applying Functions on a Row of a DataFrame"
   ]
  },
  {
   "cell_type": "markdown",
   "id": "e9ac3170",
   "metadata": {},
   "source": [
    "df.loc['row_label',:].func() \n",
    "\n",
    "df.iloc['row_index',:].func() "
   ]
  },
  {
   "cell_type": "code",
   "execution_count": 52,
   "id": "e3e46f6b",
   "metadata": {},
   "outputs": [
    {
     "data": {
      "text/plain": [
       "7452.4"
      ]
     },
     "execution_count": 52,
     "metadata": {},
     "output_type": "execute_result"
    }
   ],
   "source": [
    "prodf.loc['Andhra P.',:].median() "
   ]
  },
  {
   "cell_type": "code",
   "execution_count": 53,
   "id": "a9c37a2a",
   "metadata": {},
   "outputs": [
    {
     "data": {
      "text/plain": [
       "16440.5"
      ]
     },
     "execution_count": 53,
     "metadata": {},
     "output_type": "execute_result"
    }
   ],
   "source": [
    "prodf.iloc[3,:].max() "
   ]
  },
  {
   "cell_type": "markdown",
   "id": "4292dd7d",
   "metadata": {},
   "source": [
    "# (D)Applying Functions on a Range of Rows of a DataFrame"
   ]
  },
  {
   "cell_type": "markdown",
   "id": "0e9288fb",
   "metadata": {},
   "source": [
    "df.loc['start_row_label':'end_row_label',:].func(axis=1)   \n",
    "\n",
    "df.iloc['start_row_index':'end_row_index',:].func(axis=1)   "
   ]
  },
  {
   "cell_type": "code",
   "execution_count": 54,
   "id": "eb77bef1",
   "metadata": {},
   "outputs": [
    {
     "data": {
      "text/plain": [
       "Gujarat    11950.0\n",
       "Kerela      2604.8\n",
       "Punjab     16440.5\n",
       "Tripura      814.6\n",
       "dtype: float64"
      ]
     },
     "execution_count": 54,
     "metadata": {},
     "output_type": "execute_result"
    }
   ],
   "source": [
    "prodf.loc['Gujarat':'Tripura',:].max(axis=1)  "
   ]
  },
  {
   "cell_type": "code",
   "execution_count": 55,
   "id": "e0499f8a",
   "metadata": {},
   "outputs": [
    {
     "data": {
      "text/plain": [
       "Gujarat    4\n",
       "Kerela     3\n",
       "Punjab     4\n",
       "Tripura    4\n",
       "dtype: int64"
      ]
     },
     "execution_count": 55,
     "metadata": {},
     "output_type": "execute_result"
    }
   ],
   "source": [
    "prodf.loc['Gujarat':'Tripura',:].count(axis=1)  "
   ]
  },
  {
   "cell_type": "code",
   "execution_count": 56,
   "id": "3bfd4c43",
   "metadata": {},
   "outputs": [
    {
     "data": {
      "text/plain": [
       "Gujarat    4358.750000\n",
       "Kerela      906.533333\n",
       "Punjab     8802.925000\n",
       "Tripura     220.600000\n",
       "dtype: float64"
      ]
     },
     "execution_count": 56,
     "metadata": {},
     "output_type": "execute_result"
    }
   ],
   "source": [
    "prodf.loc['Gujarat':'Tripura',:].mean(axis=1)  "
   ]
  },
  {
   "cell_type": "markdown",
   "id": "1f54d6d1",
   "metadata": {},
   "source": [
    "# (E) Applying functions to Subset of the DataFrame"
   ]
  },
  {
   "cell_type": "markdown",
   "id": "f6df6871",
   "metadata": {},
   "source": [
    "df.loc['start_row_label':'end_row_label',:'start_column':'end_column'].func()\n",
    "\n",
    "df.iloc['start_row_index':'end_row_index',:'start_column':'end_column'].func() "
   ]
  },
  {
   "cell_type": "code",
   "execution_count": 57,
   "id": "b4dd74df",
   "metadata": {},
   "outputs": [
    {
     "data": {
      "text/plain": [
       "Wheat     3\n",
       "Pulses    4\n",
       "Fruits    4\n",
       "dtype: int64"
      ]
     },
     "execution_count": 57,
     "metadata": {},
     "output_type": "execute_result"
    }
   ],
   "source": [
    "prodf.loc['Gujarat':'Tripura','Wheat':'Fruits'].count()"
   ]
  },
  {
   "cell_type": "code",
   "execution_count": 58,
   "id": "1b0034f2",
   "metadata": {},
   "outputs": [
    {
     "data": {
      "text/plain": [
       "Kerela     2604.8\n",
       "Punjab    16440.5\n",
       "dtype: float64"
      ]
     },
     "execution_count": 58,
     "metadata": {},
     "output_type": "execute_result"
    }
   ],
   "source": [
    "prodf.iloc[2:4,:].max(axis=1)"
   ]
  },
  {
   "cell_type": "code",
   "execution_count": 59,
   "id": "6401cb14",
   "metadata": {},
   "outputs": [
    {
     "data": {
      "text/plain": [
       "Gujarat    0.0\n",
       "Kerela     0.0\n",
       "Punjab     0.0\n",
       "Tripura    0.0\n",
       "dtype: float64"
      ]
     },
     "execution_count": 59,
     "metadata": {},
     "output_type": "execute_result"
    }
   ],
   "source": [
    "prodf.iloc[1:5,:0:2].sum(axis=1)"
   ]
  },
  {
   "cell_type": "code",
   "execution_count": null,
   "id": "df323ad7",
   "metadata": {},
   "outputs": [],
   "source": []
  }
 ],
 "metadata": {
  "kernelspec": {
   "display_name": "Python 3 (ipykernel)",
   "language": "python",
   "name": "python3"
  },
  "language_info": {
   "codemirror_mode": {
    "name": "ipython",
    "version": 3
   },
   "file_extension": ".py",
   "mimetype": "text/x-python",
   "name": "python",
   "nbconvert_exporter": "python",
   "pygments_lexer": "ipython3",
   "version": "3.9.7"
  }
 },
 "nbformat": 4,
 "nbformat_minor": 5
}
